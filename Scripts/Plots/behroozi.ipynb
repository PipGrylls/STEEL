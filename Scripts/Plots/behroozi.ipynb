{
 "cells": [
  {
   "cell_type": "code",
   "execution_count": 2,
   "metadata": {},
   "outputs": [
    {
     "data": {
      "text/plain": [
       "'\\nimport time\\nimport os\\nimport sys\\nimport numpy as np\\nfrom fast_histogram import histogram1d, histogram2d\\nimport matplotlib as mpl\\n#mpl.use(\\'agg\\')\\n#import hmf\\nfrom Functions import Functions as F\\nimport multiprocessing\\nfrom numba import jit\\nfrom colossus.cosmology import cosmology\\nfrom colossus.halo.mass_defs import changeMassDefinition as CMD\\nfrom colossus.halo.mass_defs import pseudoEvolve as PE\\nfrom colossus.lss import mass_function\\nfrom colossus.halo.concentration import concentration as get_c\\nfrom colossus.halo.mass_so import M_to_R\\nfrom scipy.interpolate import interp1d\\nfrom halotools import empirical_models\\nfrom astropy.cosmology import Planck15 as Cosmo_AstroPy\\nplt = mpl.pyplot\\nplt.ion(); plt.show()\\nT1 = time.time()\\ncosmology.setCosmology(\"planck15\")\\nCosmo = cosmology.getCurrent()\\nh = Cosmo.h\\nh_3 = h*h*h\\n\\n#Get the HMF (Halo Mass Function) according to Murray et al. 2013\\n#https://arxiv.org/abs/1306.6721\\n#HMF_fun = F.Make_HMF_Interp()\\n\\n#set to True for better HM/SM resolution, takes MUCH longer\\nHighRes = False\\n\\n#Cuts in Satellite mass\\nSM_Cuts = [9, 9.5, 10, 10.5, 11, 11.45]#[9,10,11]#\\n#When using Abundance matching do N realisations to capture upscatter effects\\nN = 5\\n\\n#Abundance Matching Parameters\\nOverride ={\\'M10\\':12.0,\\'SHMnorm10\\':0.032,\\'beta10\\':1.5,\\'gamma10\\':0.56,\\'M11\\':0.6,\\'SHMnorm11\\':-0.014,\\'beta11\\':-2,\\'gamma11\\':0.08}\\n\\n\\nAbnMtch ={\\'Behroozi13\\': False,\\'Behroozi18\\': True,\\'B18c\\':True,\\'B18t\\':False,\\'G18\\':False,\\'G18_notSE\\':False,\\'G19_SE\\':False,\\'G19_cMod\\':False,\\'Lorenzo18\\':False,\\'Moster\\': False,\\'Moster10\\': False,\\'Illustris\\': False,\\'z_Evo\\':True,\\'Scatter\\': 0.15,\\'Override_0\\': False,\\'Override_z\\': False,\\'Override\\': Override,\\'PFT\\': False,\\'M_PFT1\\': False,\\'M_PFT2\\': False,\\'M_PFT3\\': False,\\'N_PFT1\\': False,\\'N_PFT2\\': False,\\'N_PFT3\\': False,\\'b_PFT1\\': False,\\'b_PFT2\\': False,\\'b_PFT3\\': False,\\'g_PFT1\\': False,\\'g_PFT2\\': False,\\'g_PFT3\\': False,\\'g_PFT4\\': False,\\'HMevo\\': False,\\'HMevo_param\\': None}\\n\\nParamaters_Glob = {\\'AbnMtch\\' : AbnMtch,\\'AltDynamicalTime\\': 1,\\'NormRnd\\': 0.5,\\'SFR_Model\\': \\'CE\\',\\'PreProcessing\\': False,\\'AltDynamicalTimeB\\': False}\\n\\n\\n#Subhalomass function parameters macc/M0\\nUnevolved = {\\'gamma\\' : 0.22,\\'alpha\\' : -0.91,\\'beta\\' : 6,\\'omega\\' : 3,\\'a\\' : 1,}\\n'"
      ]
     },
     "execution_count": 2,
     "metadata": {},
     "output_type": "execute_result"
    }
   ],
   "source": [
    "'''\n",
    "import time\n",
    "import os\n",
    "import sys\n",
    "import numpy as np\n",
    "from fast_histogram import histogram1d, histogram2d\n",
    "import matplotlib as mpl\n",
    "#mpl.use('agg')\n",
    "#import hmf\n",
    "from Functions import Functions as F\n",
    "import multiprocessing\n",
    "from numba import jit\n",
    "from colossus.cosmology import cosmology\n",
    "from colossus.halo.mass_defs import changeMassDefinition as CMD\n",
    "from colossus.halo.mass_defs import pseudoEvolve as PE\n",
    "from colossus.lss import mass_function\n",
    "from colossus.halo.concentration import concentration as get_c\n",
    "from colossus.halo.mass_so import M_to_R\n",
    "from scipy.interpolate import interp1d\n",
    "from halotools import empirical_models\n",
    "from astropy.cosmology import Planck15 as Cosmo_AstroPy\n",
    "plt = mpl.pyplot\n",
    "plt.ion(); plt.show()\n",
    "T1 = time.time()\n",
    "cosmology.setCosmology(\"planck15\")\n",
    "Cosmo = cosmology.getCurrent()\n",
    "h = Cosmo.h\n",
    "h_3 = h*h*h\n",
    "\n",
    "#Get the HMF (Halo Mass Function) according to Murray et al. 2013\n",
    "#https://arxiv.org/abs/1306.6721\n",
    "#HMF_fun = F.Make_HMF_Interp()\n",
    "\n",
    "#set to True for better HM/SM resolution, takes MUCH longer\n",
    "HighRes = False\n",
    "\n",
    "#Cuts in Satellite mass\n",
    "SM_Cuts = [9, 9.5, 10, 10.5, 11, 11.45]#[9,10,11]#\n",
    "#When using Abundance matching do N realisations to capture upscatter effects\n",
    "N = 5\n",
    "\n",
    "#Abundance Matching Parameters\n",
    "Override =\\\n",
    "{\\\n",
    "'M10':12.0,\\\n",
    "'SHMnorm10':0.032,\\\n",
    "'beta10':1.5,\\\n",
    "'gamma10':0.56,\\\n",
    "'M11':0.6,\\\n",
    "'SHMnorm11':-0.014,\\\n",
    "'beta11':-2,\\\n",
    "'gamma11':0.08\\\n",
    "}\n",
    "\n",
    "\n",
    "AbnMtch =\\\n",
    "{\\\n",
    "'Behroozi13': False,\\\n",
    "'Behroozi18': True,\\\n",
    "'B18c':True,\\\n",
    "'B18t':False,\\\n",
    "'G18':False,\\\n",
    "'G18_notSE':False,\\\n",
    "'G19_SE':False,\\\n",
    "'G19_cMod':False,\\\n",
    "'Lorenzo18':False,\\\n",
    "'Moster': False,\\\n",
    "'Moster10': False,\\\n",
    "'Illustris': False,\\\n",
    "'z_Evo':True,\\\n",
    "'Scatter': 0.15,\\\n",
    "'Override_0': False,\\\n",
    "'Override_z': False,\\\n",
    "'Override': Override,\\\n",
    "'PFT': False,\\\n",
    "'M_PFT1': False,\\\n",
    "'M_PFT2': False,\\\n",
    "'M_PFT3': False,\\\n",
    "'N_PFT1': False,\\\n",
    "'N_PFT2': False,\\\n",
    "'N_PFT3': False,\\\n",
    "'b_PFT1': False,\\\n",
    "'b_PFT2': False,\\\n",
    "'b_PFT3': False,\\\n",
    "'g_PFT1': False,\\\n",
    "'g_PFT2': False,\\\n",
    "'g_PFT3': False,\\\n",
    "'g_PFT4': False,\\\n",
    "'HMevo': False,\\\n",
    "'HMevo_param': None\\\n",
    "}\n",
    "\n",
    "Paramaters_Glob = \\\n",
    "{\\\n",
    "'AbnMtch' : AbnMtch,\\\n",
    "'AltDynamicalTime': 1,\\\n",
    "'NormRnd': 0.5,\\\n",
    "'SFR_Model': 'CE',\\\n",
    "'PreProcessing': False,\\\n",
    "'AltDynamicalTimeB': False\\\n",
    "}\n",
    "\n",
    "\n",
    "#Subhalomass function parameters macc/M0\n",
    "Unevolved = {\\\n",
    "'gamma' : 0.22,\\\n",
    "'alpha' : -0.91,\\\n",
    "'beta' : 6,\\\n",
    "'omega' : 3,\\\n",
    "'a' : 1,\\\n",
    "}\n",
    "'''"
   ]
  },
  {
   "cell_type": "code",
   "execution_count": null,
   "metadata": {},
   "outputs": [],
   "source": []
  },
  {
   "cell_type": "code",
   "execution_count": 3,
   "metadata": {},
   "outputs": [
    {
     "data": {
      "text/plain": [
       "'\\n#Calculate Halo Mass (z), van den Bosch\\n\\n#HaloMass Limits and Bins\\nAnalyticHaloMass_min = 11.0; AnalyticHaloMass_max = 16.6\\nif HighRes:\\n    AnalyticHaloBin = 0.05\\nelse:\\n    AnalyticHaloBin = 0.1\\n#AHB_2 = AnalyticHaloBin*AnalyticHaloBin #Not used\\nAnalyticHaloMass = np.arange(AnalyticHaloMass_min + np.log10(h), AnalyticHaloMass_max + np.log10(h), AnalyticHaloBin) #Create array in the Halo Mass range\\n#Units are in M_virial * h^-1\\n#Read https://arxiv.org/abs/1308.4150\\n\\n#This is the Halomass growth history\\n#Generates redshfit steps that are small enough to avoid systematics.\\nz, AvaHaloMass_wz = F.Get_HM_History(AnalyticHaloMass, AnalyticHaloMass_min, AnalyticHaloMass_max, AnalyticHaloBin)\\nAvaHaloMass = AvaHaloMass_wz[:, 1:] #Avarage Halo Mass for each redshift (M,N), units of [log10 Msun]\\n\\n#Account for central bin shrinking\\nAvaHaloMassBins = AvaHaloMass[:,1:] - AvaHaloMass[:,:-1] \\nAvaHaloMassBins = np.concatenate((AvaHaloMassBins, np.array([AvaHaloMassBins[:,-1]]).T), axis = 1)\\n'"
      ]
     },
     "execution_count": 3,
     "metadata": {},
     "output_type": "execute_result"
    }
   ],
   "source": [
    "'''\n",
    "#Calculate Halo Mass (z), van den Bosch\n",
    "\n",
    "#HaloMass Limits and Bins\n",
    "AnalyticHaloMass_min = 11.0; AnalyticHaloMass_max = 16.6\n",
    "if HighRes:\n",
    "    AnalyticHaloBin = 0.05\n",
    "else:\n",
    "    AnalyticHaloBin = 0.1\n",
    "#AHB_2 = AnalyticHaloBin*AnalyticHaloBin #Not used\n",
    "AnalyticHaloMass = np.arange(AnalyticHaloMass_min + np.log10(h), AnalyticHaloMass_max + np.log10(h), AnalyticHaloBin) #Create array in the Halo Mass range\n",
    "#Units are in M_virial * h^-1\n",
    "#Read https://arxiv.org/abs/1308.4150\n",
    "\n",
    "#This is the Halomass growth history\n",
    "#Generates redshfit steps that are small enough to avoid systematics.\n",
    "z, AvaHaloMass_wz = F.Get_HM_History(AnalyticHaloMass, AnalyticHaloMass_min, AnalyticHaloMass_max, AnalyticHaloBin)\n",
    "AvaHaloMass = AvaHaloMass_wz[:, 1:] #Avarage Halo Mass for each redshift (M,N), units of [log10 Msun]\n",
    "\n",
    "#Account for central bin shrinking\n",
    "AvaHaloMassBins = AvaHaloMass[:,1:] - AvaHaloMass[:,:-1] \n",
    "AvaHaloMassBins = np.concatenate((AvaHaloMassBins, np.array([AvaHaloMassBins[:,-1]]).T), axis = 1)\n",
    "'''"
   ]
  },
  {
   "cell_type": "code",
   "execution_count": 143,
   "metadata": {},
   "outputs": [],
   "source": [
    "'''\n",
    "HM_vdB = AvaHaloMass\n",
    "HM_vdB_Bins = AvaHaloMassBins\n",
    "z_vdB = z\n",
    "'''"
   ]
  },
  {
   "cell_type": "code",
   "execution_count": 4,
   "metadata": {},
   "outputs": [
    {
     "data": {
      "text/plain": [
       "'\\nplt.figure()\\nfor i in range(0,HM_vdB[0,:].size):\\n    plt.semilogx(z_vdB, HM_vdB[:,i])\\nplt.xlim(0.1,4)\\n'"
      ]
     },
     "execution_count": 4,
     "metadata": {},
     "output_type": "execute_result"
    }
   ],
   "source": [
    "'''\n",
    "plt.figure()\n",
    "for i in range(0,HM_vdB[0,:].size):\n",
    "    plt.semilogx(z_vdB, HM_vdB[:,i])\n",
    "plt.xlim(0.1,4)\n",
    "'''"
   ]
  },
  {
   "cell_type": "code",
   "execution_count": null,
   "metadata": {},
   "outputs": [],
   "source": []
  },
  {
   "cell_type": "code",
   "execution_count": 1,
   "metadata": {},
   "outputs": [],
   "source": [
    "import pandas as pd\n",
    "import numpy as np\n",
    "import matplotlib.pyplot as plt\n",
    "import glob, os\n",
    "import time\n",
    "import sys"
   ]
  },
  {
   "cell_type": "code",
   "execution_count": 2,
   "metadata": {},
   "outputs": [],
   "source": [
    "#### Identify index of a desired redshift value\n",
    "def identify_idx_z(z_desired, z):\n",
    "    if (z_desired == 0.):\n",
    "        z_idx=0\n",
    "    elif (z_desired > 0. and z_desired < np.max(z)):\n",
    "        for i in range(0,z.size):\n",
    "            if (z[i]>z_desired):\n",
    "                z_idx=i\n",
    "                break\n",
    "        z2=z[z_idx]; z1=z[z_idx-1]\n",
    "        diff1=np.abs(z1-z_desired)\n",
    "        diff2=np.abs(z2-z_desired)\n",
    "        if (diff1<=diff2):\n",
    "            z_idx=z_idx-1\n",
    "    #elif (z_desired == 6.):\n",
    "        #z_idx=z.size-1\n",
    "    elif (z_desired > np.max(z)):\n",
    "        Err_msg = 'The desired value {} in z_desired is larger than the maximum value in z!\\nCannot identify z index!'.format(z_desired)\n",
    "        sys.exit(Err_msg)\n",
    "    return z_idx\n",
    "\n",
    "\n",
    "#### Build the list of desired redshifts\n",
    "def build_z_desired(z_min, z_max, z_bin):\n",
    "    z_desired = []\n",
    "    z_prova = z_min\n",
    "    z_desired.append(z_prova)\n",
    "    while True:\n",
    "        z_prova += z_bin\n",
    "        if (z_prova>z_max):\n",
    "            break\n",
    "        z_desired.append(z_prova)\n",
    "    return z_desired\n",
    "\n",
    "\n",
    "#### Find index for Behroozi HM, given HM_vdB, and Behroozi HM array\n",
    "def identify_idx_HM(HM_vdB, HM):\n",
    "    if (HM_vdB <= np.min(HM)):\n",
    "        HM_idx=0\n",
    "    elif (HM_vdB > np.min(HM) and HM_vdB < np.max(HM)):\n",
    "        for i in range(0,HM.size):\n",
    "            if (HM[i]>HM_vdB):\n",
    "                HM_idx=i\n",
    "                break\n",
    "        HM2=HM[HM_idx]; HM1=HM[HM_idx-1]\n",
    "        diff1=np.abs(HM1-HM_vdB)\n",
    "        diff2=np.abs(HM2-HM_vdB)\n",
    "        if (diff1<=diff2):\n",
    "            HM_idx=HM_idx-1\n",
    "    #elif (z_desired == 6.):\n",
    "        #z_idx=z.size-1\n",
    "    elif (HM_vdB > np.max(HM)):\n",
    "        HM_idx=HM.size\n",
    "        if (np.abs(HM_vdB-np.max(HM)) >.1):\n",
    "            Err_msg = 'The desired value {} of HM_vdB is much larger than the maximum value in HM Behroozi!\\nCannot identify HM index!'.format(HM_vdB)\n",
    "            sys.exit(Err_msg)\n",
    "    return HM_idx\n",
    "        "
   ]
  },
  {
   "cell_type": "code",
   "execution_count": 12,
   "metadata": {},
   "outputs": [],
   "source": [
    "#Get SMHM from catalog, Behroozi\n",
    "\n",
    "#path = 'Behroozi_SFR_ASCII/'\n",
    "#file_name = 'sfr_catalog_0.994717.txt'\n",
    "#data = pd.read_table(path+file_name, header = None)"
   ]
  },
  {
   "cell_type": "code",
   "execution_count": 3,
   "metadata": {},
   "outputs": [],
   "source": [
    "#path = 'Behroozi_SFR_ASCII/'\n",
    "file_names_prov = []\n",
    "#os.chdir(\"\")\n",
    "for found_name in glob.glob(\"*sfr_catalog_*\"):\n",
    "    file_names_prov.append(found_name)"
   ]
  },
  {
   "cell_type": "code",
   "execution_count": 4,
   "metadata": {},
   "outputs": [],
   "source": [
    "a = np.zeros(len(file_names_prov))\n",
    "for i in range(0,a.size):\n",
    "    a[i] = float(file_names_prov[i][12:20])\n",
    "z = 1./a -1.\n",
    "idx = np.argsort(z)\n",
    "z = np.sort(z)\n",
    "file_names = []\n",
    "for i in range(0, idx.size):\n",
    "    file_names.append(file_names_prov[idx[i]])"
   ]
  },
  {
   "cell_type": "code",
   "execution_count": null,
   "metadata": {},
   "outputs": [],
   "source": [
    "\n"
   ]
  },
  {
   "cell_type": "code",
   "execution_count": 97,
   "metadata": {},
   "outputs": [],
   "source": [
    "#x = pd.read_csv('sfr_catalog_0.994717.txt', skiprows=np.arange(0,30,1), sep=' ', usecols=['M','SM/HM'])\n",
    "# index_col=False, names=['HM','SMHM'],, names=np.arange(0,26,1)"
   ]
  },
  {
   "cell_type": "code",
   "execution_count": 99,
   "metadata": {},
   "outputs": [],
   "source": [
    "#SMHM=x.loc[:,'SM/HM'].values\n",
    "#x['M']"
   ]
  },
  {
   "cell_type": "code",
   "execution_count": null,
   "metadata": {},
   "outputs": [],
   "source": []
  },
  {
   "cell_type": "code",
   "execution_count": 11,
   "metadata": {},
   "outputs": [
    {
     "name": "stdout",
     "output_type": "stream",
     "text": [
      "loading file for z = 0.186461994063\n",
      "Time used = 78.89 s, estimated remaining time = 72 min 18.81 s\n",
      "loading file for z = 0.593155802672\n",
      "Time used = 115.32 s, estimated remaining time = 87 min 23.54 s\n",
      "loading file for z = 1.01588517518\n",
      "Time used = 131.93 s, estimated remaining time = 96 min 1.74 s\n",
      "loading file for z = 1.4092902231\n",
      "Time used = 140.18 s, estimated remaining time = 101 min 2.08 s\n",
      "loading file for z = 1.78263192458\n",
      "Time used = 148.78 s, estimated remaining time = 104 min 33.98 s\n",
      "loading file for z = 2.18664159842\n",
      "Time used = 152.62 s, estimated remaining time = 106 min 37.61 s\n",
      "loading file for z = 2.59230241439\n",
      "Time used = 147.93 s, estimated remaining time = 106 min 49.51 s\n",
      "loading file for z = 3.03229058299\n",
      "Time used = 154.31 s, estimated remaining time = 106 min 59.72 s\n",
      "loading file for z = 3.39081792156\n",
      "Time used = 150.20 s, estimated remaining time = 106 min 11.85 s\n",
      "loading file for z = 3.81932355975\n",
      "Time used = 145.60 s, estimated remaining time = 104 min 42.41 s\n"
     ]
    }
   ],
   "source": [
    "data = []\n",
    "HM = []\n",
    "SMHM = []\n",
    "SM = []\n",
    "obs_SM = []\n",
    "z_desired = build_z_desired(0.2, 4.1, 0.4)\n",
    "z_idx = []\n",
    "for z_des in z_desired:\n",
    "    z_idx.append(identify_idx_z(z_des, z))\n",
    "#'''\n",
    "t0=time.time()\n",
    "time_list = []\n",
    "k=0\n",
    "for i in range(0,len(z_idx)):\n",
    "    print('loading file for z = {}'.format(z[z_idx[i]]))\n",
    "    #HM=np.append(np.loadtxt(file_names[i], usecols=11))\n",
    "    data.append(pd.read_csv(file_names[z_idx[i]], skiprows=np.arange(0,30,1), sep=' ', usecols=['M','SM/HM']))\n",
    "    HM.append(data[i].loc[:,'M'].values)\n",
    "    #SM.append(data[i].loc[:,'SM'].values)\n",
    "    #obs_SM.append(data[i].loc[:,'obs_SM'].values)\n",
    "    SMHM.append(data[i].loc[:,'SM/HM'].values)\n",
    "    \n",
    "    #data = pd.read_csv(file_names[i], '\\t', header = None)\n",
    "    k+=1\n",
    "    time_list.append(time.time()-t0)\n",
    "    time_array=np.array(time_list)\n",
    "    remaining_time_min = int((len(z_idx)-k-1.)*np.mean(time_array)/60.)\n",
    "    remaining_time_s = np.mod((len(z_idx)-k-1.)*np.mean(time_array),60)\n",
    "    print('Time used = {:0.2f} s, estimated remaining time = {} min {:0.2f} s'.format(time.time()-t0, remaining_time_min, remaining_time_s))\n",
    "    t0=time.time()\n",
    "    \n",
    "#'''"
   ]
  },
  {
   "cell_type": "code",
   "execution_count": null,
   "metadata": {},
   "outputs": [],
   "source": []
  },
  {
   "cell_type": "code",
   "execution_count": null,
   "metadata": {},
   "outputs": [],
   "source": []
  },
  {
   "cell_type": "code",
   "execution_count": 8,
   "metadata": {},
   "outputs": [],
   "source": [
    "#print(1./(1.+2.))\n",
    "#print(1./(1.+z[z_idx]))\n",
    "#print(z[z_idx])\n",
    "#print(z_desired)\n",
    "#k = pd.read_csv('sfr_catalog_0.455560.txt', skiprows=np.arange(0,30,1), sep=' ', usecols=['M','SM/HM'])"
   ]
  },
  {
   "cell_type": "code",
   "execution_count": 29,
   "metadata": {},
   "outputs": [],
   "source": [
    "#Convert HM from [M_sun] to [log10 M_sun]\n",
    "#for i in range(0, len(HM)):\n",
    "    #HM[i] = np.log10(HM[i])"
   ]
  },
  {
   "cell_type": "code",
   "execution_count": null,
   "metadata": {},
   "outputs": [],
   "source": []
  },
  {
   "cell_type": "code",
   "execution_count": 12,
   "metadata": {},
   "outputs": [],
   "source": [
    "z_vdB = np.loadtxt('Redshift_array.txt')\n",
    "HM_vdB = np.loadtxt('HM_vdB.dat')"
   ]
  },
  {
   "cell_type": "code",
   "execution_count": 43,
   "metadata": {},
   "outputs": [
    {
     "data": {
      "text/plain": [
       "(0.1, 4)"
      ]
     },
     "execution_count": 43,
     "metadata": {},
     "output_type": "execute_result"
    },
    {
     "data": {
      "image/png": "[encoded data removed]",
      "text/plain": [
       "<Figure size 432x288 with 1 Axes>"
      ]
     },
     "metadata": {
      "needs_background": "light"
     },
     "output_type": "display_data"
    }
   ],
   "source": [
    "plt.figure()\n",
    "for i in range(0,HM_vdB[0,:].size):\n",
    "    plt.semilogx(z_vdB, HM_vdB[:,i])\n",
    "plt.xlim(0.1,4)"
   ]
  },
  {
   "cell_type": "code",
   "execution_count": 20,
   "metadata": {},
   "outputs": [
    {
     "data": {
      "text/plain": [
       "(190, 57)"
      ]
     },
     "execution_count": 20,
     "metadata": {},
     "output_type": "execute_result"
    }
   ],
   "source": [
    "HM_vdB.shape"
   ]
  },
  {
   "cell_type": "code",
   "execution_count": 13,
   "metadata": {},
   "outputs": [],
   "source": [
    "z_idx_vdB = []\n",
    "for z_des in z_desired:\n",
    "    z_idx_vdB.append(identify_idx_z(z_des, z_vdB))"
   ]
  },
  {
   "cell_type": "code",
   "execution_count": null,
   "metadata": {},
   "outputs": [],
   "source": []
  },
  {
   "cell_type": "code",
   "execution_count": null,
   "metadata": {},
   "outputs": [],
   "source": []
  },
  {
   "cell_type": "code",
   "execution_count": null,
   "metadata": {},
   "outputs": [],
   "source": []
  },
  {
   "cell_type": "code",
   "execution_count": 14,
   "metadata": {},
   "outputs": [
    {
     "name": "stdout",
     "output_type": "stream",
     "text": [
      "Running for log10(HM_0) = 10.8146361923, 1 out of 57\n",
      "Time used = 18.20 s, estimated remaining time = 16 min 40.78 s\n",
      "Running for log10(HM_0) = 10.9143071923, 2 out of 57\n",
      "Time used = 17.03 s, estimated remaining time = 15 min 51.08 s\n",
      "Running for log10(HM_0) = 11.0139081923, 3 out of 57\n",
      "Time used = 18.94 s, estimated remaining time = 15 min 56.85 s\n",
      "Running for log10(HM_0) = 11.1135191923, 4 out of 57\n",
      "Time used = 17.65 s, estimated remaining time = 15 min 33.49 s\n",
      "Running for log10(HM_0) = 11.2131961923, 5 out of 57\n",
      "Time used = 18.23 s, estimated remaining time = 15 min 18.30 s\n",
      "Running for log10(HM_0) = 11.3128261923, 6 out of 57\n",
      "Time used = 17.13 s, estimated remaining time = 14 min 52.75 s\n",
      "Running for log10(HM_0) = 11.4123621923, 7 out of 57\n",
      "Time used = 16.41 s, estimated remaining time = 14 min 24.78 s\n",
      "Running for log10(HM_0) = 11.5119331923, 8 out of 57\n",
      "Time used = 17.75 s, estimated remaining time = 14 min 7.67 s\n",
      "Running for log10(HM_0) = 11.6114561923, 9 out of 57\n",
      "Time used = 19.91 s, estimated remaining time = 14 min 1.75 s\n",
      "Running for log10(HM_0) = 11.7109911923, 10 out of 57\n",
      "Time used = 19.00 s, estimated remaining time = 13 min 48.84 s\n",
      "Running for log10(HM_0) = 11.8104881923, 11 out of 57\n",
      "Time used = 15.07 s, estimated remaining time = 13 min 18.76 s\n",
      "Running for log10(HM_0) = 11.9099821923, 12 out of 57\n",
      "Time used = 17.67 s, estimated remaining time = 13 min 0.73 s\n",
      "Running for log10(HM_0) = 12.0093681923, 13 out of 57\n",
      "Time used = 17.78 s, estimated remaining time = 12 min 43.10 s\n",
      "Running for log10(HM_0) = 12.1088221923, 14 out of 57\n",
      "Time used = 16.88 s, estimated remaining time = 12 min 22.76 s\n",
      "Running for log10(HM_0) = 12.2082481923, 15 out of 57\n",
      "Time used = 17.60 s, estimated remaining time = 12 min 4.84 s\n",
      "Running for log10(HM_0) = 12.3076831923, 16 out of 57\n",
      "Time used = 17.67 s, estimated remaining time = 11 min 47.15 s\n",
      "Running for log10(HM_0) = 12.4069401923, 17 out of 57\n",
      "Time used = 16.04 s, estimated remaining time = 11 min 25.71 s\n",
      "Running for log10(HM_0) = 12.5062591923, 18 out of 57\n",
      "Time used = 17.18 s, estimated remaining time = 11 min 7.28 s\n",
      "Running for log10(HM_0) = 12.6055121923, 19 out of 57\n",
      "Time used = 17.53 s, estimated remaining time = 10 min 49.66 s\n",
      "Running for log10(HM_0) = 12.7047411923, 20 out of 57\n",
      "Time used = 13.48 s, estimated remaining time = 10 min 24.76 s\n",
      "Running for log10(HM_0) = 12.8039341923, 21 out of 57\n",
      "Time used = 18.21 s, estimated remaining time = 10 min 8.83 s\n",
      "Running for log10(HM_0) = 12.9031141923, 22 out of 57\n",
      "Time used = 18.02 s, estimated remaining time = 9 min 52.40 s\n",
      "Running for log10(HM_0) = 13.0020861923, 23 out of 57\n",
      "Time used = 17.12 s, estimated remaining time = 9 min 34.54 s\n",
      "Running for log10(HM_0) = 13.1010861923, 24 out of 57\n",
      "Time used = 19.78 s, estimated remaining time = 9 min 20.29 s\n",
      "Running for log10(HM_0) = 13.2002161923, 25 out of 57\n",
      "Time used = 23.84 s, estimated remaining time = 9 min 10.64 s\n",
      "Running for log10(HM_0) = 13.2992621923, 26 out of 57\n"
     ]
    },
    {
     "ename": "IndexError",
     "evalue": "index 16415005 is out of bounds for axis 0 with size 16415005",
     "output_type": "error",
     "traceback": [
      "\u001b[0;31m---------------------------------------------------------------------------\u001b[0m",
      "\u001b[0;31mIndexError\u001b[0m                                Traceback (most recent call last)",
      "\u001b[0;32m<ipython-input-14-e3bc40d7e5c5>\u001b[0m in \u001b[0;36m<module>\u001b[0;34m()\u001b[0m\n\u001b[1;32m     13\u001b[0m             \u001b[0midx_HM\u001b[0m \u001b[0;34m=\u001b[0m \u001b[0midentify_idx_HM\u001b[0m\u001b[0;34m(\u001b[0m\u001b[0mHM_0\u001b[0m\u001b[0;34m,\u001b[0m \u001b[0mnp\u001b[0m\u001b[0;34m.\u001b[0m\u001b[0mlog10\u001b[0m\u001b[0;34m(\u001b[0m\u001b[0mHM\u001b[0m\u001b[0;34m[\u001b[0m\u001b[0mj\u001b[0m\u001b[0;34m]\u001b[0m\u001b[0;34m)\u001b[0m\u001b[0;34m)\u001b[0m\u001b[0;34m\u001b[0m\u001b[0m\n\u001b[1;32m     14\u001b[0m             \u001b[0;31m#HM_Beh[i][j] = HM[j][idx_HM]\u001b[0m\u001b[0;34m\u001b[0m\u001b[0;34m\u001b[0m\u001b[0m\n\u001b[0;32m---> 15\u001b[0;31m             \u001b[0mSM_Beh\u001b[0m\u001b[0;34m[\u001b[0m\u001b[0mk\u001b[0m\u001b[0;34m]\u001b[0m\u001b[0;34m[\u001b[0m\u001b[0mj\u001b[0m\u001b[0;34m]\u001b[0m \u001b[0;34m=\u001b[0m \u001b[0mSMHM\u001b[0m\u001b[0;34m[\u001b[0m\u001b[0mj\u001b[0m\u001b[0;34m]\u001b[0m\u001b[0;34m[\u001b[0m\u001b[0midx_HM\u001b[0m\u001b[0;34m]\u001b[0m\u001b[0;34m*\u001b[0m\u001b[0;36m10.\u001b[0m\u001b[0;34m**\u001b[0m\u001b[0mHM_0\u001b[0m \u001b[0;31m#[M_sun]\u001b[0m\u001b[0;34m\u001b[0m\u001b[0m\n\u001b[0m\u001b[1;32m     16\u001b[0m             \u001b[0;31m#HM_Beh[k][j] = np.log10(HM_Beh[k][j]) #[log10 M_sun]\u001b[0m\u001b[0;34m\u001b[0m\u001b[0;34m\u001b[0m\u001b[0m\n\u001b[1;32m     17\u001b[0m     \u001b[0mk\u001b[0m\u001b[0;34m+=\u001b[0m\u001b[0;36m1\u001b[0m\u001b[0;34m\u001b[0m\u001b[0m\n",
      "\u001b[0;31mIndexError\u001b[0m: index 16415005 is out of bounds for axis 0 with size 16415005"
     ]
    }
   ],
   "source": [
    "SM_Beh = []\n",
    "#HM_0_desired = [10., 10.5, 11.]\n",
    "#HM_0_index = []\n",
    "k=0\n",
    "t0=time.time()\n",
    "time_list = []\n",
    "for HM_0 in HM_vdB[0,:]: #range(0,len(HM_0_desired)):\n",
    "    print('Running for log10(HM_0) = {}, {} out of 57'.format(HM_0,k+1))\n",
    "    idx_HM = identify_idx_HM(HM_0, np.log10(HM[0]))\n",
    "    if (SMHM[0][idx_HM]*10.**HM_0 < 10.**11.5):\n",
    "        SM_Beh.append(np.zeros(len(z_desired)))\n",
    "        for j in range(0,len(z_desired)):\n",
    "            idx_HM = identify_idx_HM(HM_0, np.log10(HM[j]))\n",
    "            #HM_Beh[i][j] = HM[j][idx_HM]\n",
    "            SM_Beh[k][j] = SMHM[j][idx_HM]*10.**HM_0 #[M_sun]\n",
    "            #HM_Beh[k][j] = np.log10(HM_Beh[k][j]) #[log10 M_sun]\n",
    "    k+=1\n",
    "    time_list.append(time.time()-t0)\n",
    "    time_array=np.array(time_list)\n",
    "    remaining_time_min = int((57.-k-1.)*np.mean(time_array)/60.)\n",
    "    remaining_time_s = np.mod((57.-k-1.)*np.mean(time_array),60)\n",
    "    print('Time used = {:0.2f} s, estimated remaining time = {} min {:0.2f} s'.format(time.time()-t0, remaining_time_min, remaining_time_s))\n",
    "    t0=time.time()"
   ]
  },
  {
   "cell_type": "code",
   "execution_count": 24,
   "metadata": {},
   "outputs": [
    {
     "data": {
      "text/plain": [
       "array([  44408.31775542,   20575.96265729,   59117.55334994,\n",
       "         99388.49072962,   11537.67902889, 4201333.57398106,\n",
       "       3806520.46241558, 2486343.72737929, 1747619.02937578,\n",
       "       1652994.39933116])"
      ]
     },
     "execution_count": 24,
     "metadata": {},
     "output_type": "execute_result"
    }
   ],
   "source": [
    "SM_Beh[0]"
   ]
  },
  {
   "cell_type": "code",
   "execution_count": 25,
   "metadata": {},
   "outputs": [
    {
     "ename": "NameError",
     "evalue": "name 'HM2' is not defined",
     "output_type": "error",
     "traceback": [
      "\u001b[0;31m---------------------------------------------------------------------------\u001b[0m",
      "\u001b[0;31mNameError\u001b[0m                                 Traceback (most recent call last)",
      "\u001b[0;32m<ipython-input-25-d2d7813a83fc>\u001b[0m in \u001b[0;36m<module>\u001b[0;34m()\u001b[0m\n\u001b[1;32m     14\u001b[0m         \u001b[0mSM2\u001b[0m\u001b[0;34m=\u001b[0m\u001b[0mSM_Beh\u001b[0m\u001b[0;34m[\u001b[0m\u001b[0mSM_0_idx\u001b[0m\u001b[0;34m,\u001b[0m\u001b[0;36m0\u001b[0m\u001b[0;34m]\u001b[0m\u001b[0;34m;\u001b[0m \u001b[0mHM1\u001b[0m\u001b[0;34m=\u001b[0m\u001b[0mSM_Beh\u001b[0m\u001b[0;34m[\u001b[0m\u001b[0mSM_0_idx\u001b[0m\u001b[0;34m,\u001b[0m\u001b[0;36m0\u001b[0m\u001b[0;34m]\u001b[0m\u001b[0;34m\u001b[0m\u001b[0m\n\u001b[1;32m     15\u001b[0m         \u001b[0mdiff1\u001b[0m\u001b[0;34m=\u001b[0m\u001b[0mnp\u001b[0m\u001b[0;34m.\u001b[0m\u001b[0mabs\u001b[0m\u001b[0;34m(\u001b[0m\u001b[0mHM1\u001b[0m\u001b[0;34m-\u001b[0m\u001b[0mSM_0\u001b[0m\u001b[0;34m)\u001b[0m\u001b[0;34m\u001b[0m\u001b[0m\n\u001b[0;32m---> 16\u001b[0;31m         \u001b[0mdiff2\u001b[0m\u001b[0;34m=\u001b[0m\u001b[0mnp\u001b[0m\u001b[0;34m.\u001b[0m\u001b[0mabs\u001b[0m\u001b[0;34m(\u001b[0m\u001b[0mHM2\u001b[0m\u001b[0;34m-\u001b[0m\u001b[0mSM_0\u001b[0m\u001b[0;34m)\u001b[0m\u001b[0;34m\u001b[0m\u001b[0m\n\u001b[0m\u001b[1;32m     17\u001b[0m         \u001b[0;32mif\u001b[0m \u001b[0;34m(\u001b[0m\u001b[0mdiff1\u001b[0m\u001b[0;34m<=\u001b[0m\u001b[0mdiff2\u001b[0m\u001b[0;34m)\u001b[0m\u001b[0;34m:\u001b[0m\u001b[0;34m\u001b[0m\u001b[0m\n\u001b[1;32m     18\u001b[0m             \u001b[0mSM_0_idx\u001b[0m\u001b[0;34m=\u001b[0m\u001b[0mSM_0_idx\u001b[0m\u001b[0;34m-\u001b[0m\u001b[0;36m1\u001b[0m\u001b[0;34m\u001b[0m\u001b[0m\n",
      "\u001b[0;31mNameError\u001b[0m: name 'HM2' is not defined"
     ]
    }
   ],
   "source": [
    "SM_0_desired = [10.**10., 10.**10.5, 10.**11.] #[M_sun]\n",
    "SM_0_index = []\n",
    "SM_Beh_to_plot = []\n",
    "SM_Behr=SM_Beh\n",
    "SM_Beh=np.array(SM_Behr)\n",
    "for SM_0 in SM_0_desired:\n",
    "    if (SM_0 <= np.min(SM_Beh[:,0])):\n",
    "        SM_0_idx=0\n",
    "    elif (SM_0 > np.min(SM_Beh[:,0]) and SM_0 < np.max(SM_Beh[:,0])):\n",
    "        for i in range(0,SM_Beh[:,0].size):\n",
    "            if (SM_Beh[i,0]>SM_0):\n",
    "                SM_0_idx=i\n",
    "                break\n",
    "        SM2=SM_Beh[SM_0_idx,0]; HM1=SM_Beh[SM_0_idx,0]\n",
    "        diff1=np.abs(SM1-SM_0)\n",
    "        diff2=np.abs(HM2-SM_0)\n",
    "        if (diff1<=diff2):\n",
    "            SM_0_idx=SM_0_idx-1\n",
    "    print('SM_0 desired = {}; SM Behroozi = {}'.format(SM_0,SM_Beh[SM_0_idx,0]))\n",
    "    SM_0_index.append(SM_0_idx)\n",
    "for i in range(0,len(SM_0_desired)):\n",
    "    SM_Beh_to_plot.append(np.zeros(len(z_desired)))\n",
    "    for j in range(0, len(z_desired)):\n",
    "        SM_Beh_to_plot[i][j] = SM_Beh[SM_0_idx[i]][j]"
   ]
  },
  {
   "cell_type": "code",
   "execution_count": 25,
   "metadata": {},
   "outputs": [
    {
     "data": {
      "image/png": "[encoded data removed]",
      "text/plain": [
       "<Figure size 432x288 with 1 Axes>"
      ]
     },
     "metadata": {
      "needs_background": "light"
     },
     "output_type": "display_data"
    }
   ],
   "source": [
    "plt.figure()\n",
    "for i in range(0,len(SM_Beh)):\n",
    "    plt.semilogx(np.array(z_desired), np.log10(SM_Beh[i]),'.')"
   ]
  },
  {
   "cell_type": "code",
   "execution_count": null,
   "metadata": {},
   "outputs": [],
   "source": []
  },
  {
   "cell_type": "code",
   "execution_count": null,
   "metadata": {},
   "outputs": [],
   "source": []
  },
  {
   "cell_type": "code",
   "execution_count": 237,
   "metadata": {},
   "outputs": [
    {
     "name": "stdout",
     "output_type": "stream",
     "text": [
      "(21, 35, 2)\n",
      "(21, 35, 2)\n",
      "-4.494999\n"
     ]
    }
   ],
   "source": [
    "print(np.shape(smhm))\n",
    "print(np.shape(SMHM))\n",
    "print(SMHM[0,0,0])\n",
    "#print(z)\n",
    "#print(z_vdB)"
   ]
  },
  {
   "cell_type": "code",
   "execution_count": 229,
   "metadata": {},
   "outputs": [],
   "source": [
    "def find_HM_idx_vdB(z_idx_vdB, HM_des, HM_vdB):\n",
    "    for i in range(0, HM_vdB[z_idx_vdB,:].size):\n",
    "        if (HM_vdB[z_idx_vdB,i]>=HM_des):\n",
    "            if (i==0):\n",
    "                HM_idx_vdB = i\n",
    "                break\n",
    "            elif (i>0):\n",
    "                diff1 = np.abs(HM_des-HM_vdB[z_idx_vdB,i-1])\n",
    "                diff2 = np.abs(HM_des-HM_vdB[z_idx_vdB,i])\n",
    "                if (diff1<diff2):\n",
    "                    HM_idx_vdB = i-1\n",
    "                    break\n",
    "                elif (diff2<diff1):\n",
    "                    HM_idx_vdB = i\n",
    "                    break\n",
    "    return HM_idx_vdB"
   ]
  },
  {
   "cell_type": "code",
   "execution_count": 236,
   "metadata": {},
   "outputs": [
    {
     "name": "stdout",
     "output_type": "stream",
     "text": [
      "-4.494999\n",
      "-4.494999\n",
      "-4.494956\n"
     ]
    },
    {
     "data": {
      "text/plain": [
       "<Figure size 432x288 with 0 Axes>"
      ]
     },
     "metadata": {},
     "output_type": "display_data"
    }
   ],
   "source": [
    "z_idx_max = 0\n",
    "for i in range(0,z.size): #search for z_idx_max in Behroozi, because z_vdB stops at 6, while Behroozi at 10\n",
    "    if (z[i]>np.max(z_vdB) and z[i-1]<=np.max(z_vdB)):\n",
    "        z_idx_max=i-1\n",
    "\n",
    "Mstar_to_be_avaraged = np.zeros(SMHM[0,0,:].size)\n",
    "HM_desired_z0 = [10., 10.5, 11.]\n",
    "Mstar = []\n",
    "for i in HM_desired_z0:\n",
    "    Mstar.append(np.zeros(z.size))\n",
    "idx = []\n",
    "z_idx_vdB = []\n",
    "for i in range(0, z_idx_max+1):\n",
    "    for k in range(0,z_vdB.size): #loop to find index in z_vdB\n",
    "        if (z_vdB[k]>=z[i]):\n",
    "            if (k==0):\n",
    "                z_idx_vdB.append(k)\n",
    "                break\n",
    "            elif (k>0):\n",
    "                diff1 = np.abs(z[i]-z_vdB[k-1])\n",
    "                diff2 = np.abs(z[i]-z_vdB[k])\n",
    "                if (diff1<diff2):\n",
    "                    z_idx_vdB.append(k-1)\n",
    "                    break\n",
    "                elif (diff2<diff1):\n",
    "                    z_idx_vdB.append(k)\n",
    "                    break\n",
    "                else:\n",
    "                    Err_msg = 'No index in z_vdB found for the {}th value of z'.format(i)\n",
    "                    sys.exit(Err_msg)\n",
    "    #print(i)\n",
    "    #print(z[i])\n",
    "    #print(z_vdB[z_idx_vdB[i]])\n",
    "\n",
    "if (len(z_idx_vdB) != z_idx_max+1):\n",
    "    print('len(z_idx_vdB) = {}'.format(len(z_idx_vdB)))\n",
    "    print('z.size = {}'.format(z.size))\n",
    "    Err_msg = 'Size of z_idx_vdB is different from that of z!'\n",
    "    sys.exit(Err_msg)\n",
    "\n",
    "plt.figure()\n",
    "for j in range(0, z_idx_max+1): #loop on redshifts\n",
    "    for i in range(0, len(HM_desired_z0)): #loop on HM_z0 desired\n",
    "        HM_idx_vdB_z0 = find_HM_idx_vdB(z_idx_vdB[0], HM_desired_z0[i], HM_vdB)\n",
    "        #print(z_idx_vdB[j])\n",
    "        #print(HM_idx_vdB_z0)\n",
    "        HM_desired = HM_vdB[j, HM_idx_vdB_z0]\n",
    "        HM_idx_vdB = find_HM_idx_vdB(z_idx_vdB[j], HM_desired, HM_vdB)\n",
    "        Mstar_to_be_avaraged = SMHM[j,HM_idx_vdB,1]\n",
    "        if j == 0:\n",
    "            print(SMHM[j,HM_idx_vdB,1])\n",
    "        #Mstar[i][j] =np.median(Mstar_to_be_avaraged)\n",
    "        #print(j)\n",
    "        #print(SMHM[j,HM_idx_vdB,:].size)\n",
    "    #plt.semilogx(z, Mstar[i])\n",
    "#plt.xlim(0.1,4.)"
   ]
  },
  {
   "cell_type": "code",
   "execution_count": null,
   "metadata": {},
   "outputs": [],
   "source": []
  },
  {
   "cell_type": "code",
   "execution_count": null,
   "metadata": {},
   "outputs": [],
   "source": []
  },
  {
   "cell_type": "code",
   "execution_count": null,
   "metadata": {},
   "outputs": [],
   "source": []
  },
  {
   "cell_type": "code",
   "execution_count": null,
   "metadata": {},
   "outputs": [],
   "source": []
  }
 ],
 "metadata": {
  "kernelspec": {
   "display_name": "Python 3",
   "language": "python",
   "name": "python3"
  },
  "language_info": {
   "codemirror_mode": {
    "name": "ipython",
    "version": 3
   },
   "file_extension": ".py",
   "mimetype": "text/x-python",
   "name": "python",
   "nbconvert_exporter": "python",
   "pygments_lexer": "ipython3",
   "version": "3.7.5"
  }
 },
 "nbformat": 4,
 "nbformat_minor": 4
}
