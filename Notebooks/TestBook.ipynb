{
 "cells": [
  {
   "cell_type": "code",
   "execution_count": 4,
   "metadata": {},
   "outputs": [],
   "source": [
    "import os\n",
    "import sys\n",
    "AbsPath = os.path.abspath(\"\")\n",
    "sys.path.append(AbsPath+\"/..\")\n",
    "#from Scripts.Plots import SDSS_Plots\n",
    "from itertools import cycle\n",
    "#Add_SDSS = SDSS_Plots.SDSS_Plots(11.5,15,0.1)\n",
    "import matplotlib.pyplot as plt\n",
    "from Functions import Functions as F\n",
    "HMF_fun = F.Make_HMF_Interp()\n",
    "from Functions.Functions import Make_HMF_Interp\n",
    "import numpy as np\n",
    "import matplotlib.pyplot as plt\n",
    "import importlib\n",
    "import colossus.halo.mass_adv as massdefs\n",
    "from colossus.halo.mass_so import M_to_R\n",
    "from halotools import empirical_models\n",
    "import matplotlib.pyplot as plt\n",
    "from colossus.cosmology import cosmology\n",
    "cosmology.setCosmology(\"planck15\")\n",
    "from astropy.cosmology import Planck15 as Cosmo_AstroPy\n",
    "Cosmo =cosmology.getCurrent()\n",
    "\n",
    "h = Cosmo.h\n",
    "\n",
    "#Abundance Matching Parameters\n",
    "Override =\\\n",
    "{\\\n",
    "'M10':11.95,\\\n",
    "'SHMnorm10':0.03,\\\n",
    "'beta10':1.6,\\\n",
    "'gamma10':0.7,\\\n",
    "'M11':0.5,\\\n",
    "'SHMnorm11':-0.01,\\\n",
    "'beta11':-0.6,\\\n",
    "'gamma11':0.1\\\n",
    "}\n",
    "\n",
    "AbnMtch =\\\n",
    "{\\\n",
    "'Behroozi13': False,\\\n",
    "'Behroozi18': False,\\\n",
    "'B18c':False,\\\n",
    "'B18t':False,\\\n",
    "'G18':False,\\\n",
    "'G18_notSE':False,\\\n",
    "'G19_SE':False,\\\n",
    "'G19_cMod':False,\\\n",
    "'Lorenzo18':False,\\\n",
    "'Moster': False,\\\n",
    "'Moster10': False,\\\n",
    "'z_Evo':True,\\\n",
    "'Scatter': 0.15,\\\n",
    "'Override_0': False,\\\n",
    "'Override_z': False,\\\n",
    "'Override': Override,\\\n",
    "'PFT': False,\\\n",
    "'M_PFT1': False,\\\n",
    "'M_PFT2': False,\\\n",
    "'M_PFT3': False,\\\n",
    "'N_PFT1': False,\\\n",
    "'N_PFT2': False,\\\n",
    "'N_PFT3': False,\\\n",
    "'b_PFT1': False,\\\n",
    "'b_PFT2': False,\\\n",
    "'b_PFT3': False,\\\n",
    "'g_PFT1': False,\\\n",
    "'g_PFT2': False,\\\n",
    "'g_PFT3': False,\\\n",
    "'g_PFT4': False\\\n",
    "}\n",
    "\n",
    "Paramaters = \\\n",
    "{\\\n",
    "'AbnMtch' : AbnMtch,\\\n",
    "'AltDynamicalTime': 1,\\\n",
    "'NormRnd': 0.5,\\\n",
    "'SFR_Model': 'CE',\\\n",
    "'PreProcessing': False,\\\n",
    "'AltDynamicalTimeB': False\\\n",
    "}\n",
    "\n",
    "\n",
    "#Subhalomass function parameters macc/M0\n",
    "Unevolved = {\\\n",
    "'gamma' : 0.22,\\\n",
    "'alpha' : -0.91,\\\n",
    "'beta' : 6,\\\n",
    "'omega' : 3,\\\n",
    "'a' : 1,\\\n",
    "}"
   ]
  },
  {
   "cell_type": "code",
   "execution_count": null,
   "metadata": {},
   "outputs": [],
   "source": [
    "importlib.reload(F)"
   ]
  },
  {
   "cell_type": "code",
   "execution_count": null,
   "metadata": {},
   "outputs": [],
   "source": [
    "Override =\\\n",
    "{\\\n",
    "'M10':12.0,\\\n",
    "'SHMnorm10':0.032,\\\n",
    "'beta10':1.5,\\\n",
    "'gamma10':0.56,\\\n",
    "'M11':0.6,\\\n",
    "'SHMnorm11':-0.014,\\\n",
    "'beta11':-2,\\\n",
    "'gamma11':0.08\\\n",
    "}\n",
    "\n",
    "AbnMtch['Override_0'] = False\n",
    "AbnMtch['Override_z'] = False\n",
    "AbnMtch['Override'] = Override\n",
    "\n",
    "AbnMtch['G19_SE'] = True\n",
    "for Redshift in Cosmo.lookbackTime([0, 4, 8, 12], inverse = True):\n",
    "    plt.plot(np.arange(10, 15, 0.1)- np.log10(h), F.DarkMatterToStellarMass(np.arange(10, 15, 0.1) - np.log10(h), Redshift, Paramaters, ScatterOn = False), label = round(Redshift,1))\n",
    "plt.legend()\n",
    "plt.show()    \n",
    "AbnMtch['G19_SE'] = False\n",
    "\n",
    "AbnMtch['Moster'] = True\n",
    "for Redshift in Cosmo.lookbackTime([0, 4, 8, 12], inverse = True):\n",
    "    plt.plot(np.arange(10, 15, 0.1)- np.log10(h), F.DarkMatterToStellarMass(np.arange(10, 15, 0.1) - np.log10(h), Redshift, Paramaters, ScatterOn = False), label = round(Redshift,1))\n",
    "plt.legend()\n",
    "plt.show()\n",
    "AbnMtch['Moster'] = False"
   ]
  },
  {
   "cell_type": "code",
   "execution_count": null,
   "metadata": {},
   "outputs": [],
   "source": [
    "Cosmo.lookbackTime?"
   ]
  },
  {
   "cell_type": "code",
   "execution_count": null,
   "metadata": {},
   "outputs": [],
   "source": [
    "Override =\\\n",
    "{\\\n",
    "'M10':11.8,\\\n",
    "'SHMnorm10':0.018,\\\n",
    "'beta10':1.5,\\\n",
    "'gamma10':0.31,\\\n",
    "'M11':0,\\\n",
    "'SHMnorm11':-0.01,\\\n",
    "'beta11':0.0,\\\n",
    "'gamma11':-0.12\\\n",
    "}\n",
    "\n",
    "SM_bin = 0.1\n",
    "SMF_Bins = np.arange(9, 12.5, SM_bin)\n",
    "Halo_bin = 0.1\n",
    "Halo_MR = np.arange(10, 16, Halo_bin)\n",
    "Halo_MR_m200 = np.log10(massdefs.changeMassDefinitionCModel(M=np.power(10, Halo_MR), z=0.1, mdef_in='vir', mdef_out='200c')[0])\n",
    "\n",
    "\n",
    "\n",
    "AbnMtch['Illustris'] =  False\n",
    "\n",
    "\n",
    "AbnMtch['Override_0'] = True\n",
    "AbnMtch['Override_z'] = True\n",
    "AbnMtch['Override'] = Override\n",
    "\n",
    "for Snap in (99, 67, 50, 40, 33, 25):\n",
    "    Redshift = (100/Snap) -1\n",
    "    f, axarr = plt.subplots(1, 3, figsize=(10,4))\n",
    "    \n",
    "    \n",
    "    axarr[0].plot(np.arange(10, 15, 0.1)- np.log10(h), F.DarkMatterToStellarMass(np.arange(10, 15, 0.1) - np.log10(h), Redshift, Paramaters, ScatterOn = False), \"-C0\", label = \"Fit\")\n",
    "    SMHM_ill = np.load('./PaperTwoPlotData/Illustris/SMHM_fillbtwn_{}.npy'.format(Snap))\n",
    "    axarr[0].fill_between(SMHM_ill[0]- np.log10(h), SMHM_ill[1]- np.log10(h), SMHM_ill[2]- np.log10(h), color = 'k', alpha = 0.5, label = 'Illustris')\n",
    "    axarr[0].set_xlim(11, 14.5)\n",
    "    axarr[0].set_ylim(8.5, 12.5)\n",
    "    axarr[0].set_xlabel(r\"log10 Halo Mass $M_{\\odot}$\")\n",
    "    axarr[0].set_ylabel(r\"log10 Stellar Mass $M_{\\odot}$\")\n",
    "    \n",
    "    SMF = F.DM_to_SM(SMF_Bins, np.log10(HMF_fun(Halo_MR, Redshift)), Halo_MR_m200- np.log10(h), Halo_bin, SM_bin, Paramaters, Redshift = Redshift, N = 1000)[1]\n",
    "    axarr[1].plot(SMF_Bins, SMF, \"-C0\")\n",
    "    SMF_ill = np.load('./PaperTwoPlotData/Illustris/SMF_errbar_{}.npy'.format(Snap))\n",
    "    axarr[1].errorbar(SMF_ill[0]- np.log10(h), SMF_ill[1], yerr = [SMF_ill[2], SMF_ill[3]], color = 'k',  fmt = \"s\", label = 'Illustris', mfc = None, fillstyle = \"none\")\n",
    "    axarr[1].set_ylim(-5, -2)\n",
    "    axarr[1].set_title(round(Redshift, 2))\n",
    "    axarr[1].set_xlabel(r\"log10 Stellar Mass $M_{\\odot}$\")\n",
    "    axarr[1].set_ylabel(r\"$log_{10}  \\phi$ $[Mpc^{-3} dex^{-1}]$\")\n",
    "    \n",
    "    HMF_ill = np.load('./PaperTwoPlotData/Illustris/HMF_errbar_{}.npy'.format(Snap))\n",
    "    axarr[2].errorbar(HMF_ill[0]- np.log10(h), HMF_ill[1], yerr = [HMF_ill[2], HMF_ill[3]], color = 'k',  fmt = \"s\", label = 'Illustris', mfc = None, fillstyle = \"none\")\n",
    "    axarr[2].set_ylim(-5, -2)\n",
    "    axarr[2].set_xlim(11, 15)\n",
    "    axarr[2].plot(Halo_MR_m200 - np.log10(h), np.log10(HMF_fun(Halo_MR, Redshift)) +3*np.log10(h), \"-C0\")\n",
    "    axarr[2].set_xlabel(r\"log10 Halo Mass $M_{\\odot}$\")\n",
    "    axarr[2].set_ylabel(r\"$log_{10}  \\phi$ $[Mpc^{-3} dex^{-1}]$\")\n",
    "    \n",
    "    plt.tight_layout()\n",
    "    \n",
    "    plt.savefig(\"./PaperTwoPlotData/Illustris/Plots/HMSM_SMF_HMF{}.png\".format(round(Redshift, 2)))\n",
    "    \n",
    "    plt.show()\n",
    "    plt.clf()\n",
    "    \n",
    "AbnMtch['Override_0'] = False\n",
    "AbnMtch['Override_z'] = False\n",
    "AbnMtch['Illustris'] =  False"
   ]
  },
  {
   "cell_type": "code",
   "execution_count": null,
   "metadata": {},
   "outputs": [],
   "source": [
    "for HM_c in [12.5,14]:\n",
    "    HM_s = np.arange(10, 12.5, 0.1)\n",
    "\n",
    "    #halo mass ratio converted to natural numbers\n",
    "    Mh_Ms = np.power(10, HM_c - HM_s)\n",
    "    #Catteneo++ 2011\n",
    "    Strip = np.power(0.6, (1.428/(2*np.pi))*(Mh_Ms/np.log(1+Mh_Ms)))\n",
    "\n",
    "\n",
    "    #plt.plot(HM_s, (1.428/(2*np.pi))*(Mh_Ms/np.log(1+Mh_Ms)))\n",
    "    #plt.show()\n",
    "\n",
    "    #plt.plot(HM_s, Strip)\n",
    "    #plt.show()\n",
    "\n",
    "    plt.plot(np.log10(Mh_Ms), np.log10(Strip))\n",
    "plt.ylim(-1, 0)\n",
    "plt.xlim(0.0, 2.0)\n",
    "plt.show()"
   ]
  },
  {
   "cell_type": "code",
   "execution_count": null,
   "metadata": {},
   "outputs": [],
   "source": [
    "RunParam = ('1.0', True, True, True, 'Illustris', 'Illustris')\n",
    "\"./Other_Data_Outputs/Total_StarFormation_Means_{}\".format(\"\".join((\"{}_\".format(i) for i in RunParam)))"
   ]
  },
  {
   "cell_type": "code",
   "execution_count": null,
   "metadata": {},
   "outputs": [],
   "source": [
    "AvaHaloMass, Surviving_Sat_SMF_MassRange, Total_StarFormation_Means, Total_StarFormation_Std = F.LoadData_Total_Starformation(('1.0', True, False, True, 'CE', 'G19_SE'))\n",
    "f\n",
    "print(np.shape(Total_StarFormation_Means))"
   ]
  },
  {
   "cell_type": "code",
   "execution_count": null,
   "metadata": {},
   "outputs": [],
   "source": [
    "print(Total_StarFormation_Means[10][50])\n",
    "print(Total_StarFormation_Std[10][50])"
   ]
  },
  {
   "cell_type": "code",
   "execution_count": null,
   "metadata": {},
   "outputs": [],
   "source": []
  },
  {
   "cell_type": "code",
   "execution_count": null,
   "metadata": {},
   "outputs": [],
   "source": [
    "from matplotlib.gridspec import GridSpec"
   ]
  },
  {
   "cell_type": "code",
   "execution_count": null,
   "metadata": {},
   "outputs": [],
   "source": [
    "from matplotlib import cm\n",
    "ColourMap = cm.viridis\n",
    "\n",
    "fig = plt.figure(figsize=[12, 4])\n",
    "gs = GridSpec(4, 13, hspace=0.0,wspace=0.0,figure=fig)\n",
    "ax1 = fig.add_subplot(gs[0:4, 0:4])\n",
    "ax2 = fig.add_subplot(gs[0:4, 4:8])\n",
    "ax3 = fig.add_subplot(gs[0:4, 8:12])\n",
    "ColorBar = fig.add_subplot(gs[0:4, 12:13])\n",
    "\n",
    "AvaHaloMass_s, z_s, Surviving_Sat_SMF_MassRange_s, Total_StarFormation_Means_s, Total_StarFormation_Std_s = F.LoadData_Total_Starformation(('1.0', True, False, True, 'CE', 'G19_SE'))\n",
    "AvaHaloMass_s_sf, z_s_sf, Surviving_Sat_SMF_MassRange_s_sf, Total_StarFormation_Means_s_sf, Total_StarFormation_Std_s_sf = F.LoadData_Total_Starformation(('1.0', True, True, True, 'CE', 'G19_SE'))\n",
    "AvaHaloMass_sf, z_sf, Surviving_Sat_SMF_MassRange_sf, Total_StarFormation_Means_sf, Total_StarFormation_Std_sf = F.LoadData_Total_Starformation(('1.0', False, True, True, 'CE', 'G19_SE'))\n",
    "\n",
    "\n",
    "def GetColour(HM):\n",
    "    Min = np.min(AvaHaloMass_s)\n",
    "    Max = np.max(AvaHaloMass_s)\n",
    "    return ColourMap(float((HM-Min)/(Max-Min)))\n",
    "\n",
    "\n",
    "for i in np.arange(np.min(AvaHaloMass_s), np.max(AvaHaloMass_s), 0.01):\n",
    "    ColorBar.fill_between([-0.5, 1.5], i, i+0.01, color = GetColour(i))\n",
    "ColorBar.set_ylim(np.min(AvaHaloMass_s), np.max(AvaHaloMass_s))\n",
    "ColorBar.set_xlim(0, 1)\n",
    "ColorBar.yaxis.tick_right()\n",
    "ColorBar.yaxis.set_label_position(\"right\")\n",
    "ColorBar.set_ylabel(\"HaloMass\")\n",
    "\n",
    "for i in range(0, 56):\n",
    "    for z_bin in range(0, 189):\n",
    "        colour = GetColour(AvaHaloMass[z_bin, i])\n",
    "        ax1.plot(Surviving_Sat_SMF_MassRange_s, Total_StarFormation_Means_s[z_bin][i]/np.power(10, Surviving_Sat_SMF_MassRange_s), \"x\", color = colour, alpha = 0.5)\n",
    "        ax2.plot(Surviving_Sat_SMF_MassRange_s_sf, Total_StarFormation_Means_s_sf[z_bin][i]/np.power(10, Surviving_Sat_SMF_MassRange_s_sf), \"x\", color = colour, alpha = 0.5)\n",
    "        ax3.plot(Surviving_Sat_SMF_MassRange_sf, Total_StarFormation_Means_sf[z_bin][i]/np.power(10, Surviving_Sat_SMF_MassRange_sf), \"x\", color = colour, alpha = 0.5)\n",
    "ax1.set_title(\"Stripping\")\n",
    "ax1.set_ylabel(r\"$log10[M_{evo}/M_{frozen}]$\")\n",
    "#ax1.set_xlabel(r\"Mfrozen $M_{\\odot}$\")   \n",
    "ax2.set_title(\"Stripping and Starformation\")\n",
    "#ax2.set_ylabel(r\"$log10[M_{evo}/M_{frozen}]$\")\n",
    "ax2.set_xlabel(r\"Mfrozen $M_{\\odot}$\") \n",
    "ax3.set_title(\"Starformation\")\n",
    "#ax3.set_ylabel(r\"$log10[M_{evo}/M_{frozen}]$\")\n",
    "#ax3.set_xlabel(r\"Mfrozen $M_{\\odot}$\") \n",
    "\n",
    "\n",
    "plt.savefig(\"./PaperTwoPlotData/StellarMassEvolution.png\")\n",
    "plt.show()"
   ]
  },
  {
   "cell_type": "code",
   "execution_count": null,
   "metadata": {},
   "outputs": [],
   "source": [
    "colours = [\"C0\", \"C1\", \"C2\", \"C3\", \"C4\", \"C5\", \"C6\", \"C7\", \"C8\", \"C9\", \"k\"] \n",
    "\n",
    "z_bin = 0\n",
    "\n",
    "colourcycler = cycle(colours)\n",
    "AvaHaloMass, Surviving_Sat_SMF_MassRange, Total_StarFormation_Means, Total_StarFormation_Std = F.LoadData_Total_Starformation(('1.0', True, False, True, 'CE', 'G19_SE'))\n",
    "for i in [10, 20, 30, 40, 50]:\n",
    "    colour = next(colourcycler)\n",
    "    plt.plot(Surviving_Sat_SMF_MassRange, Total_StarFormation_Means[z_bin][i]/np.power(10, Surviving_Sat_SMF_MassRange), \"--\", label = round(AvaHaloMass[z_bin, i], 2), color = colour)\n",
    "plt.title(\"Stripping\")\n",
    "plt.ylabel(r\"$log10[M_{evo}/M_{frozen}]$\")\n",
    "plt.xlabel(r\"Mfrozen $M_{\\odot}$\")   \n",
    "plt.legend()\n",
    "plt.show()\n",
    "    \n",
    "colourcycler = cycle(colours)\n",
    "AvaHaloMass, Surviving_Sat_SMF_MassRange, Total_StarFormation_Means, Total_StarFormation_Std = F.LoadData_Total_Starformation(('1.0', True, True, True, 'CE', 'G19_SE'))\n",
    "for i in [10, 20, 30, 40, 50]:\n",
    "    colour = next(colourcycler)\n",
    "    plt.plot(Surviving_Sat_SMF_MassRange, Total_StarFormation_Means[i]/np.power(10, Surviving_Sat_SMF_MassRange), \"-.\", label = round(AvaHaloMass[0, i], 2), color = colour)\n",
    "plt.title(\"Stripping and Starformation\")\n",
    "plt.ylabel(r\"$log10[M_{evo}/M_{frozen}]$\")    \n",
    "plt.xlabel(r\"Mfrozen $M_{\\odot}$\")    \n",
    "plt.legend()\n",
    "plt.show()\n",
    "\n",
    "\n",
    "colourcycler = cycle(colours)\n",
    "AvaHaloMass, Surviving_Sat_SMF_MassRange, Total_StarFormation_Means, Total_StarFormation_Std = F.LoadData_Total_Starformation(('1.0', False, True, True, 'CE', 'G19_SE'))\n",
    "for i in [10, 20, 30, 40, 50]:\n",
    "    colour = next(colourcycler)\n",
    "    plt.plot(Surviving_Sat_SMF_MassRange, Total_StarFormation_Means[i]/np.power(10, Surviving_Sat_SMF_MassRange), \"-.\", label = round(AvaHaloMass[0, i], 2), color = colour)\n",
    "plt.title(\"Starformation\")\n",
    "plt.ylabel(r\"$log10[M_{evo}/M_{frozen}]$\")    \n",
    "plt.xlabel(r\"Mfrozen $M_{\\odot}$\")    \n",
    "plt.legend()\n",
    "plt.show()\n"
   ]
  },
  {
   "cell_type": "code",
   "execution_count": null,
   "metadata": {},
   "outputs": [],
   "source": [
    "StripFactor  = 10**F.StellarMassLoss(14.0, 13.0, 10.0, np.arange(4, 0, -0.1), 2.0, factor_only = True)\n",
    "print(StripFactor)"
   ]
  },
  {
   "cell_type": "code",
   "execution_count": null,
   "metadata": {},
   "outputs": [],
   "source": [
    "Start = 1\n",
    "Out = []\n",
    "StipFac_delta = StripFactor[:-1] - StripFactor[1:]\n",
    "for i in StripFactor:\n",
    "    Out.append(((2*i)-1))\n",
    "print(Out)"
   ]
  },
  {
   "cell_type": "code",
   "execution_count": null,
   "metadata": {},
   "outputs": [],
   "source": [
    "StipFac_delta[:,-1]"
   ]
  },
  {
   "cell_type": "code",
   "execution_count": null,
   "metadata": {},
   "outputs": [],
   "source": [
    "round(12.43745, 2)"
   ]
  },
  {
   "cell_type": "code",
   "execution_count": null,
   "metadata": {},
   "outputs": [],
   "source": [
    "import matplotlib.pyplot as plt"
   ]
  },
  {
   "cell_type": "code",
   "execution_count": null,
   "metadata": {},
   "outputs": [],
   "source": [
    "A = np.array([1,2,3])\n",
    "B = np.array([4,5,6])\n",
    "C = np.vstack((A,B))"
   ]
  },
  {
   "cell_type": "code",
   "execution_count": null,
   "metadata": {},
   "outputs": [],
   "source": [
    "C[0]"
   ]
  },
  {
   "cell_type": "code",
   "execution_count": null,
   "metadata": {},
   "outputs": [],
   "source": [
    "np.save?"
   ]
  },
  {
   "cell_type": "code",
   "execution_count": null,
   "metadata": {},
   "outputs": [],
   "source": [
    "Data = np.load(\"./PaperTwoPlotData/HaloMassTrackCE.npy\")"
   ]
  },
  {
   "cell_type": "code",
   "execution_count": null,
   "metadata": {},
   "outputs": [],
   "source": [
    "def SFR_t_fit(M_out, z = 0.5):\n",
    "    s0 = 0.6+ 1.22*(z) - 0.2*(z**2)\n",
    "    logM0 = 10.3 + 0.753*(z) - 0.15*(z**2)\n",
    "    \n",
    "    \n",
    "    Gamma = -(1.3 - 0.1*(z))# + 0.05*(z**2))#including -ve here to avoid it later\n",
    "    \n",
    "    \n",
    "    log10MperY = s0 - np.log10(1 + np.power(np.power(10, (M_out - logM0) ), Gamma))\n",
    "    return log10MperY"
   ]
  },
  {
   "cell_type": "code",
   "execution_count": null,
   "metadata": {},
   "outputs": [],
   "source": [
    "def SFR_s(SM, z):\n",
    "    \"\"\"\n",
    "    Calculates Starformation rate\n",
    "    Args:\n",
    "    SM: Stellar Mass [log10 Msun]\n",
    "    z: Redshift\n",
    "    Returns:\n",
    "    SFR: Star formation rate [log10 Msun yr-1]\n",
    "    \"\"\"\n",
    "    m = SM-9; r = np.log10(1+z)\n",
    "    m0, a0, a1, m1, a2 = 0.5, 1.5, 0.3, 0.36, 2.5\n",
    "    Max = m-m1-a2*r\n",
    "    Max[Max<0] = 0\n",
    "    log10MperY = m-m0+a0*r-a1*np.power(Max, 2)\n",
    "    return log10MperY"
   ]
  },
  {
   "cell_type": "code",
   "execution_count": null,
   "metadata": {},
   "outputs": [],
   "source": [
    "def SFR_t_refit(M_out, z = 0.5):\n",
    "    s0 = 0.85+ 1.2*(z) - 0.18*(z**2)\n",
    "    logM0 = 10.5 + 0.753*(z) - 0.15*(z**2)\n",
    "    \n",
    "    \n",
    "    Gamma = -(1.1)# - 0.1*(z))# + 0.05*(z**2))#including -ve here to avoid it later\n",
    "    \n",
    "    \n",
    "    log10MperY = s0 - np.log10(1 + np.power(np.power(10, (M_out - logM0) ), Gamma))\n",
    "    return log10MperY"
   ]
  },
  {
   "cell_type": "code",
   "execution_count": null,
   "metadata": {},
   "outputs": [],
   "source": [
    "def SFR_testfit(M_out, z = 0.5):\n",
    "    M_break = 10.6+ 0.2*z - 0.06*(z**2)\n",
    "    M_b_idx = np.digitize(M_break, bins = M_out)\n",
    "    LM_slope = 1.05\n",
    "    LM_int = -10.15 + 0.375*z - 0.02*(z**2)\n",
    "    HM_slope = -1.1 + 0.4*z\n",
    "    HM_int = (LM_slope*M_break + LM_int) - HM_slope*M_break \n",
    "    log10MperY = LM_slope*M_out + LM_int\n",
    "    log10MperY[M_b_idx:] = HM_slope*M_out[M_b_idx:]+ HM_int\n",
    "    return log10MperY\n",
    "    "
   ]
  },
  {
   "cell_type": "code",
   "execution_count": null,
   "metadata": {},
   "outputs": [],
   "source": [
    "def G19_SFR_DPL(M_out, z = 0.5):\n",
    "    M_n = np.power(10, 10.6+ 0.4*z - 0.075*(z**2))\n",
    "    Norm = 0.7 + 0.74*z - 0.085*(z**2)\n",
    "    Alpha = 1.05 \n",
    "    Beta = 1.2 - 0.15*z\n",
    "    MperY = 2*10**Norm*np.power( np.power(np.divide(10**M_out, M_n), -Alpha) + np.power(np.divide(10**M_out, M_n), Beta), -1)\n",
    "    return np.log10(MperY)"
   ]
  },
  {
   "cell_type": "code",
   "execution_count": null,
   "metadata": {},
   "outputs": [],
   "source": [
    "colours = [\"C0\", \"C1\", \"C2\", \"C3\", \"C4\", \"C5\", \"C6\", \"C7\", \"C8\", \"C9\", \"k\"]\n",
    "colourcycler = cycle(colours)\n",
    "M = np.arange(8, 12, 0.1)\n",
    "plt.figure(figsize = [8,6])\n",
    "for Redshift in [0.1, 1,2,3,4, 5]:\n",
    "    colour = next(colourcycler)\n",
    "    Mask = np.ma.masked_inside(Data[2], Redshift-0.1, Redshift+0.1).mask\n",
    "    plt.plot(np.log10(Data[0][Mask]), np.log10(Data[1][Mask]), \"x\", label = \"z:{}\".format(Redshift), color = colour)\n",
    "    #plt.plot(M, SFR_testfit(M, Redshift), \"-\", color = colour)\n",
    "    plt.plot(M, G19_SFR_DPL(M, Redshift), \"-.\", color = colour)\n",
    "plt.legend()\n",
    "plt.show()"
   ]
  },
  {
   "cell_type": "code",
   "execution_count": null,
   "metadata": {},
   "outputs": [],
   "source": [
    "np.ma.masked_inside(Data[2], 0.9, 1)"
   ]
  },
  {
   "cell_type": "code",
   "execution_count": null,
   "metadata": {},
   "outputs": [],
   "source": [
    "import os"
   ]
  },
  {
   "cell_type": "code",
   "execution_count": null,
   "metadata": {},
   "outputs": [],
   "source": [
    "os.listdir(path=\"../../\")"
   ]
  },
  {
   "cell_type": "code",
   "execution_count": null,
   "metadata": {},
   "outputs": [],
   "source": [
    "import os\n",
    "AbsPath = os.path.abspath(\"\")"
   ]
  },
  {
   "cell_type": "code",
   "execution_count": null,
   "metadata": {},
   "outputs": [],
   "source": [
    "AbsPath"
   ]
  },
  {
   "cell_type": "code",
   "execution_count": null,
   "metadata": {},
   "outputs": [],
   "source": [
    "os.listdir(path=AbsPath+\"/..\")"
   ]
  },
  {
   "cell_type": "code",
   "execution_count": null,
   "metadata": {},
   "outputs": [],
   "source": []
  }
 ],
 "metadata": {
  "kernelspec": {
   "display_name": "Python 3",
   "language": "python",
   "name": "python3"
  },
  "language_info": {
   "codemirror_mode": {
    "name": "ipython",
    "version": 3
   },
   "file_extension": ".py",
   "mimetype": "text/x-python",
   "name": "python",
   "nbconvert_exporter": "python",
   "pygments_lexer": "ipython3",
   "version": "3.6.6"
  }
 },
 "nbformat": 4,
 "nbformat_minor": 2
}
