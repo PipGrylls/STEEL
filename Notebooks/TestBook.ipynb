{
 "cells": [
  {
   "cell_type": "code",
   "execution_count": 4,
   "metadata": {},
   "outputs": [],
   "source": [
    "import os\n",
    "import sys\n",
    "AbsPath = os.path.abspath(\"\")\n",
    "sys.path.append(AbsPath+\"/..\")\n",
    "#from Scripts.Plots import SDSS_Plots\n",
    "from itertools import cycle\n",
    "#Add_SDSS = SDSS_Plots.SDSS_Plots(11.5,15,0.1)\n",
    "import matplotlib.pyplot as plt\n",
    "from Functions import Functions as F\n",
    "HMF_fun = F.Make_HMF_Interp()\n",
    "from Functions.Functions import Make_HMF_Interp\n",
    "import numpy as np\n",
    "import matplotlib.pyplot as plt\n",
    "import importlib\n",
    "import colossus.halo.mass_adv as massdefs\n",
    "from colossus.halo.mass_so import M_to_R\n",
    "from halotools import empirical_models\n",
    "import matplotlib.pyplot as plt\n",
    "from colossus.cosmology import cosmology\n",
    "cosmology.setCosmology(\"planck15\")\n",
    "from astropy.cosmology import Planck15 as Cosmo_AstroPy\n",
    "Cosmo =cosmology.getCurrent()\n",
    "\n",
    "h = Cosmo.h\n",
    "\n",
    "#Abundance Matching Parameters\n",
    "Override =\\\n",
    "{\\\n",
    "'M10':12.0,\\\n",
    "'SHMnorm10':0.032,\\\n",
    "'beta10':1.5,\\\n",
    "'gamma10':0.56,\\\n",
    "'M11':0.6,\\\n",
    "'SHMnorm11':-0.014,\\\n",
    "'beta11':-2,\\\n",
    "'gamma11':0.08\\\n",
    "}\n",
    "\n",
    "\n",
    "AbnMtch =\\\n",
    "{\\\n",
    "'Behroozi13': False,\\\n",
    "'Behroozi18': False,\\\n",
    "'B18c':False,\\\n",
    "'B18t':False,\\\n",
    "'G18':False,\\\n",
    "'G18_notSE':False,\\\n",
    "'G19_SE':False,\\\n",
    "'G19_cMod':False,\\\n",
    "'Lorenzo18':False,\\\n",
    "'Moster': False,\\\n",
    "'Moster10': False,\\\n",
    "'Illustris': False,\\\n",
    "'z_Evo':True,\\\n",
    "'Scatter': 0.15,\\\n",
    "'Override_0': False,\\\n",
    "'Override_z': False,\\\n",
    "'Override': Override,\\\n",
    "'PFT': False,\\\n",
    "'M_PFT1': False,\\\n",
    "'M_PFT2': False,\\\n",
    "'M_PFT3': False,\\\n",
    "'N_PFT1': False,\\\n",
    "'N_PFT2': False,\\\n",
    "'N_PFT3': False,\\\n",
    "'b_PFT1': False,\\\n",
    "'b_PFT2': False,\\\n",
    "'b_PFT3': False,\\\n",
    "'g_PFT1': False,\\\n",
    "'g_PFT2': False,\\\n",
    "'g_PFT3': False,\\\n",
    "'g_PFT4': False\\\n",
    "}\n",
    "\n",
    "Paramaters = \\\n",
    "{\\\n",
    "'AbnMtch' : AbnMtch,\\\n",
    "'AltDynamicalTime': 1,\\\n",
    "'NormRnd': 0.5,\\\n",
    "'SFR_Model': 'CE',\\\n",
    "'PreProcessing': False,\\\n",
    "'AltDynamicalTimeB': False\\\n",
    "}\n",
    "\n",
    "\n",
    "\n",
    "#Subhalomass function parameters macc/M0\n",
    "Unevolved = {\\\n",
    "'gamma' : 0.22,\\\n",
    "'alpha' : -0.91,\\\n",
    "'beta' : 6,\\\n",
    "'omega' : 3,\\\n",
    "'a' : 1,\\\n",
    "}"
   ]
  },
  {
   "cell_type": "code",
   "execution_count": null,
   "metadata": {},
   "outputs": [],
   "source": [
    "importlib.reload(F)"
   ]
  },
  {
   "cell_type": "code",
   "execution_count": 2,
   "metadata": {},
   "outputs": [
    {
     "data": {
      "text/plain": [
       "\u001b[0;31mSignature:\u001b[0m      \n",
       "\u001b[0mF\u001b[0m\u001b[0;34m.\u001b[0m\u001b[0mDarkMatterToStellarMass\u001b[0m\u001b[0;34m(\u001b[0m\u001b[0;34m\u001b[0m\n",
       "\u001b[0;34m\u001b[0m    \u001b[0;34m[\u001b[0m\u001b[0;34m'DM'\u001b[0m\u001b[0;34m,\u001b[0m \u001b[0;34m'z'\u001b[0m\u001b[0;34m,\u001b[0m \u001b[0;34m'Paramaters'\u001b[0m\u001b[0;34m,\u001b[0m \u001b[0;34m'ScatterOn=False'\u001b[0m\u001b[0;34m,\u001b[0m \u001b[0;34m'Scatter=0.001'\u001b[0m\u001b[0;34m,\u001b[0m \u001b[0;34m'Pairwise=True'\u001b[0m\u001b[0;34m]\u001b[0m\u001b[0;34m,\u001b[0m\u001b[0;34m\u001b[0m\n",
       "\u001b[0;34m\u001b[0m\u001b[0;34m)\u001b[0m\u001b[0;34m\u001b[0m\u001b[0m\n",
       "\u001b[0;31mCall signature:\u001b[0m  \u001b[0mF\u001b[0m\u001b[0;34m.\u001b[0m\u001b[0mDarkMatterToStellarMass\u001b[0m\u001b[0;34m(\u001b[0m\u001b[0;34m*\u001b[0m\u001b[0margs\u001b[0m\u001b[0;34m,\u001b[0m \u001b[0;34m**\u001b[0m\u001b[0mkwargs\u001b[0m\u001b[0;34m)\u001b[0m\u001b[0;34m\u001b[0m\u001b[0m\n",
       "\u001b[0;31mType:\u001b[0m            CPUDispatcher\n",
       "\u001b[0;31mString form:\u001b[0m     CPUDispatcher(<function DarkMatterToStellarMass at 0x7fe83b3e7d08>)\n",
       "\u001b[0;31mFile:\u001b[0m            /data/pg1g15/STEEL/Functions/Functions.py\n",
       "\u001b[0;31mDocstring:\u001b[0m      \n",
       "This funtion returns Stellar mass in log10 Msun, all arguments should be passed in simmilar cosmology (Planck 15 unless otherwise stated)\n",
       "DM and z is longer than 1 are assumed pairwise if N == M, otherwise Array N is calculated for all elements (M) of z. If N==M but pairwise is not desired pass Pairwise == False\n",
       "Args:\n",
       "    DM: Dark Matter in log10 Msun. Can be (1,), (N,), or (N, M)).\n",
       "    z: Redshift. Can be (1,) or (M,) \n",
       "    Parameters: Python Dictonary Containing Subdictonary 'AbnMtch':\n",
       "                    Containing Booleans: 'z_Evo', 'Moster', 'Override_0', 'Override_z', 'G18'\n",
       "                    Containing Parameters: 'Scatter'\n",
       "                    Containing Dictonary: 'OverRide':\n",
       "                        Containing Parameters: 'M10', 'SHMnorm10', 'beta10', 'gamma10', 'M11', 'SHMnorm11', 'beta11', 'gamma11' \n",
       "    ScatterOn: Bool to switch scatter on/off\n",
       "    Scatter: Scatter set low should be set in parameter section or sent via Scatter in dictonary.\n",
       "    Pairwise: Bool. If true and N==M n and M will not be calculated Pairwise\n",
       "Returns:\n",
       "    Stellar mass array in log10 Msun. Shape will be (1,), (N,), or (N, M) depending on the sape of inputs.\n",
       "Raises: \n",
       "    N/A\n",
       "\u001b[0;31mClass docstring:\u001b[0m\n",
       "Implementation of user-facing dispatcher objects (i.e. created using\n",
       "the @jit decorator).\n",
       "This is an abstract base class. Subclasses should define the targetdescr\n",
       "class attribute.\n",
       "\u001b[0;31mInit docstring:\u001b[0m \n",
       "Parameters\n",
       "----------\n",
       "py_func: function object to be compiled\n",
       "locals: dict, optional\n",
       "    Mapping of local variable names to Numba types.  Used to override\n",
       "    the types deduced by the type inference engine.\n",
       "targetoptions: dict, optional\n",
       "    Target-specific config options.\n",
       "impl_kind: str\n",
       "    Select the compiler mode for `@jit` and `@generated_jit`\n",
       "pipeline_class: type numba.compiler.BasePipeline\n",
       "    The compiler pipeline type.\n"
      ]
     },
     "metadata": {},
     "output_type": "display_data"
    }
   ],
   "source": [
    "F.DarkMatterToStellarMass?"
   ]
  },
  {
   "cell_type": "code",
   "execution_count": 6,
   "metadata": {},
   "outputs": [
    {
     "data": {
      "image/png": "[encoded data removed]",
      "text/plain": [
       "<Figure size 432x288 with 1 Axes>"
      ]
     },
     "metadata": {
      "needs_background": "light"
     },
     "output_type": "display_data"
    }
   ],
   "source": [
    "AbnMtch['G19_SE'] = True\n",
    "Mh = np.arange(11, 15, 0.1)\n",
    "for z in [1, 2]:\n",
    "    Ms = F.DarkMatterToStellarMass(Mh, z, Paramaters)\n",
    "    plt.plot(Mh, Ms, label = z)\n",
    "plt.legend()\n",
    "plt.show()\n",
    "AbnMtch['G19_SE'] = False"
   ]
  },
  {
   "cell_type": "code",
   "execution_count": null,
   "metadata": {},
   "outputs": [],
   "source": []
  },
  {
   "cell_type": "code",
   "execution_count": null,
   "metadata": {},
   "outputs": [],
   "source": [
    "Override =\\\n",
    "{\\\n",
    "'M10':12.0,\\\n",
    "'SHMnorm10':0.032,\\\n",
    "'beta10':1.5,\\\n",
    "'gamma10':0.56,\\\n",
    "'M11':0.6,\\\n",
    "'SHMnorm11':-0.014,\\\n",
    "'beta11':-2,\\\n",
    "'gamma11':0.08\\\n",
    "}\n",
    "\n",
    "AbnMtch['Override_0'] = False\n",
    "AbnMtch['Override_z'] = False\n",
    "AbnMtch['Override'] = Override\n",
    "\n",
    "AbnMtch['G19_SE'] = True\n",
    "for Redshift in Cosmo.lookbackTime([0, 4, 8, 12], inverse = True):\n",
    "    plt.plot(np.arange(10, 15, 0.1)- np.log10(h), F.DarkMatterToStellarMass(np.arange(10, 15, 0.1) - np.log10(h), Redshift, Paramaters, ScatterOn = False), label = round(Redshift,1))\n",
    "plt.legend()\n",
    "plt.show()    \n",
    "AbnMtch['G19_SE'] = False\n",
    "\n",
    "AbnMtch['Moster'] = True\n",
    "for Redshift in Cosmo.lookbackTime([0, 4, 8, 12], inverse = True):\n",
    "    plt.plot(np.arange(10, 15, 0.1)- np.log10(h), F.DarkMatterToStellarMass(np.arange(10, 15, 0.1) - np.log10(h), Redshift, Paramaters, ScatterOn = False), label = round(Redshift,1))\n",
    "plt.legend()\n",
    "plt.show()\n",
    "AbnMtch['Moster'] = False"
   ]
  },
  {
   "cell_type": "code",
   "execution_count": null,
   "metadata": {},
   "outputs": [],
   "source": [
    "Cosmo.lookbackTime?"
   ]
  },
  {
   "cell_type": "code",
   "execution_count": null,
   "metadata": {},
   "outputs": [],
   "source": [
    "Override =\\\n",
    "{\\\n",
    "'M10':11.8,\\\n",
    "'SHMnorm10':0.018,\\\n",
    "'beta10':1.5,\\\n",
    "'gamma10':0.31,\\\n",
    "'M11':0,\\\n",
    "'SHMnorm11':-0.01,\\\n",
    "'beta11':0.0,\\\n",
    "'gamma11':-0.12\\\n",
    "}\n",
    "\n",
    "SM_bin = 0.1\n",
    "SMF_Bins = np.arange(9, 12.5, SM_bin)\n",
    "Halo_bin = 0.1\n",
    "Halo_MR = np.arange(10, 16, Halo_bin)\n",
    "Halo_MR_m200 = np.log10(massdefs.changeMassDefinitionCModel(M=np.power(10, Halo_MR), z=0.1, mdef_in='vir', mdef_out='200c')[0])\n",
    "\n",
    "\n",
    "\n",
    "AbnMtch['Illustris'] =  False\n",
    "\n",
    "\n",
    "AbnMtch['Override_0'] = True\n",
    "AbnMtch['Override_z'] = True\n",
    "AbnMtch['Override'] = Override\n",
    "\n",
    "for Snap in (99, 67, 50, 40, 33, 25):\n",
    "    Redshift = (100/Snap) -1\n",
    "    f, axarr = plt.subplots(1, 3, figsize=(10,4))\n",
    "    \n",
    "    \n",
    "    axarr[0].plot(np.arange(10, 15, 0.1)- np.log10(h), F.DarkMatterToStellarMass(np.arange(10, 15, 0.1) - np.log10(h), Redshift, Paramaters, ScatterOn = False), \"-C0\", label = \"Fit\")\n",
    "    SMHM_ill = np.load('./PaperTwoPlotData/Illustris/SMHM_fillbtwn_{}.npy'.format(Snap))\n",
    "    axarr[0].fill_between(SMHM_ill[0]- np.log10(h), SMHM_ill[1]- np.log10(h), SMHM_ill[2]- np.log10(h), color = 'k', alpha = 0.5, label = 'Illustris')\n",
    "    axarr[0].set_xlim(11, 14.5)\n",
    "    axarr[0].set_ylim(8.5, 12.5)\n",
    "    axarr[0].set_xlabel(r\"log10 Halo Mass $M_{\\odot}$\")\n",
    "    axarr[0].set_ylabel(r\"log10 Stellar Mass $M_{\\odot}$\")\n",
    "    \n",
    "    SMF = F.DM_to_SM(SMF_Bins, np.log10(HMF_fun(Halo_MR, Redshift)), Halo_MR_m200- np.log10(h), Halo_bin, SM_bin, Paramaters, Redshift = Redshift, N = 1000)[1]\n",
    "    axarr[1].plot(SMF_Bins, SMF, \"-C0\")\n",
    "    SMF_ill = np.load('./PaperTwoPlotData/Illustris/SMF_errbar_{}.npy'.format(Snap))\n",
    "    axarr[1].errorbar(SMF_ill[0]- np.log10(h), SMF_ill[1], yerr = [SMF_ill[2], SMF_ill[3]], color = 'k',  fmt = \"s\", label = 'Illustris', mfc = None, fillstyle = \"none\")\n",
    "    axarr[1].set_ylim(-5, -2)\n",
    "    axarr[1].set_title(round(Redshift, 2))\n",
    "    axarr[1].set_xlabel(r\"log10 Stellar Mass $M_{\\odot}$\")\n",
    "    axarr[1].set_ylabel(r\"$log_{10}  \\phi$ $[Mpc^{-3} dex^{-1}]$\")\n",
    "    \n",
    "    HMF_ill = np.load('./PaperTwoPlotData/Illustris/HMF_errbar_{}.npy'.format(Snap))\n",
    "    axarr[2].errorbar(HMF_ill[0]- np.log10(h), HMF_ill[1], yerr = [HMF_ill[2], HMF_ill[3]], color = 'k',  fmt = \"s\", label = 'Illustris', mfc = None, fillstyle = \"none\")\n",
    "    axarr[2].set_ylim(-5, -2)\n",
    "    axarr[2].set_xlim(11, 15)\n",
    "    axarr[2].plot(Halo_MR_m200 - np.log10(h), np.log10(HMF_fun(Halo_MR, Redshift)) +3*np.log10(h), \"-C0\")\n",
    "    axarr[2].set_xlabel(r\"log10 Halo Mass $M_{\\odot}$\")\n",
    "    axarr[2].set_ylabel(r\"$log_{10}  \\phi$ $[Mpc^{-3} dex^{-1}]$\")\n",
    "    \n",
    "    plt.tight_layout()\n",
    "    \n",
    "    plt.savefig(\"./PaperTwoPlotData/Illustris/Plots/HMSM_SMF_HMF{}.png\".format(round(Redshift, 2)))\n",
    "    \n",
    "    plt.show()\n",
    "    plt.clf()\n",
    "    \n",
    "AbnMtch['Override_0'] = False\n",
    "AbnMtch['Override_z'] = False\n",
    "AbnMtch['Illustris'] =  False"
   ]
  },
  {
   "cell_type": "code",
   "execution_count": null,
   "metadata": {},
   "outputs": [],
   "source": [
    "for HM_c in [12.5,14]:\n",
    "    HM_s = np.arange(10, 12.5, 0.1)\n",
    "\n",
    "    #halo mass ratio converted to natural numbers\n",
    "    Mh_Ms = np.power(10, HM_c - HM_s)\n",
    "    #Catteneo++ 2011\n",
    "    Strip = np.power(0.6, (1.428/(2*np.pi))*(Mh_Ms/np.log(1+Mh_Ms)))\n",
    "\n",
    "\n",
    "    #plt.plot(HM_s, (1.428/(2*np.pi))*(Mh_Ms/np.log(1+Mh_Ms)))\n",
    "    #plt.show()\n",
    "\n",
    "    #plt.plot(HM_s, Strip)\n",
    "    #plt.show()\n",
    "\n",
    "    plt.plot(np.log10(Mh_Ms), np.log10(Strip))\n",
    "plt.ylim(-1, 0)\n",
    "plt.xlim(0.0, 2.0)\n",
    "plt.show()"
   ]
  },
  {
   "cell_type": "code",
   "execution_count": null,
   "metadata": {},
   "outputs": [],
   "source": [
    "RunParam = ('1.0', True, True, True, 'Illustris', 'Illustris')\n",
    "\"./Other_Data_Outputs/Total_StarFormation_Means_{}\".format(\"\".join((\"{}_\".format(i) for i in RunParam)))"
   ]
  },
  {
   "cell_type": "code",
   "execution_count": null,
   "metadata": {},
   "outputs": [],
   "source": [
    "AvaHaloMass, Surviving_Sat_SMF_MassRange, Total_StarFormation_Means, Total_StarFormation_Std = F.LoadData_Total_Starformation(('1.0', True, False, True, 'CE', 'G19_SE'))\n",
    "f\n",
    "print(np.shape(Total_StarFormation_Means))"
   ]
  },
  {
   "cell_type": "code",
   "execution_count": null,
   "metadata": {},
   "outputs": [],
   "source": [
    "print(Total_StarFormation_Means[10][50])\n",
    "print(Total_StarFormation_Std[10][50])"
   ]
  },
  {
   "cell_type": "code",
   "execution_count": null,
   "metadata": {},
   "outputs": [],
   "source": []
  },
  {
   "cell_type": "code",
   "execution_count": null,
   "metadata": {},
   "outputs": [],
   "source": [
    "from matplotlib.gridspec import GridSpec"
   ]
  },
  {
   "cell_type": "code",
   "execution_count": null,
   "metadata": {},
   "outputs": [],
   "source": [
    "from matplotlib import cm\n",
    "ColourMap = cm.viridis\n",
    "\n",
    "fig = plt.figure(figsize=[12, 4])\n",
    "gs = GridSpec(4, 13, hspace=0.0,wspace=0.0,figure=fig)\n",
    "ax1 = fig.add_subplot(gs[0:4, 0:4])\n",
    "ax2 = fig.add_subplot(gs[0:4, 4:8])\n",
    "ax3 = fig.add_subplot(gs[0:4, 8:12])\n",
    "ColorBar = fig.add_subplot(gs[0:4, 12:13])\n",
    "\n",
    "AvaHaloMass_s, z_s, Surviving_Sat_SMF_MassRange_s, Total_StarFormation_Means_s, Total_StarFormation_Std_s = F.LoadData_Total_Starformation(('1.0', True, False, True, 'CE', 'G19_SE'))\n",
    "AvaHaloMass_s_sf, z_s_sf, Surviving_Sat_SMF_MassRange_s_sf, Total_StarFormation_Means_s_sf, Total_StarFormation_Std_s_sf = F.LoadData_Total_Starformation(('1.0', True, True, True, 'CE', 'G19_SE'))\n",
    "AvaHaloMass_sf, z_sf, Surviving_Sat_SMF_MassRange_sf, Total_StarFormation_Means_sf, Total_StarFormation_Std_sf = F.LoadData_Total_Starformation(('1.0', False, True, True, 'CE', 'G19_SE'))\n",
    "\n",
    "\n",
    "def GetColour(HM):\n",
    "    Min = np.min(AvaHaloMass_s)\n",
    "    Max = np.max(AvaHaloMass_s)\n",
    "    return ColourMap(float((HM-Min)/(Max-Min)))\n",
    "\n",
    "\n",
    "for i in np.arange(np.min(AvaHaloMass_s), np.max(AvaHaloMass_s), 0.01):\n",
    "    ColorBar.fill_between([-0.5, 1.5], i, i+0.01, color = GetColour(i))\n",
    "ColorBar.set_ylim(np.min(AvaHaloMass_s), np.max(AvaHaloMass_s))\n",
    "ColorBar.set_xlim(0, 1)\n",
    "ColorBar.yaxis.tick_right()\n",
    "ColorBar.yaxis.set_label_position(\"right\")\n",
    "ColorBar.set_ylabel(\"HaloMass\")\n",
    "\n",
    "for i in range(0, 56):\n",
    "    for z_bin in range(0, 189):\n",
    "        colour = GetColour(AvaHaloMass[z_bin, i])\n",
    "        ax1.plot(Surviving_Sat_SMF_MassRange_s, Total_StarFormation_Means_s[z_bin][i]/np.power(10, Surviving_Sat_SMF_MassRange_s), \"x\", color = colour, alpha = 0.5)\n",
    "        ax2.plot(Surviving_Sat_SMF_MassRange_s_sf, Total_StarFormation_Means_s_sf[z_bin][i]/np.power(10, Surviving_Sat_SMF_MassRange_s_sf), \"x\", color = colour, alpha = 0.5)\n",
    "        ax3.plot(Surviving_Sat_SMF_MassRange_sf, Total_StarFormation_Means_sf[z_bin][i]/np.power(10, Surviving_Sat_SMF_MassRange_sf), \"x\", color = colour, alpha = 0.5)\n",
    "ax1.set_title(\"Stripping\")\n",
    "ax1.set_ylabel(r\"$log10[M_{evo}/M_{frozen}]$\")\n",
    "#ax1.set_xlabel(r\"Mfrozen $M_{\\odot}$\")   \n",
    "ax2.set_title(\"Stripping and Starformation\")\n",
    "#ax2.set_ylabel(r\"$log10[M_{evo}/M_{frozen}]$\")\n",
    "ax2.set_xlabel(r\"Mfrozen $M_{\\odot}$\") \n",
    "ax3.set_title(\"Starformation\")\n",
    "#ax3.set_ylabel(r\"$log10[M_{evo}/M_{frozen}]$\")\n",
    "#ax3.set_xlabel(r\"Mfrozen $M_{\\odot}$\") \n",
    "\n",
    "\n",
    "plt.savefig(\"./PaperTwoPlotData/StellarMassEvolution.png\")\n",
    "plt.show()"
   ]
  },
  {
   "cell_type": "code",
   "execution_count": null,
   "metadata": {},
   "outputs": [],
   "source": [
    "colours = [\"C0\", \"C1\", \"C2\", \"C3\", \"C4\", \"C5\", \"C6\", \"C7\", \"C8\", \"C9\", \"k\"] \n",
    "\n",
    "z_bin = 0\n",
    "\n",
    "colourcycler = cycle(colours)\n",
    "AvaHaloMass, Surviving_Sat_SMF_MassRange, Total_StarFormation_Means, Total_StarFormation_Std = F.LoadData_Total_Starformation(('1.0', True, False, True, 'CE', 'G19_SE'))\n",
    "for i in [10, 20, 30, 40, 50]:\n",
    "    colour = next(colourcycler)\n",
    "    plt.plot(Surviving_Sat_SMF_MassRange, Total_StarFormation_Means[z_bin][i]/np.power(10, Surviving_Sat_SMF_MassRange), \"--\", label = round(AvaHaloMass[z_bin, i], 2), color = colour)\n",
    "plt.title(\"Stripping\")\n",
    "plt.ylabel(r\"$log10[M_{evo}/M_{frozen}]$\")\n",
    "plt.xlabel(r\"Mfrozen $M_{\\odot}$\")   \n",
    "plt.legend()\n",
    "plt.show()\n",
    "    \n",
    "colourcycler = cycle(colours)\n",
    "AvaHaloMass, Surviving_Sat_SMF_MassRange, Total_StarFormation_Means, Total_StarFormation_Std = F.LoadData_Total_Starformation(('1.0', True, True, True, 'CE', 'G19_SE'))\n",
    "for i in [10, 20, 30, 40, 50]:\n",
    "    colour = next(colourcycler)\n",
    "    plt.plot(Surviving_Sat_SMF_MassRange, Total_StarFormation_Means[i]/np.power(10, Surviving_Sat_SMF_MassRange), \"-.\", label = round(AvaHaloMass[0, i], 2), color = colour)\n",
    "plt.title(\"Stripping and Starformation\")\n",
    "plt.ylabel(r\"$log10[M_{evo}/M_{frozen}]$\")    \n",
    "plt.xlabel(r\"Mfrozen $M_{\\odot}$\")    \n",
    "plt.legend()\n",
    "plt.show()\n",
    "\n",
    "\n",
    "colourcycler = cycle(colours)\n",
    "AvaHaloMass, Surviving_Sat_SMF_MassRange, Total_StarFormation_Means, Total_StarFormation_Std = F.LoadData_Total_Starformation(('1.0', False, True, True, 'CE', 'G19_SE'))\n",
    "for i in [10, 20, 30, 40, 50]:\n",
    "    colour = next(colourcycler)\n",
    "    plt.plot(Surviving_Sat_SMF_MassRange, Total_StarFormation_Means[i]/np.power(10, Surviving_Sat_SMF_MassRange), \"-.\", label = round(AvaHaloMass[0, i], 2), color = colour)\n",
    "plt.title(\"Starformation\")\n",
    "plt.ylabel(r\"$log10[M_{evo}/M_{frozen}]$\")    \n",
    "plt.xlabel(r\"Mfrozen $M_{\\odot}$\")    \n",
    "plt.legend()\n",
    "plt.show()\n"
   ]
  },
  {
   "cell_type": "code",
   "execution_count": null,
   "metadata": {},
   "outputs": [],
   "source": [
    "StripFactor  = 10**F.StellarMassLoss(14.0, 13.0, 10.0, np.arange(4, 0, -0.1), 2.0, factor_only = True)\n",
    "print(StripFactor)"
   ]
  },
  {
   "cell_type": "code",
   "execution_count": null,
   "metadata": {},
   "outputs": [],
   "source": [
    "Start = 1\n",
    "Out = []\n",
    "StipFac_delta = StripFactor[:-1] - StripFactor[1:]\n",
    "for i in StripFactor:\n",
    "    Out.append(((2*i)-1))\n",
    "print(Out)"
   ]
  },
  {
   "cell_type": "code",
   "execution_count": null,
   "metadata": {},
   "outputs": [],
   "source": [
    "StipFac_delta[:,-1]"
   ]
  },
  {
   "cell_type": "code",
   "execution_count": null,
   "metadata": {},
   "outputs": [],
   "source": [
    "round(12.43745, 2)"
   ]
  },
  {
   "cell_type": "code",
   "execution_count": null,
   "metadata": {},
   "outputs": [],
   "source": [
    "import matplotlib.pyplot as plt"
   ]
  },
  {
   "cell_type": "code",
   "execution_count": null,
   "metadata": {},
   "outputs": [],
   "source": [
    "A = np.array([1,2,3])\n",
    "B = np.array([4,5,6])\n",
    "C = np.vstack((A,B))"
   ]
  },
  {
   "cell_type": "code",
   "execution_count": 9,
   "metadata": {},
   "outputs": [
    {
     "data": {
      "text/plain": [
       "\u001b[0;31mSignature:\u001b[0m \u001b[0mnp\u001b[0m\u001b[0;34m.\u001b[0m\u001b[0mrepeat\u001b[0m\u001b[0;34m(\u001b[0m\u001b[0ma\u001b[0m\u001b[0;34m,\u001b[0m \u001b[0mrepeats\u001b[0m\u001b[0;34m,\u001b[0m \u001b[0maxis\u001b[0m\u001b[0;34m=\u001b[0m\u001b[0;32mNone\u001b[0m\u001b[0;34m)\u001b[0m\u001b[0;34m\u001b[0m\u001b[0m\n",
       "\u001b[0;31mDocstring:\u001b[0m\n",
       "Repeat elements of an array.\n",
       "\n",
       "Parameters\n",
       "----------\n",
       "a : array_like\n",
       "    Input array.\n",
       "repeats : int or array of ints\n",
       "    The number of repetitions for each element.  `repeats` is broadcasted\n",
       "    to fit the shape of the given axis.\n",
       "axis : int, optional\n",
       "    The axis along which to repeat values.  By default, use the\n",
       "    flattened input array, and return a flat output array.\n",
       "\n",
       "Returns\n",
       "-------\n",
       "repeated_array : ndarray\n",
       "    Output array which has the same shape as `a`, except along\n",
       "    the given axis.\n",
       "\n",
       "See Also\n",
       "--------\n",
       "tile : Tile an array.\n",
       "\n",
       "Examples\n",
       "--------\n",
       ">>> np.repeat(3, 4)\n",
       "array([3, 3, 3, 3])\n",
       ">>> x = np.array([[1,2],[3,4]])\n",
       ">>> np.repeat(x, 2)\n",
       "array([1, 1, 2, 2, 3, 3, 4, 4])\n",
       ">>> np.repeat(x, 3, axis=1)\n",
       "array([[1, 1, 1, 2, 2, 2],\n",
       "       [3, 3, 3, 4, 4, 4]])\n",
       ">>> np.repeat(x, [1, 2], axis=0)\n",
       "array([[1, 2],\n",
       "       [3, 4],\n",
       "       [3, 4]])\n",
       "\u001b[0;31mFile:\u001b[0m      ~/anaconda3/lib/python3.6/site-packages/numpy/core/fromnumeric.py\n",
       "\u001b[0;31mType:\u001b[0m      function\n"
      ]
     },
     "metadata": {},
     "output_type": "display_data"
    }
   ],
   "source": [
    "np.repeat?"
   ]
  },
  {
   "cell_type": "code",
   "execution_count": 7,
   "metadata": {},
   "outputs": [
    {
     "data": {
      "text/plain": [
       "\u001b[0;31mSignature:\u001b[0m\n",
       "\u001b[0mnp\u001b[0m\u001b[0;34m.\u001b[0m\u001b[0mhistogram\u001b[0m\u001b[0;34m(\u001b[0m\u001b[0;34m\u001b[0m\n",
       "\u001b[0;34m\u001b[0m    \u001b[0;34m[\u001b[0m\u001b[0;34m'a'\u001b[0m\u001b[0;34m,\u001b[0m \u001b[0;34m'bins=10'\u001b[0m\u001b[0;34m,\u001b[0m \u001b[0;34m'range=None'\u001b[0m\u001b[0;34m,\u001b[0m \u001b[0;34m'normed=None'\u001b[0m\u001b[0;34m,\u001b[0m \u001b[0;34m'weights=None'\u001b[0m\u001b[0;34m,\u001b[0m \u001b[0;34m'density=None'\u001b[0m\u001b[0;34m]\u001b[0m\u001b[0;34m,\u001b[0m\u001b[0;34m\u001b[0m\n",
       "\u001b[0;34m\u001b[0m\u001b[0;34m)\u001b[0m\u001b[0;34m\u001b[0m\u001b[0m\n",
       "\u001b[0;31mDocstring:\u001b[0m\n",
       "Compute the histogram of a set of data.\n",
       "\n",
       "Parameters\n",
       "----------\n",
       "a : array_like\n",
       "    Input data. The histogram is computed over the flattened array.\n",
       "bins : int or sequence of scalars or str, optional\n",
       "    If `bins` is an int, it defines the number of equal-width\n",
       "    bins in the given range (10, by default). If `bins` is a\n",
       "    sequence, it defines the bin edges, including the rightmost\n",
       "    edge, allowing for non-uniform bin widths.\n",
       "\n",
       "    .. versionadded:: 1.11.0\n",
       "\n",
       "    If `bins` is a string, it defines the method used to calculate the\n",
       "    optimal bin width, as defined by `histogram_bin_edges`.\n",
       "\n",
       "range : (float, float), optional\n",
       "    The lower and upper range of the bins.  If not provided, range\n",
       "    is simply ``(a.min(), a.max())``.  Values outside the range are\n",
       "    ignored. The first element of the range must be less than or\n",
       "    equal to the second. `range` affects the automatic bin\n",
       "    computation as well. While bin width is computed to be optimal\n",
       "    based on the actual data within `range`, the bin count will fill\n",
       "    the entire range including portions containing no data.\n",
       "normed : bool, optional\n",
       "\n",
       "    .. deprecated:: 1.6.0\n",
       "\n",
       "    This is equivalent to the `density` argument, but produces incorrect\n",
       "    results for unequal bin widths. It should not be used.\n",
       "\n",
       "    .. versionchanged:: 1.15.0\n",
       "        DeprecationWarnings are actually emitted.\n",
       "\n",
       "weights : array_like, optional\n",
       "    An array of weights, of the same shape as `a`.  Each value in\n",
       "    `a` only contributes its associated weight towards the bin count\n",
       "    (instead of 1). If `density` is True, the weights are\n",
       "    normalized, so that the integral of the density over the range\n",
       "    remains 1.\n",
       "density : bool, optional\n",
       "    If ``False``, the result will contain the number of samples in\n",
       "    each bin. If ``True``, the result is the value of the\n",
       "    probability *density* function at the bin, normalized such that\n",
       "    the *integral* over the range is 1. Note that the sum of the\n",
       "    histogram values will not be equal to 1 unless bins of unity\n",
       "    width are chosen; it is not a probability *mass* function.\n",
       "\n",
       "    Overrides the ``normed`` keyword if given.\n",
       "\n",
       "Returns\n",
       "-------\n",
       "hist : array\n",
       "    The values of the histogram. See `density` and `weights` for a\n",
       "    description of the possible semantics.\n",
       "bin_edges : array of dtype float\n",
       "    Return the bin edges ``(length(hist)+1)``.\n",
       "\n",
       "\n",
       "See Also\n",
       "--------\n",
       "histogramdd, bincount, searchsorted, digitize, histogram_bin_edges\n",
       "\n",
       "Notes\n",
       "-----\n",
       "All but the last (righthand-most) bin is half-open.  In other words,\n",
       "if `bins` is::\n",
       "\n",
       "  [1, 2, 3, 4]\n",
       "\n",
       "then the first bin is ``[1, 2)`` (including 1, but excluding 2) and\n",
       "the second ``[2, 3)``.  The last bin, however, is ``[3, 4]``, which\n",
       "*includes* 4.\n",
       "\n",
       "\n",
       "Examples\n",
       "--------\n",
       ">>> np.histogram([1, 2, 1], bins=[0, 1, 2, 3])\n",
       "(array([0, 2, 1]), array([0, 1, 2, 3]))\n",
       ">>> np.histogram(np.arange(4), bins=np.arange(5), density=True)\n",
       "(array([ 0.25,  0.25,  0.25,  0.25]), array([0, 1, 2, 3, 4]))\n",
       ">>> np.histogram([[1, 2, 1], [1, 0, 1]], bins=[0,1,2,3])\n",
       "(array([1, 4, 1]), array([0, 1, 2, 3]))\n",
       "\n",
       ">>> a = np.arange(5)\n",
       ">>> hist, bin_edges = np.histogram(a, density=True)\n",
       ">>> hist\n",
       "array([ 0.5,  0. ,  0.5,  0. ,  0. ,  0.5,  0. ,  0.5,  0. ,  0.5])\n",
       ">>> hist.sum()\n",
       "2.4999999999999996\n",
       ">>> np.sum(hist * np.diff(bin_edges))\n",
       "1.0\n",
       "\n",
       ".. versionadded:: 1.11.0\n",
       "\n",
       "Automated Bin Selection Methods example, using 2 peak random data\n",
       "with 2000 points:\n",
       "\n",
       ">>> import matplotlib.pyplot as plt\n",
       ">>> rng = np.random.RandomState(10)  # deterministic random data\n",
       ">>> a = np.hstack((rng.normal(size=1000),\n",
       "...                rng.normal(loc=5, scale=2, size=1000)))\n",
       ">>> plt.hist(a, bins='auto')  # arguments are passed to np.histogram\n",
       ">>> plt.title(\"Histogram with 'auto' bins\")\n",
       ">>> plt.show()\n",
       "\u001b[0;31mFile:\u001b[0m      ~/anaconda3/lib/python3.6/site-packages/numpy/lib/histograms.py\n",
       "\u001b[0;31mType:\u001b[0m      function\n"
      ]
     },
     "metadata": {},
     "output_type": "display_data"
    }
   ],
   "source": [
    "np.histogram?"
   ]
  },
  {
   "cell_type": "code",
   "execution_count": null,
   "metadata": {},
   "outputs": [],
   "source": [
    "np.save?"
   ]
  },
  {
   "cell_type": "code",
   "execution_count": null,
   "metadata": {},
   "outputs": [],
   "source": []
  },
  {
   "cell_type": "code",
   "execution_count": null,
   "metadata": {},
   "outputs": [],
   "source": [
    "def SFR_t_fit(M_out, z = 0.5):\n",
    "    s0 = 0.6+ 1.22*(z) - 0.2*(z**2)\n",
    "    logM0 = 10.3 + 0.753*(z) - 0.15*(z**2)\n",
    "    \n",
    "    \n",
    "    Gamma = -(1.3 - 0.1*(z))# + 0.05*(z**2))#including -ve here to avoid it later\n",
    "    \n",
    "    \n",
    "    log10MperY = s0 - np.log10(1 + np.power(np.power(10, (M_out - logM0) ), Gamma))\n",
    "    return log10MperY"
   ]
  },
  {
   "cell_type": "code",
   "execution_count": null,
   "metadata": {},
   "outputs": [],
   "source": [
    "def SFR_s(SM, z):\n",
    "    \"\"\"\n",
    "    Calculates Starformation rate\n",
    "    Args:\n",
    "    SM: Stellar Mass [log10 Msun]\n",
    "    z: Redshift\n",
    "    Returns:\n",
    "    SFR: Star formation rate [log10 Msun yr-1]\n",
    "    \"\"\"\n",
    "    m = SM-9; r = np.log10(1+z)\n",
    "    m0, a0, a1, m1, a2 = 0.5, 1.5, 0.3, 0.36, 2.5\n",
    "    Max = m-m1-a2*r\n",
    "    Max[Max<0] = 0\n",
    "    log10MperY = m-m0+a0*r-a1*np.power(Max, 2)\n",
    "    return log10MperY"
   ]
  },
  {
   "cell_type": "code",
   "execution_count": null,
   "metadata": {},
   "outputs": [],
   "source": [
    "def SFR_t_refit(M_out, z = 0.5):\n",
    "    s0 = 0.85+ 1.2*(z) - 0.18*(z**2)\n",
    "    logM0 = 10.5 + 0.753*(z) - 0.15*(z**2)\n",
    "    \n",
    "    \n",
    "    Gamma = -(1.1)# - 0.1*(z))# + 0.05*(z**2))#including -ve here to avoid it later\n",
    "    \n",
    "    \n",
    "    log10MperY = s0 - np.log10(1 + np.power(np.power(10, (M_out - logM0) ), Gamma))\n",
    "    return log10MperY"
   ]
  },
  {
   "cell_type": "code",
   "execution_count": null,
   "metadata": {},
   "outputs": [],
   "source": [
    "def SFR_testfit(M_out, z = 0.5):\n",
    "    M_break = 10.6+ 0.2*z - 0.06*(z**2)\n",
    "    M_b_idx = np.digitize(M_break, bins = M_out)\n",
    "    LM_slope = 1.05\n",
    "    LM_int = -10.15 + 0.375*z - 0.02*(z**2)\n",
    "    HM_slope = -1.1 + 0.4*z\n",
    "    HM_int = (LM_slope*M_break + LM_int) - HM_slope*M_break \n",
    "    log10MperY = LM_slope*M_out + LM_int\n",
    "    log10MperY[M_b_idx:] = HM_slope*M_out[M_b_idx:]+ HM_int\n",
    "    return log10MperY\n",
    "    "
   ]
  },
  {
   "cell_type": "code",
   "execution_count": null,
   "metadata": {},
   "outputs": [],
   "source": []
  },
  {
   "cell_type": "code",
   "execution_count": null,
   "metadata": {},
   "outputs": [],
   "source": []
  },
  {
   "cell_type": "code",
   "execution_count": null,
   "metadata": {},
   "outputs": [],
   "source": [
    "np.ma.masked_inside(Data[2], 0.9, 1)"
   ]
  },
  {
   "cell_type": "code",
   "execution_count": null,
   "metadata": {},
   "outputs": [],
   "source": [
    "import os"
   ]
  },
  {
   "cell_type": "code",
   "execution_count": null,
   "metadata": {},
   "outputs": [],
   "source": [
    "os.listdir(path=\"../../\")"
   ]
  },
  {
   "cell_type": "code",
   "execution_count": null,
   "metadata": {},
   "outputs": [],
   "source": [
    "import os\n",
    "AbsPath = os.path.abspath(\"\")"
   ]
  },
  {
   "cell_type": "code",
   "execution_count": null,
   "metadata": {},
   "outputs": [],
   "source": [
    "AbsPath"
   ]
  },
  {
   "cell_type": "code",
   "execution_count": null,
   "metadata": {},
   "outputs": [],
   "source": [
    "os.listdir(path=AbsPath+\"/..\")"
   ]
  },
  {
   "cell_type": "code",
   "execution_count": null,
   "metadata": {},
   "outputs": [],
   "source": [
    "from distutils.core import setup\n",
    "from Cython.Distutils import Extension\n",
    "from Cython.Distutils import build_ext"
   ]
  },
  {
   "cell_type": "code",
   "execution_count": null,
   "metadata": {},
   "outputs": [],
   "source": [
    "build_ext?"
   ]
  },
  {
   "cell_type": "code",
   "execution_count": null,
   "metadata": {},
   "outputs": [],
   "source": []
  }
 ],
 "metadata": {
  "kernelspec": {
   "display_name": "Python 3",
   "language": "python",
   "name": "python3"
  },
  "language_info": {
   "codemirror_mode": {
    "name": "ipython",
    "version": 3
   },
   "file_extension": ".py",
   "mimetype": "text/x-python",
   "name": "python",
   "nbconvert_exporter": "python",
   "pygments_lexer": "ipython3",
   "version": "3.6.6"
  }
 },
 "nbformat": 4,
 "nbformat_minor": 2
}
