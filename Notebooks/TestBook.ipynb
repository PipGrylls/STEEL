{
 "cells": [
  {
   "cell_type": "code",
   "execution_count": 1,
   "metadata": {},
   "outputs": [],
   "source": [
    "import os\n",
    "import sys\n",
    "import importlib\n",
    "import pickle\n",
    "import emcee\n",
    "import corner\n",
    "AbsPath = str(os.path.abspath(\"\"))+\"/..\"\n",
    "sys.path.append(AbsPath)\n",
    "#from Scripts.Plots import SDSS_Plots\n",
    "import scipy.stats\n",
    "from itertools import cycle\n",
    "#Add_SDSS = SDSS_Plots.SDSS_Plots(11.5,15,0.1)\n",
    "import matplotlib.pyplot as plt\n",
    "from Functions import Functions as F\n",
    "HMF_fun = F.Make_HMF_Interp()\n",
    "from Functions.Functions import Make_HMF_Interp\n",
    "import numpy as np\n",
    "import matplotlib.pyplot as plt\n",
    "import colossus.halo.mass_adv as massdefs\n",
    "from colossus.halo.mass_so import M_to_R\n",
    "from halotools import empirical_models\n",
    "from colossus.cosmology import cosmology\n",
    "cosmology.setCosmology(\"planck15\")\n",
    "from astropy.cosmology import Planck15 as Cosmo_AstroPy\n",
    "Cosmo =cosmology.getCurrent()\n",
    "\n",
    "\n",
    "h = Cosmo.h\n",
    "\n",
    "#Abundance Matching Parameters\n",
    "Override =\\\n",
    "{\\\n",
    "'M10':12.0,\\\n",
    "'SHMnorm10':0.032,\\\n",
    "'beta10':1.5,\\\n",
    "'gamma10':0.56,\\\n",
    "'M11':0.6,\\\n",
    "'SHMnorm11':-0.014,\\\n",
    "'beta11':-2,\\\n",
    "'gamma11':0.08\\\n",
    "}\n",
    "\n",
    "\n",
    "AbnMtch =\\\n",
    "{\\\n",
    "'Behroozi13': False,\\\n",
    "'Behroozi18': False,\\\n",
    "'B18c':False,\\\n",
    "'B18t':False,\\\n",
    "'G18':False,\\\n",
    "'G18_notSE':False,\\\n",
    "'G19_SE':False,\\\n",
    "'G19_cMod':False,\\\n",
    "'Lorenzo18':False,\\\n",
    "'Moster': False,\\\n",
    "'Moster10': False,\\\n",
    "'Illustris': False,\\\n",
    "'z_Evo':True,\\\n",
    "'Scatter': 0.15,\\\n",
    "'Override_0': False,\\\n",
    "'Override_z': False,\\\n",
    "'Override': Override,\\\n",
    "'PFT': False,\\\n",
    "'M_PFT1': False,\\\n",
    "'M_PFT2': False,\\\n",
    "'M_PFT3': False,\\\n",
    "'N_PFT1': False,\\\n",
    "'N_PFT2': False,\\\n",
    "'N_PFT3': False,\\\n",
    "'b_PFT1': False,\\\n",
    "'b_PFT2': False,\\\n",
    "'b_PFT3': False,\\\n",
    "'g_PFT1': False,\\\n",
    "'g_PFT2': False,\\\n",
    "'g_PFT3': False,\\\n",
    "'g_PFT4': False\\\n",
    "}\n",
    "\n",
    "Paramaters = \\\n",
    "{\\\n",
    "'AbnMtch' : AbnMtch,\\\n",
    "'AltDynamicalTime': 1,\\\n",
    "'NormRnd': 0.5,\\\n",
    "'SFR_Model': 'CE',\\\n",
    "'PreProcessing': False,\\\n",
    "'AltDynamicalTimeB': False\\\n",
    "}\n",
    "\n",
    "\n",
    "\n",
    "#Subhalomass function parameters macc/M0\n",
    "Unevolved = {\\\n",
    "'gamma' : 0.22,\\\n",
    "'alpha' : -0.91,\\\n",
    "'beta' : 6,\\\n",
    "'omega' : 3,\\\n",
    "'a' : 1,\\\n",
    "}"
   ]
  },
  {
   "cell_type": "code",
   "execution_count": null,
   "metadata": {},
   "outputs": [],
   "source": []
  },
  {
   "cell_type": "code",
   "execution_count": null,
   "metadata": {},
   "outputs": [],
   "source": [
    "importlib.reload(F)"
   ]
  },
  {
   "cell_type": "code",
   "execution_count": null,
   "metadata": {},
   "outputs": [],
   "source": [
    "#Load Tinker_HOD\n",
    "Tkr_hod = np.loadtxt(AbsPath+\"/Data/Observational/Tinker_HOD/pdf_censat_hod.dat\", skiprows=2).T\n",
    "Tkr_RX2 = np.loadtxt(AbsPath+\"/Data/Observational/Tinker_HOD/pdf_censat_RX2.dat\", skiprows=2).T\n",
    "#Load STEEL\n",
    "Fit = ('1.0', True, True, True, 'G19_DPL', 'G19_SE')#('1.0', False, False, True, 'G19_DPL', 'G19_SE')\n",
    "AvaHaloMass, z, AnalyticalModelFrac_highz, AnalyticalModelNoFrac_highz, SM_Cuts = F.LoadData_Sat_Env_Highz(Fit)\n",
    "AvaHaloMassBins = AvaHaloMass[:,1:] - AvaHaloMass[:,:-1] \n",
    "AvaHaloMassBins = np.concatenate((AvaHaloMassBins, np.array([AvaHaloMassBins[:,-1]]).T), axis = 1)\n",
    "\n",
    "\n",
    "\n",
    "#Plot Full STEEL\n",
    "Data_M_ix = np.digitize(11.45, bins = SM_Cuts)-1\n",
    "Data_z_ix = np.digitize(0.5, bins = z)-1\n",
    "print(SM_Cuts[Data_M_ix],z[Data_z_ix])\n",
    "Y_Model = np.divide(AnalyticalModelNoFrac_highz[Data_M_ix][Data_z_ix], AvaHaloMassBins[Data_z_ix])\n",
    "X_sat, Y_sat = F.Gauss_Scatt(AvaHaloMass[Data_z_ix], Y_Model, Scatt = 0.1)\n",
    "Y_sat = Y_sat*(10**4)*(h**-3)\n",
    "\n",
    "AbnMtch[Fit[5]] = True\n",
    "Central_Wt = HMF_fun(AvaHaloMass[Data_z_ix], 0.5)\n",
    "SM = F.DarkMatterToStellarMass(AvaHaloMass[Data_z_ix]-np.log10(h), 0.5, Paramaters, ScatterOn=False)\n",
    "Norm = scipy.stats.norm(SM, 0.15)\n",
    "Prob = 1-Norm.cdf(11.45)\n",
    "Central_Wt = Central_Wt*Prob\n",
    "X_cen, Y_cen = F.Gauss_Scatt(AvaHaloMass[Data_z_ix], Central_Wt, Scatt = 0.1)\n",
    "Y_cen = Y_cen*(10**4)\n",
    "AbnMtch[Fit[5]] = False\n",
    "\n",
    "#X_sat==X_cen\n",
    "plt.plot(X_sat, Y_cen+Y_sat, \"-\",label =\"STEEL\", color = \"C0\")\n",
    "plt.plot(X_cen, Y_cen, \"--\",label =\"STEEL_cen\", color = \"C0\")\n",
    "plt.plot(X_sat, Y_sat, \":\",label = \"STEEL_sat\", color = \"C0\")\n",
    "\n",
    "\n",
    "\n",
    "#Central only toy model\n",
    "Override['M10'] = 12.0\n",
    "Override['SHMnorm10'] = 0.032\n",
    "Override['beta10'] = 1.5\n",
    "Override['gamma10'] = 0.58\n",
    "Override['M11'] = 0.6\n",
    "Override['SHMnorm11'] = -0.014\n",
    "Override['beta11'] = -0.7\n",
    "Override['gamma11'] = 0.08\n",
    "\n",
    "AbnMtch['Override_z'] = True\n",
    "Central_Wt = HMF_fun(AvaHaloMass[Data_z_ix], 0.5)\n",
    "SM = F.DarkMatterToStellarMass(AvaHaloMass[Data_z_ix]-np.log10(h), 0.5, Paramaters, ScatterOn = False)\n",
    "Norm = scipy.stats.norm(SM, 0.1)\n",
    "Prob = 1-Norm.cdf(11.45)\n",
    "Central_Wt = Central_Wt*Prob\n",
    "X_cen, Y_cen = F.Gauss_Scatt(AvaHaloMass[Data_z_ix], Central_Wt, Scatt = 0.1)\n",
    "Y_cen = Y_cen*(10**4)\n",
    "AbnMtch['Override_z'] = False\n",
    "\n",
    "plt.plot(X_cen, Y_cen, \"--\",label =\"ToyMod\", color = \"C2\")\n",
    "\n",
    "\n",
    "#\"\"\"\n",
    "plt.plot(Tkr_hod[0], Tkr_hod[1]+(Tkr_hod[2]/10), \"-\",label = \"HOD\", color = \"C1\")\n",
    "plt.plot(Tkr_hod[0], Tkr_hod[1], \"--\",label = \"HOD_cen\", color = \"C1\")\n",
    "plt.plot(Tkr_hod[0], Tkr_hod[2]/10, \":\",label = \"HOD_sat\", color = \"C1\")\n",
    "#\"\"\"\n",
    "\"\"\"\n",
    "plt.plot(Tkr_RX2[0], Tkr_RX2[1]+(Tkr_RX2[2]/10), \"-\",label = \"HOD\", color = \"C2\")\n",
    "plt.plot(Tkr_RX2[0], Tkr_RX2[1], \"--\",label = \"HOD_cen\", color = \"C2\")\n",
    "plt.plot(Tkr_RX2[0], (Tkr_RX2[2]/10), \":\",label = \"HOD_sat\", color = \"C2\")\n",
    "\"\"\"\n",
    "\n",
    "plt.xlim(12, 15.5)\n",
    "plt.xlabel(\"log $\\mathrm{M_{halo} [hM_{\\odot}]}$\")\n",
    "plt.ylabel(\"$\\mathrm{n_{gal}(M_{halo}) [h^3Mpc^{-3}dex^{-1}]x10^{-4}}$\")\n",
    "plt.legend(frameon = False)\n",
    "plt.show()\n",
    "\n"
   ]
  },
  {
   "cell_type": "code",
   "execution_count": null,
   "metadata": {},
   "outputs": [],
   "source": [
    "#Load Tinker_HOD\n",
    "Tkr_hod = np.loadtxt(AbsPath+\"/Data/Observational/Tinker_HOD/pdf_censat_hod.dat\", skiprows=2).T\n",
    "Tkr_RX2 = np.loadtxt(AbsPath+\"/Data/Observational/Tinker_HOD/pdf_censat_RX2.dat\", skiprows=2).T\n",
    "\n",
    "\n",
    "#Load STEEL\n",
    "Fit = ('1.0', False, False, True, 'G19_DPL', 'Moster')\n",
    "AvaHaloMass, z, AnalyticalModelFrac_highz, AnalyticalModelNoFrac_highz, SM_Cuts = F.LoadData_Sat_Env_Highz(Fit)\n",
    "AvaHaloMassBins = AvaHaloMass[:,1:] - AvaHaloMass[:,:-1] \n",
    "AvaHaloMassBins = np.concatenate((AvaHaloMassBins, np.array([AvaHaloMassBins[:,-1]]).T), axis = 1)\n",
    "\n",
    "#Plot STEEL sat\n",
    "Data_M_ix = np.digitize(11.45, bins = SM_Cuts)-1\n",
    "Data_z_ix = np.digitize(0.5, bins = z)-1\n",
    "print(SM_Cuts[Data_M_ix],z[Data_z_ix])\n",
    "Y_Model = np.divide(AnalyticalModelNoFrac_highz[Data_M_ix][Data_z_ix], AvaHaloMassBins[Data_z_ix])\n",
    "X_sat, Y_sat = F.Gauss_Scatt(AvaHaloMass[Data_z_ix], Y_Model, Scatt = 0.1)\n",
    "Y_sat = Y_sat*(10**4)*(h**-3)\n",
    "\n",
    "plt.plot(X_sat, Y_sat, \":\",label = \"STEEL_Moster_frz\", color = \"C1\")\n",
    "\n",
    "#Load STEEL\n",
    "Fit = ('1.0', True, True, True, 'G19_DPL', 'G19_SE')#('1.0', False, False, True, 'G19_DPL', 'G19_SE')\n",
    "AvaHaloMass, z, AnalyticalModelFrac_highz, AnalyticalModelNoFrac_highz, SM_Cuts = F.LoadData_Sat_Env_Highz(Fit)\n",
    "AvaHaloMassBins = AvaHaloMass[:,1:] - AvaHaloMass[:,:-1] \n",
    "AvaHaloMassBins = np.concatenate((AvaHaloMassBins, np.array([AvaHaloMassBins[:,-1]]).T), axis = 1)\n",
    "\n",
    "#Plot STEEL sat\n",
    "Data_M_ix = np.digitize(11.45, bins = SM_Cuts)-1\n",
    "Data_z_ix = np.digitize(0.5, bins = z)-1\n",
    "print(SM_Cuts[Data_M_ix],z[Data_z_ix])\n",
    "Y_Model = np.divide(AnalyticalModelNoFrac_highz[Data_M_ix][Data_z_ix], AvaHaloMassBins[Data_z_ix])\n",
    "X_sat, Y_sat = F.Gauss_Scatt(AvaHaloMass[Data_z_ix], Y_Model, Scatt = 0.1)\n",
    "Y_sat = Y_sat*(10**4)*(h**-3)\n",
    "\n",
    "plt.plot(X_sat, Y_sat, \":\",label = \"STEEL_SE_evo\", color = \"C2\")\n",
    "\n",
    "#Load STEEL\n",
    "Fit = ('1.0', False, False, True, 'G19_DPL', 'G19_SE')#('1.0', False, False, True, 'G19_DPL', 'G19_SE')\n",
    "AvaHaloMass, z, AnalyticalModelFrac_highz, AnalyticalModelNoFrac_highz, SM_Cuts = F.LoadData_Sat_Env_Highz(Fit)\n",
    "AvaHaloMassBins = AvaHaloMass[:,1:] - AvaHaloMass[:,:-1] \n",
    "AvaHaloMassBins = np.concatenate((AvaHaloMassBins, np.array([AvaHaloMassBins[:,-1]]).T), axis = 1)\n",
    "\n",
    "#Plot STEEL sat\n",
    "Data_M_ix = np.digitize(11.45, bins = SM_Cuts)-1\n",
    "Data_z_ix = np.digitize(0.5, bins = z)-1\n",
    "print(SM_Cuts[Data_M_ix],z[Data_z_ix])\n",
    "Y_Model = np.divide(AnalyticalModelNoFrac_highz[Data_M_ix][Data_z_ix], AvaHaloMassBins[Data_z_ix])\n",
    "X_sat, Y_sat = F.Gauss_Scatt(AvaHaloMass[Data_z_ix], Y_Model, Scatt = 0.1)\n",
    "Y_sat = Y_sat*(10**4)*(h**-3)\n",
    "\n",
    "plt.plot(X_sat, Y_sat, \":\",label = \"STEEL_SE_evo\", color = \"C3\")\n",
    "\n",
    "#Load STEEL\n",
    "Fit = ('1.0', False, False, True, 'G19_DPL', 'G19_cMod')#('1.0', False, False, True, 'G19_DPL', 'G19_SE')\n",
    "AvaHaloMass, z, AnalyticalModelFrac_highz, AnalyticalModelNoFrac_highz, SM_Cuts = F.LoadData_Sat_Env_Highz(Fit)\n",
    "AvaHaloMassBins = AvaHaloMass[:,1:] - AvaHaloMass[:,:-1] \n",
    "AvaHaloMassBins = np.concatenate((AvaHaloMassBins, np.array([AvaHaloMassBins[:,-1]]).T), axis = 1)\n",
    "\n",
    "#Plot STEEL sat\n",
    "Data_M_ix = np.digitize(11.45, bins = SM_Cuts)-1\n",
    "Data_z_ix = np.digitize(0.5, bins = z)-1\n",
    "print(SM_Cuts[Data_M_ix],z[Data_z_ix])\n",
    "Y_Model = np.divide(AnalyticalModelNoFrac_highz[Data_M_ix][Data_z_ix], AvaHaloMassBins[Data_z_ix])\n",
    "X_sat, Y_sat = F.Gauss_Scatt(AvaHaloMass[Data_z_ix], Y_Model, Scatt = 0.1)\n",
    "Y_sat = Y_sat*(10**4)*(h**-3)\n",
    "\n",
    "#X_sat==X_cen\n",
    "#plt.plot(X_sat, Y_cen+Y_sat, \"-\",label =\"STEEL\", color = \"C0\")\n",
    "#plt.plot(X_cen, Y_cen, \"--\",label =\"STEEL_cen\", color = \"C0\")\n",
    "plt.plot(X_sat, Y_sat, \":\",label = \"STEEL_cMod_frz\", color = \"C4\")\n",
    "\n",
    "#\"\"\"\n",
    "#plt.plot(Tkr_hod[0], Tkr_hod[1]+(Tkr_hod[2]/10), \"-\",label = \"HOD\", color = \"C1\")\n",
    "#plt.plot(Tkr_hod[0], Tkr_hod[1], \"--\",label = \"HOD_cen\", color = \"C1\")\n",
    "plt.plot(Tkr_hod[0], Tkr_hod[2]/10, \":\",label = \"HOD_sat\", color = \"C0\")\n",
    "\"\"\"\n",
    "\"\"\"\n",
    "#plt.plot(Tkr_RX2[0], Tkr_RX2[1]+(Tkr_RX2[2]/10), \"-\",label = \"HOD\", color = \"C2\")\n",
    "#plt.plot(Tkr_RX2[0], Tkr_RX2[1], \"--\",label = \"HOD_cen\", color = \"C2\")\n",
    "plt.plot(Tkr_RX2[0], (Tkr_RX2[2]/10), \":\",label = \"HOD_sat_RX2\", color = \"C7\")\n",
    "#\"\"\"\n",
    "\n",
    "plt.xlim(12, 15.5)\n",
    "plt.xlabel(\"log $\\mathrm{M_{halo} [hM_{\\odot}]}$\")\n",
    "plt.ylabel(\"$\\mathrm{n_{gal}(M_{halo}) [h^3Mpc^{-3}dex^{-1}]x10^{-4}}$\")\n",
    "plt.legend(frameon = False)\n",
    "plt.show()\n",
    "\n"
   ]
  },
  {
   "cell_type": "code",
   "execution_count": null,
   "metadata": {},
   "outputs": [],
   "source": [
    "def ReturnCentralDist(HM_range, theta):\n",
    "    Gamma, Gamma_z, Scatter = theta\n",
    "    #Central only toy model\n",
    "    #Args:\n",
    "    #    HM_range: [Msun h-1]\n",
    "    #    Gamma: SMHM high mass slope parameter\n",
    "    #    Gamma_z: SMHM high mass slope evolution parameter\n",
    "    #    Scatter: SMHM scatter parameter\n",
    "    #Returns:\n",
    "    #    Y_cen: Numberdensity of central galaxies above 10^11 as a fucntion of halo mass [h^3Mpc^{-3}dex^{-1}]x10^{-4}\n",
    "    \"\"\"\n",
    "    Override['M10'] = 12.0\n",
    "    Override['SHMnorm10'] = 0.032\n",
    "    Override['beta10'] = 1.5\n",
    "    Override['gamma10'] = Gamma#0.525\n",
    "    Override['M11'] = 0.6\n",
    "    Override['SHMnorm11'] = -0.014\n",
    "    Override['beta11'] = -0.7\n",
    "    Override['gamma11'] = Gamma_z#0.08\n",
    "    \"\"\"\n",
    "    Override_lcl =\\\n",
    "    {\\\n",
    "    'M10':12.0,\\\n",
    "    'SHMnorm10':0.032,\\\n",
    "    'beta10':1.5,\\\n",
    "    'gamma10':Gamma,\\\n",
    "    'M11':0.6,\\\n",
    "    'SHMnorm11':-0.014,\\\n",
    "    'beta11':-0.7,\\\n",
    "    'gamma11':Gamma_z\\\n",
    "    }\n",
    "    \n",
    "    \n",
    "    AbnMtch_lcl =\\\n",
    "    {\\\n",
    "    'Behroozi13': False,\\\n",
    "    'Behroozi18': False,\\\n",
    "    'B18c':False,\\\n",
    "    'B18t':False,\\\n",
    "    'G18':False,\\\n",
    "    'G18_notSE':False,\\\n",
    "    'G19_SE':False,\\\n",
    "    'G19_cMod':False,\\\n",
    "    'Lorenzo18':False,\\\n",
    "    'Moster': False,\\\n",
    "    'Moster10': False,\\\n",
    "    'Illustris': False,\\\n",
    "    'z_Evo':True,\\\n",
    "    'Scatter': 0.15,\\\n",
    "    'Override_0': False,\\\n",
    "    'Override_z': False,\\\n",
    "    'Override': Override_lcl,\\\n",
    "    'PFT': False,\\\n",
    "    'M_PFT1': False,\\\n",
    "    'M_PFT2': False,\\\n",
    "    'M_PFT3': False,\\\n",
    "    'N_PFT1': False,\\\n",
    "    'N_PFT2': False,\\\n",
    "    'N_PFT3': False,\\\n",
    "    'b_PFT1': False,\\\n",
    "    'b_PFT2': False,\\\n",
    "    'b_PFT3': False,\\\n",
    "    'g_PFT1': False,\\\n",
    "    'g_PFT2': False,\\\n",
    "    'g_PFT3': False,\\\n",
    "    'g_PFT4': False\\\n",
    "    }\n",
    "\n",
    "    Paramaters_lcl = \\\n",
    "    {\\\n",
    "    'AbnMtch' : AbnMtch_lcl,\\\n",
    "    'AltDynamicalTime': 1,\\\n",
    "    'NormRnd': 0.5,\\\n",
    "    'SFR_Model': 'CE',\\\n",
    "    'PreProcessing': False,\\\n",
    "    'AltDynamicalTimeB': False\\\n",
    "    }\n",
    "    \n",
    "    AbnMtch_lcl['Override_z'] = True\n",
    "    Central_Wt = HMF_fun(HM_range, 0.5)\n",
    "    SM = F.DarkMatterToStellarMass(HM_range - np.log10(h), 0.5, Paramaters_lcl, ScatterOn = False)\n",
    "    Norm = scipy.stats.norm(SM, Scatter)\n",
    "    Prob = 1-Norm.cdf(11.45)\n",
    "    Central_Wt = Central_Wt*Prob\n",
    "    X_cen, Y_cen = F.Gauss_Scatt(HM_range, Central_Wt, Scatt = 0.1)\n",
    "    Y_cen = Y_cen*(10**4)\n",
    "    AbnMtch_lcl['Override_z'] = False\n",
    "    return Y_cen"
   ]
  },
  {
   "cell_type": "code",
   "execution_count": null,
   "metadata": {},
   "outputs": [],
   "source": [
    "#Load Tinker_HOD\n",
    "Tkr_hod = np.loadtxt(AbsPath+\"/Data/Observational/Tinker_HOD/pdf_censat_hod.dat\", skiprows=2).T\n",
    "Tkr_RX2 = np.loadtxt(AbsPath+\"/Data/Observational/Tinker_HOD/pdf_censat_RX2.dat\", skiprows=2).T\n",
    "plt.plot(Tkr_hod[0], Tkr_hod[1], \":\",label = \"HOD_sat\", color = \"C0\")\n",
    "theta = 0.55, 0.0, 0.1\n",
    "Y = ReturnCentralDist(Tkr_hod[0], theta)\n",
    "\n",
    "\n",
    "\n",
    "plt.plot(Tkr_hod[0], Y, label = \"ToyMod\", color = \"C1\")\n",
    "plt.legend(frameon = False)\n",
    "plt.xlim(12, 15.5)\n",
    "plt.xlabel(\"log $\\mathrm{M_{halo} [hM_{\\odot}]}$\")\n",
    "plt.ylabel(\"$\\mathrm{n_{gal}(M_{halo}) [h^3Mpc^{-3}dex^{-1}]x10^{-4}}$\")\n",
    "plt.show()"
   ]
  },
  {
   "cell_type": "code",
   "execution_count": null,
   "metadata": {},
   "outputs": [],
   "source": [
    "gt12 = np.digitize(12, bins = Tkr_hod[0])-1\n",
    "theta = 0.55, 0.0, 0.1\n",
    "plt.plot(Tkr_hod[0][gt12:], Tkr_hod[1][gt12:], \":\",label = \"HOD_sat\", color = \"C0\")\n",
    "\n",
    "\n",
    "theta = 0.55, 0.0, 0.1\n",
    "RMS = lnlike(theta, Tkr_hod[0][gt12:], Tkr_hod[1][gt12:])\n",
    "Y = ReturnCentralDist(Tkr_hod[0][gt12:], theta)\n",
    "plt.plot(Tkr_hod[0][gt12:], Y, label = str(theta)+str(round(RMS, 3)), color = \"C1\")\n",
    "\n",
    "\n",
    "theta = 0.6, 0.0, 0.1\n",
    "RMS = lnlike(theta, Tkr_hod[0][gt12:], Tkr_hod[1][gt12:])\n",
    "Y = ReturnCentralDist(Tkr_hod[0][gt12:], theta)\n",
    "plt.plot(Tkr_hod[0][gt12:], Y, label = str(theta)+str(round(RMS, 3)), color = \"C2\")\n",
    "\n",
    "\n",
    "theta = 0.65, 0.0, 0.1\n",
    "RMS = lnlike(theta, Tkr_hod[0][gt12:], Tkr_hod[1][gt12:])\n",
    "Y = ReturnCentralDist(Tkr_hod[0][gt12:], theta)\n",
    "plt.plot(Tkr_hod[0][gt12:], Y, label = str(theta)+str(round(RMS, 3)), color = \"C3\")\n",
    "\n",
    "\n",
    "theta = 0.8, 0.0, 0.1\n",
    "RMS = lnlike(theta, Tkr_hod[0][gt12:], Tkr_hod[1][gt12:])\n",
    "Y = ReturnCentralDist(Tkr_hod[0][gt12:], theta)\n",
    "plt.plot(Tkr_hod[0][gt12:], Y, label = str(theta)+str(round(RMS, 3)), color = \"C4\")\n",
    "\n",
    "plt.legend(frameon = False)\n",
    "plt.xlim(12, 15.5)\n",
    "plt.xlabel(\"log $\\mathrm{M_{halo} [hM_{\\odot}]}$\")\n",
    "plt.ylabel(\"$\\mathrm{n_{gal}(M_{halo}) [h^3Mpc^{-3}dex^{-1}]x10^{-4}}$\")\n",
    "plt.show()"
   ]
  },
  {
   "cell_type": "code",
   "execution_count": null,
   "metadata": {},
   "outputs": [],
   "source": [
    "import scipy.optimize as op\n",
    "nll = lambda *args: -lnlike(*args)\n",
    "result = op.minimize(nll, [0.6, 0.0, 0.1], args=(Tkr_hod[0], Tkr_hod[1]))\n",
    "result[\"x\"]"
   ]
  },
  {
   "cell_type": "code",
   "execution_count": null,
   "metadata": {},
   "outputs": [],
   "source": [
    "theta = 10, 10, 0.1\n",
    "lnlike(theta, Tkr_hod[0][gt12:], Tkr_hod[1][gt12:])"
   ]
  },
  {
   "cell_type": "code",
   "execution_count": null,
   "metadata": {},
   "outputs": [],
   "source": [
    "#MCMC Functions\n",
    "\n",
    "#This is the likelyhood function\n",
    "def lnlike(theta, HM, y):\n",
    "    g, g_z, s = theta\n",
    "    model = ReturnCentralDist(HM, theta)\n",
    "    \n",
    "    return -0.5*np.power(sum(y-model), 2)\n",
    "    \n",
    "    #RMS = 1 - np.divide(np.sqrt(np.sum(np.power(model-y, 2))), len(y))\n",
    "    #return np.log(RMS)\n",
    "\n",
    "#This is the log-prior function\n",
    "def lnprior(theta):\n",
    "    g, g_z, s = theta\n",
    "    if (0.55<g<0.57) and (-0.2<g_z<0.2) and (0.01<s<0.2):\n",
    "        return 0.0\n",
    "    else:\n",
    "        return -np.inf\n",
    "def lnprob(theta, x, y):\n",
    "    lp = lnprior(theta)\n",
    "    if not np.isfinite(lp):\n",
    "        return -np.inf\n",
    "    return lp + lnlike(theta, x, y)"
   ]
  },
  {
   "cell_type": "code",
   "execution_count": null,
   "metadata": {},
   "outputs": [],
   "source": []
  },
  {
   "cell_type": "code",
   "execution_count": null,
   "metadata": {},
   "outputs": [],
   "source": [
    "#set up initial conditions\n",
    "ndim, nwalkers = 3, 100\n",
    "pos = [[0.55,0.0, 0.1] + 1e-4*np.random.randn(ndim) for i in range(nwalkers)]"
   ]
  },
  {
   "cell_type": "code",
   "execution_count": null,
   "metadata": {},
   "outputs": [],
   "source": [
    "sampler = emcee.EnsembleSampler(nwalkers, ndim, lnprob, args=(Tkr_hod[0][gt12:], Tkr_hod[1][gt12:]), threads = 20)"
   ]
  },
  {
   "cell_type": "code",
   "execution_count": null,
   "metadata": {},
   "outputs": [],
   "source": [
    "sampler.run_mcmc(pos, 500)\n",
    "samples = sampler.chain[:, 50:, :].reshape((-1, ndim))\n",
    "fig = corner.corner(samples, labels=[\"$g$\", \"$g_z$\", \"$s$\"])\n",
    "fig.show()\n",
    "#fig.savefig(\"triangle.png\")"
   ]
  },
  {
   "cell_type": "code",
   "execution_count": null,
   "metadata": {},
   "outputs": [],
   "source": [
    "samples = sampler.chain[:, 50:, :].reshape((-1, ndim))\n",
    "fig = corner.corner(samples, labels=[\"$g$\", \"$g_z$\", \"$s$\"], color = \"C0\", smooth = True)\n",
    "fig.show()"
   ]
  },
  {
   "cell_type": "code",
   "execution_count": null,
   "metadata": {},
   "outputs": [],
   "source": [
    "import pickle"
   ]
  },
  {
   "cell_type": "code",
   "execution_count": null,
   "metadata": {},
   "outputs": [],
   "source": [
    "samples =  pickle.load(open(AbsPath+\"/Data/Model/Output/Other/SMHM_Fitting/MCMC_Chain_lz.pkl\", 'rb'))\n",
    "\n",
    "M, N, b, g = map(lambda v: (v[1], v[2]-v[1], v[1]-v[0]),zip(*np.percentile(samples, [16, 50, 84],axis=0)))\n",
    "print(M, N, b, g)\n",
    "fig = corner.corner(samples, labels=[\"M\", \"N\", r\"$\\beta$\", r\"$\\gamma$\"], truths = [M[0], N[0], b[0], g[0]],\\\n",
    "                    color = \"C0\", truth_color = \"k\", smooth = True, quantiles=[0.16, 0.84],\\\n",
    "                    show_titles = True, title_fmt= \".3f\")\n",
    "fig.savefig(AbsPath+\"/Figures/SMHM_Fit/MCMC_plot_lz.png\")\n",
    "fig.savefig(AbsPath+\"/Figures/SMHM_Fit/MCMC_plot_lz.pdf\")\n",
    "fig.show()"
   ]
  },
  {
   "cell_type": "code",
   "execution_count": null,
   "metadata": {},
   "outputs": [],
   "source": [
    "samples =  pickle.load(open(AbsPath+\"/Data/Model/Output/Other/SMHM_Fitting/MCMC_Chain_hz.pkl\", 'rb'))\n",
    "\n",
    "M, N, b, g = map(lambda v: (v[1], v[2]-v[1], v[1]-v[0]),zip(*np.percentile(samples, [16, 50, 84],axis=0)))\n",
    "print(M, N, b, g)\n",
    "fig = corner.corner(samples, labels=[r\"$M_z$\", r\"$N_z$\", r\"$\\beta_z$\", r\"$\\gamma_z$\"], truths = [M[0], N[0], b[0], g[0]],\\\n",
    "                    color = \"C0\", truth_color = \"k\", smooth = True, quantiles=[0.16, 0.84],\\\n",
    "                   show_titles = True, title_fmt= \".3f\")\n",
    "fig.savefig(AbsPath+\"/Figures/SMHM_Fit/MCMC_plot_hz.png\")\n",
    "fig.savefig(AbsPath+\"/Figures/SMHM_Fit/MCMC_plot_hz.pdf\")\n",
    "fig.show()"
   ]
  },
  {
   "cell_type": "code",
   "execution_count": null,
   "metadata": {},
   "outputs": [],
   "source": []
  },
  {
   "cell_type": "code",
   "execution_count": null,
   "metadata": {},
   "outputs": [],
   "source": []
  },
  {
   "cell_type": "code",
   "execution_count": null,
   "metadata": {},
   "outputs": [],
   "source": [
    "Cosmo.lookbackTime(Cosmo.lookbackTime(2.0)+np.mean(10**Data['2.0']['agebins']/10**9, axis = 1), inverse = True)"
   ]
  },
  {
   "cell_type": "code",
   "execution_count": null,
   "metadata": {},
   "outputs": [],
   "source": [
    "Cosmo.lookbackTime(Cosmo.lookbackTime(1.0)+np.mean(10**Data['1.0']['agebins']/10**9, axis = 1), inverse = True)"
   ]
  },
  {
   "cell_type": "code",
   "execution_count": null,
   "metadata": {},
   "outputs": [],
   "source": [
    "Cosmo.lookbackTime(Cosmo.lookbackTime(0.6)+np.mean(10**Data['0.6']['agebins']/10**9, axis = 1), inverse = True)"
   ]
  },
  {
   "cell_type": "code",
   "execution_count": null,
   "metadata": {},
   "outputs": [],
   "source": []
  },
  {
   "cell_type": "code",
   "execution_count": null,
   "metadata": {},
   "outputs": [],
   "source": []
  },
  {
   "cell_type": "code",
   "execution_count": null,
   "metadata": {},
   "outputs": [],
   "source": []
  },
  {
   "cell_type": "code",
   "execution_count": null,
   "metadata": {},
   "outputs": [],
   "source": [
    "list(Emerge.keys())"
   ]
  },
  {
   "cell_type": "code",
   "execution_count": null,
   "metadata": {},
   "outputs": [],
   "source": [
    "Emerge = h5py.File(AbsPath+\"/Data/Observational/Moster_EMERGE/mainbranches.S85.h5\")\n",
    "for Masscut in list(Emerge.keys()):\n",
    "    Switch = True\n",
    "    data = Emerge[Masscut]\n",
    "    Trees = list(data.keys())\n",
    "    for tree_id in Trees:\n",
    "        Tree = Emerge[Masscut][tree_id]\n",
    "        SF = Tree['Scale_factor']\n",
    "        SF_cut = np.digitize(0.2, bins = SF)+1\n",
    "        SF = SF[:SF_cut]\n",
    "        SM = Tree['Stellar_mass'][:SF_cut]\n",
    "        SM_insitu = Tree['Insitu_mass'][:SF_cut]\n",
    "        SFR = Tree['SFR'][:SF_cut]\n",
    "        CenSat = Tree['Type'][:SF_cut]\n",
    "        H_ID = Tree['Halo_ID'][:SF_cut]\n",
    "        D_ID = Tree['Desc_ID'][:SF_cut]\n",
    "\n",
    "        SM_growth = np.power(10, SM[0:-2]) - np.power(10, SM[1:-1])\n",
    "        SMis_growth = np.power(10, SM_insitu[0:-2]) - np.power(10, SM_insitu[1:-1])\n",
    "        t = Cosmo.lookbackTime((1/SF)-1)\n",
    "        z = Cosmo.lookbackTime((t[1:-1] + t[0:-2])/2, inverse = True)\n",
    "        delta_t = t[1:-1] - t[0:-2]\n",
    "        SM_dt = SM_growth/delta_t\n",
    "        SMis_dt = SMis_growth/delta_t\n",
    "\n",
    "        if Switch:\n",
    "            Shape = np.shape(CenSat)\n",
    "            z_stack = z\n",
    "            M_stack = np.power(10, SM[0:-2]) + np.power(10, SM[1:-1])/2\n",
    "            Mis_stack = np.power(10, SM_insitu[0:-2]) + np.power(10, SM_insitu[1:-1])/2\n",
    "            Mes_stack = (np.power(10, SM[0:-2]) + np.power(10, SM[1:-1])/2) - (np.power(10, SM_insitu[0:-2]) + np.power(10, SM_insitu[1:-1])/2)\n",
    "            rsf_stack = np.divide(SFR[0:-2]+SFR[1:-1],2)*10**9/SM_dt\n",
    "            ris_stack = SMis_dt/SM_dt\n",
    "            Switch = False\n",
    "        elif Shape == np.shape(CenSat):\n",
    "            z_stack = np.vstack((z_stack, z))\n",
    "            M_stack = np.vstack((M_stack, np.power(10, SM[0:-2]) + np.power(10, SM[1:-1])/2))\n",
    "            Mis_stack = np.vstack((Mis_stack, np.power(10, SM_insitu[0:-2]) + np.power(10, SM_insitu[1:-1])/2))\n",
    "            Mes_stack = np.vstack((Mes_stack, (np.power(10, SM[0:-2]) + np.power(10, SM[1:-1])/2) - (np.power(10, SM_insitu[0:-2]) + np.power(10, SM_insitu[1:-1])/2)))\n",
    "            rsf_stack = np.vstack((rsf_stack, np.divide(SFR[0:-2]+SFR[1:-1],2)*10**9/SM_dt))\n",
    "            ris_stack = np.vstack((ris_stack,SMis_dt/SM_dt))"
   ]
  },
  {
   "cell_type": "code",
   "execution_count": null,
   "metadata": {},
   "outputs": [],
   "source": [
    "plt.hist(np.log10(M_stack[:,0])[np.isfinite(np.log10(M_stack[:,0]))])\n",
    "plt.show()\n",
    "np.log10(np.mean(M_stack[:,0][np.isfinite(np.log10(M_stack[:,0]))]))+np.log10(h)"
   ]
  },
  {
   "cell_type": "code",
   "execution_count": null,
   "metadata": {},
   "outputs": [],
   "source": [
    "N = 3\n",
    "X_z, Y_sf, Y_is = \\\n",
    "np.convolve(z_stack[0], np.ones((N,))/N, mode='valid'), \\\n",
    "np.convolve(np.mean(rsf_stack, axis = 0), np.ones((N,))/N, mode='valid'), \\\n",
    "np.convolve(np.mean(ris_stack, axis = 0), np.ones((N,))/N, mode='valid')\n",
    "\n",
    "plt.plot(X_z, Y_sf, label = \"SF\")\n",
    "plt.plot(X_z, Y_is, label = \"IS\")\n",
    "plt.legend()\n",
    "plt.ylim(0,2)\n",
    "plt.xscale('log')\n",
    "plt.show()"
   ]
  },
  {
   "cell_type": "code",
   "execution_count": null,
   "metadata": {},
   "outputs": [],
   "source": [
    "plt.plot(z_stack[0], np.log10(np.mean(M_stack, axis = 0)), label = \"M\")\n",
    "plt.plot(z_stack[0], np.log10(np.mean(Mis_stack, axis = 0)), label = \"Mis\")\n",
    "plt.plot(z_stack[0], np.log10(np.mean(Mes_stack, axis = 0)), label = \"Mes\")\n",
    "plt.legend()\n",
    "plt.xscale('log')\n",
    "plt.show()"
   ]
  },
  {
   "cell_type": "code",
   "execution_count": null,
   "metadata": {},
   "outputs": [],
   "source": []
  },
  {
   "cell_type": "code",
   "execution_count": 2,
   "metadata": {},
   "outputs": [],
   "source": [
    "import pandas as pd"
   ]
  },
  {
   "cell_type": "code",
   "execution_count": 109,
   "metadata": {},
   "outputs": [
    {
     "ename": "FileNotFoundError",
     "evalue": "File b'/data/pg1g15/STEEL/Notebooks/../Data/Observational/Behroozi_UnviM/sfh_stats/stats_a0.911185_absolute_sm_11.900_cen.dat' does not exist",
     "output_type": "error",
     "traceback": [
      "\u001b[0;31m---------------------------------------------------------------------------\u001b[0m",
      "\u001b[0;31mFileNotFoundError\u001b[0m                         Traceback (most recent call last)",
      "\u001b[0;32m<ipython-input-109-582912a93b4f>\u001b[0m in \u001b[0;36m<module>\u001b[0;34m\u001b[0m\n\u001b[1;32m      1\u001b[0m \u001b[0mHeader\u001b[0m \u001b[0;34m=\u001b[0m \u001b[0;34m[\u001b[0m\u001b[0;34m\"type\"\u001b[0m\u001b[0;34m,\u001b[0m \u001b[0;34m\"SF\"\u001b[0m\u001b[0;34m,\u001b[0m \u001b[0;34m\"a\"\u001b[0m\u001b[0;34m,\u001b[0m \u001b[0;34m\"b\"\u001b[0m\u001b[0;34m,\u001b[0m \u001b[0;34m\"c\"\u001b[0m\u001b[0;34m,\u001b[0m \u001b[0;34m\"avg\"\u001b[0m\u001b[0;34m,\u001b[0m \u001b[0;34m\"avg_err\"\u001b[0m\u001b[0;34m,\u001b[0m \u001b[0;34m\"sd\"\u001b[0m\u001b[0;34m,\u001b[0m \u001b[0;34m\"counts\"\u001b[0m\u001b[0;34m]\u001b[0m\u001b[0;34m\u001b[0m\u001b[0;34m\u001b[0m\u001b[0m\n\u001b[0;32m----> 2\u001b[0;31m \u001b[0mdf\u001b[0m \u001b[0;34m=\u001b[0m \u001b[0mpd\u001b[0m\u001b[0;34m.\u001b[0m\u001b[0mread_csv\u001b[0m\u001b[0;34m(\u001b[0m\u001b[0mAbsPath\u001b[0m\u001b[0;34m+\u001b[0m\u001b[0;34m\"/Data/Observational/Behroozi_UnviM/sfh_stats/stats_a0.911185_absolute_sm_11.900_cen.dat\"\u001b[0m\u001b[0;34m,\u001b[0m \u001b[0msep\u001b[0m \u001b[0;34m=\u001b[0m \u001b[0;34m\" \"\u001b[0m\u001b[0;34m,\u001b[0m \u001b[0mskiprows\u001b[0m \u001b[0;34m=\u001b[0m \u001b[0;36m17\u001b[0m\u001b[0;34m,\u001b[0m \u001b[0mnames\u001b[0m \u001b[0;34m=\u001b[0m \u001b[0mHeader\u001b[0m\u001b[0;34m,\u001b[0m \u001b[0musecols\u001b[0m \u001b[0;34m=\u001b[0m \u001b[0;34m[\u001b[0m\u001b[0;36m0\u001b[0m\u001b[0;34m,\u001b[0m\u001b[0;36m1\u001b[0m\u001b[0;34m,\u001b[0m\u001b[0;36m2\u001b[0m\u001b[0;34m,\u001b[0m\u001b[0;36m3\u001b[0m\u001b[0;34m,\u001b[0m\u001b[0;36m4\u001b[0m\u001b[0;34m,\u001b[0m\u001b[0;36m6\u001b[0m\u001b[0;34m,\u001b[0m\u001b[0;36m8\u001b[0m\u001b[0;34m,\u001b[0m\u001b[0;36m10\u001b[0m\u001b[0;34m,\u001b[0m\u001b[0;36m12\u001b[0m\u001b[0;34m]\u001b[0m\u001b[0;34m)\u001b[0m\u001b[0;34m\u001b[0m\u001b[0;34m\u001b[0m\u001b[0m\n\u001b[0m\u001b[1;32m      3\u001b[0m \u001b[0mdf2\u001b[0m \u001b[0;34m=\u001b[0m \u001b[0mdf\u001b[0m\u001b[0;34m.\u001b[0m\u001b[0mpivot\u001b[0m\u001b[0;34m(\u001b[0m\u001b[0mindex\u001b[0m \u001b[0;34m=\u001b[0m \u001b[0;34m'SF'\u001b[0m\u001b[0;34m,\u001b[0m \u001b[0mcolumns\u001b[0m \u001b[0;34m=\u001b[0m \u001b[0;34m\"type\"\u001b[0m\u001b[0;34m,\u001b[0m \u001b[0mvalues\u001b[0m \u001b[0;34m=\u001b[0m \u001b[0;34m'avg'\u001b[0m\u001b[0;34m)\u001b[0m\u001b[0;34m\u001b[0m\u001b[0;34m\u001b[0m\u001b[0m\n\u001b[1;32m      4\u001b[0m \u001b[0;32mfor\u001b[0m \u001b[0mi\u001b[0m \u001b[0;32min\u001b[0m \u001b[0mdf2\u001b[0m\u001b[0;34m.\u001b[0m\u001b[0mcolumns\u001b[0m\u001b[0;34m:\u001b[0m\u001b[0;34m\u001b[0m\u001b[0;34m\u001b[0m\u001b[0m\n\u001b[1;32m      5\u001b[0m     \u001b[0mdf2\u001b[0m\u001b[0;34m[\u001b[0m\u001b[0mi\u001b[0m\u001b[0;34m]\u001b[0m \u001b[0;34m=\u001b[0m \u001b[0mdf2\u001b[0m\u001b[0;34m[\u001b[0m\u001b[0mi\u001b[0m\u001b[0;34m]\u001b[0m\u001b[0;34m.\u001b[0m\u001b[0mmap\u001b[0m\u001b[0;34m(\u001b[0m\u001b[0;32mlambda\u001b[0m \u001b[0mx\u001b[0m\u001b[0;34m:\u001b[0m \u001b[0mfloat\u001b[0m\u001b[0;34m(\u001b[0m\u001b[0mstr\u001b[0m\u001b[0;34m(\u001b[0m\u001b[0mx\u001b[0m\u001b[0;34m)\u001b[0m\u001b[0;34m[\u001b[0m\u001b[0;34m:\u001b[0m\u001b[0;34m-\u001b[0m\u001b[0;36m1\u001b[0m\u001b[0;34m]\u001b[0m\u001b[0;34m)\u001b[0m\u001b[0;34m)\u001b[0m\u001b[0;34m\u001b[0m\u001b[0;34m\u001b[0m\u001b[0m\n",
      "\u001b[0;32m~/anaconda3/lib/python3.6/site-packages/pandas/io/parsers.py\u001b[0m in \u001b[0;36mparser_f\u001b[0;34m(filepath_or_buffer, sep, delimiter, header, names, index_col, usecols, squeeze, prefix, mangle_dupe_cols, dtype, engine, converters, true_values, false_values, skipinitialspace, skiprows, nrows, na_values, keep_default_na, na_filter, verbose, skip_blank_lines, parse_dates, infer_datetime_format, keep_date_col, date_parser, dayfirst, iterator, chunksize, compression, thousands, decimal, lineterminator, quotechar, quoting, escapechar, comment, encoding, dialect, tupleize_cols, error_bad_lines, warn_bad_lines, skipfooter, doublequote, delim_whitespace, low_memory, memory_map, float_precision)\u001b[0m\n\u001b[1;32m    676\u001b[0m                     skip_blank_lines=skip_blank_lines)\n\u001b[1;32m    677\u001b[0m \u001b[0;34m\u001b[0m\u001b[0m\n\u001b[0;32m--> 678\u001b[0;31m         \u001b[0;32mreturn\u001b[0m \u001b[0m_read\u001b[0m\u001b[0;34m(\u001b[0m\u001b[0mfilepath_or_buffer\u001b[0m\u001b[0;34m,\u001b[0m \u001b[0mkwds\u001b[0m\u001b[0;34m)\u001b[0m\u001b[0;34m\u001b[0m\u001b[0;34m\u001b[0m\u001b[0m\n\u001b[0m\u001b[1;32m    679\u001b[0m \u001b[0;34m\u001b[0m\u001b[0m\n\u001b[1;32m    680\u001b[0m     \u001b[0mparser_f\u001b[0m\u001b[0;34m.\u001b[0m\u001b[0m__name__\u001b[0m \u001b[0;34m=\u001b[0m \u001b[0mname\u001b[0m\u001b[0;34m\u001b[0m\u001b[0;34m\u001b[0m\u001b[0m\n",
      "\u001b[0;32m~/anaconda3/lib/python3.6/site-packages/pandas/io/parsers.py\u001b[0m in \u001b[0;36m_read\u001b[0;34m(filepath_or_buffer, kwds)\u001b[0m\n\u001b[1;32m    438\u001b[0m \u001b[0;34m\u001b[0m\u001b[0m\n\u001b[1;32m    439\u001b[0m     \u001b[0;31m# Create the parser.\u001b[0m\u001b[0;34m\u001b[0m\u001b[0;34m\u001b[0m\u001b[0;34m\u001b[0m\u001b[0m\n\u001b[0;32m--> 440\u001b[0;31m     \u001b[0mparser\u001b[0m \u001b[0;34m=\u001b[0m \u001b[0mTextFileReader\u001b[0m\u001b[0;34m(\u001b[0m\u001b[0mfilepath_or_buffer\u001b[0m\u001b[0;34m,\u001b[0m \u001b[0;34m**\u001b[0m\u001b[0mkwds\u001b[0m\u001b[0;34m)\u001b[0m\u001b[0;34m\u001b[0m\u001b[0;34m\u001b[0m\u001b[0m\n\u001b[0m\u001b[1;32m    441\u001b[0m \u001b[0;34m\u001b[0m\u001b[0m\n\u001b[1;32m    442\u001b[0m     \u001b[0;32mif\u001b[0m \u001b[0mchunksize\u001b[0m \u001b[0;32mor\u001b[0m \u001b[0miterator\u001b[0m\u001b[0;34m:\u001b[0m\u001b[0;34m\u001b[0m\u001b[0;34m\u001b[0m\u001b[0m\n",
      "\u001b[0;32m~/anaconda3/lib/python3.6/site-packages/pandas/io/parsers.py\u001b[0m in \u001b[0;36m__init__\u001b[0;34m(self, f, engine, **kwds)\u001b[0m\n\u001b[1;32m    785\u001b[0m             \u001b[0mself\u001b[0m\u001b[0;34m.\u001b[0m\u001b[0moptions\u001b[0m\u001b[0;34m[\u001b[0m\u001b[0;34m'has_index_names'\u001b[0m\u001b[0;34m]\u001b[0m \u001b[0;34m=\u001b[0m \u001b[0mkwds\u001b[0m\u001b[0;34m[\u001b[0m\u001b[0;34m'has_index_names'\u001b[0m\u001b[0;34m]\u001b[0m\u001b[0;34m\u001b[0m\u001b[0;34m\u001b[0m\u001b[0m\n\u001b[1;32m    786\u001b[0m \u001b[0;34m\u001b[0m\u001b[0m\n\u001b[0;32m--> 787\u001b[0;31m         \u001b[0mself\u001b[0m\u001b[0;34m.\u001b[0m\u001b[0m_make_engine\u001b[0m\u001b[0;34m(\u001b[0m\u001b[0mself\u001b[0m\u001b[0;34m.\u001b[0m\u001b[0mengine\u001b[0m\u001b[0;34m)\u001b[0m\u001b[0;34m\u001b[0m\u001b[0;34m\u001b[0m\u001b[0m\n\u001b[0m\u001b[1;32m    788\u001b[0m \u001b[0;34m\u001b[0m\u001b[0m\n\u001b[1;32m    789\u001b[0m     \u001b[0;32mdef\u001b[0m \u001b[0mclose\u001b[0m\u001b[0;34m(\u001b[0m\u001b[0mself\u001b[0m\u001b[0;34m)\u001b[0m\u001b[0;34m:\u001b[0m\u001b[0;34m\u001b[0m\u001b[0;34m\u001b[0m\u001b[0m\n",
      "\u001b[0;32m~/anaconda3/lib/python3.6/site-packages/pandas/io/parsers.py\u001b[0m in \u001b[0;36m_make_engine\u001b[0;34m(self, engine)\u001b[0m\n\u001b[1;32m   1012\u001b[0m     \u001b[0;32mdef\u001b[0m \u001b[0m_make_engine\u001b[0m\u001b[0;34m(\u001b[0m\u001b[0mself\u001b[0m\u001b[0;34m,\u001b[0m \u001b[0mengine\u001b[0m\u001b[0;34m=\u001b[0m\u001b[0;34m'c'\u001b[0m\u001b[0;34m)\u001b[0m\u001b[0;34m:\u001b[0m\u001b[0;34m\u001b[0m\u001b[0;34m\u001b[0m\u001b[0m\n\u001b[1;32m   1013\u001b[0m         \u001b[0;32mif\u001b[0m \u001b[0mengine\u001b[0m \u001b[0;34m==\u001b[0m \u001b[0;34m'c'\u001b[0m\u001b[0;34m:\u001b[0m\u001b[0;34m\u001b[0m\u001b[0;34m\u001b[0m\u001b[0m\n\u001b[0;32m-> 1014\u001b[0;31m             \u001b[0mself\u001b[0m\u001b[0;34m.\u001b[0m\u001b[0m_engine\u001b[0m \u001b[0;34m=\u001b[0m \u001b[0mCParserWrapper\u001b[0m\u001b[0;34m(\u001b[0m\u001b[0mself\u001b[0m\u001b[0;34m.\u001b[0m\u001b[0mf\u001b[0m\u001b[0;34m,\u001b[0m \u001b[0;34m**\u001b[0m\u001b[0mself\u001b[0m\u001b[0;34m.\u001b[0m\u001b[0moptions\u001b[0m\u001b[0;34m)\u001b[0m\u001b[0;34m\u001b[0m\u001b[0;34m\u001b[0m\u001b[0m\n\u001b[0m\u001b[1;32m   1015\u001b[0m         \u001b[0;32melse\u001b[0m\u001b[0;34m:\u001b[0m\u001b[0;34m\u001b[0m\u001b[0;34m\u001b[0m\u001b[0m\n\u001b[1;32m   1016\u001b[0m             \u001b[0;32mif\u001b[0m \u001b[0mengine\u001b[0m \u001b[0;34m==\u001b[0m \u001b[0;34m'python'\u001b[0m\u001b[0;34m:\u001b[0m\u001b[0;34m\u001b[0m\u001b[0;34m\u001b[0m\u001b[0m\n",
      "\u001b[0;32m~/anaconda3/lib/python3.6/site-packages/pandas/io/parsers.py\u001b[0m in \u001b[0;36m__init__\u001b[0;34m(self, src, **kwds)\u001b[0m\n\u001b[1;32m   1706\u001b[0m         \u001b[0mkwds\u001b[0m\u001b[0;34m[\u001b[0m\u001b[0;34m'usecols'\u001b[0m\u001b[0;34m]\u001b[0m \u001b[0;34m=\u001b[0m \u001b[0mself\u001b[0m\u001b[0;34m.\u001b[0m\u001b[0musecols\u001b[0m\u001b[0;34m\u001b[0m\u001b[0;34m\u001b[0m\u001b[0m\n\u001b[1;32m   1707\u001b[0m \u001b[0;34m\u001b[0m\u001b[0m\n\u001b[0;32m-> 1708\u001b[0;31m         \u001b[0mself\u001b[0m\u001b[0;34m.\u001b[0m\u001b[0m_reader\u001b[0m \u001b[0;34m=\u001b[0m \u001b[0mparsers\u001b[0m\u001b[0;34m.\u001b[0m\u001b[0mTextReader\u001b[0m\u001b[0;34m(\u001b[0m\u001b[0msrc\u001b[0m\u001b[0;34m,\u001b[0m \u001b[0;34m**\u001b[0m\u001b[0mkwds\u001b[0m\u001b[0;34m)\u001b[0m\u001b[0;34m\u001b[0m\u001b[0;34m\u001b[0m\u001b[0m\n\u001b[0m\u001b[1;32m   1709\u001b[0m \u001b[0;34m\u001b[0m\u001b[0m\n\u001b[1;32m   1710\u001b[0m         \u001b[0mpassed_names\u001b[0m \u001b[0;34m=\u001b[0m \u001b[0mself\u001b[0m\u001b[0;34m.\u001b[0m\u001b[0mnames\u001b[0m \u001b[0;32mis\u001b[0m \u001b[0;32mNone\u001b[0m\u001b[0;34m\u001b[0m\u001b[0;34m\u001b[0m\u001b[0m\n",
      "\u001b[0;32mpandas/_libs/parsers.pyx\u001b[0m in \u001b[0;36mpandas._libs.parsers.TextReader.__cinit__\u001b[0;34m()\u001b[0m\n",
      "\u001b[0;32mpandas/_libs/parsers.pyx\u001b[0m in \u001b[0;36mpandas._libs.parsers.TextReader._setup_parser_source\u001b[0;34m()\u001b[0m\n",
      "\u001b[0;31mFileNotFoundError\u001b[0m: File b'/data/pg1g15/STEEL/Notebooks/../Data/Observational/Behroozi_UnviM/sfh_stats/stats_a0.911185_absolute_sm_11.900_cen.dat' does not exist"
     ]
    }
   ],
   "source": [
    "Header = [\"type\", \"SF\", \"a\", \"b\", \"c\", \"avg\", \"avg_err\", \"sd\", \"counts\"]\n",
    "df = pd.read_csv(AbsPath+\"/Data/Observational/Behroozi_UnviM/sfh_stats/stats_a0.911185_absolute_sm_11.900_cen.dat\", sep = \" \", skiprows = 17, names = Header, usecols = [0,1,2,3,4,6,8,10,12])\n",
    "df2 = df.pivot(index = 'SF', columns = \"type\", values = 'avg')\n",
    "for i in df2.columns:\n",
    "    df2[i] = df2[i].map(lambda x: float(str(x)[:-1]))\n",
    "df2 = df2.assign(z = lambda x: (1/x.index.values)-1)"
   ]
  },
  {
   "cell_type": "code",
   "execution_count": 108,
   "metadata": {},
   "outputs": [
    {
     "data": {
      "text/html": [
       "<div>\n",
       "<style scoped>\n",
       "    .dataframe tbody tr th:only-of-type {\n",
       "        vertical-align: middle;\n",
       "    }\n",
       "\n",
       "    .dataframe tbody tr th {\n",
       "        vertical-align: top;\n",
       "    }\n",
       "\n",
       "    .dataframe thead th {\n",
       "        text-align: right;\n",
       "    }\n",
       "</style>\n",
       "<table border=\"1\" class=\"dataframe\">\n",
       "  <thead>\n",
       "    <tr style=\"text-align: right;\">\n",
       "      <th>type</th>\n",
       "      <th>z</th>\n",
       "    </tr>\n",
       "  </thead>\n",
       "  <tbody>\n",
       "  </tbody>\n",
       "</table>\n",
       "</div>"
      ],
      "text/plain": [
       "Empty DataFrame\n",
       "Columns: [z]\n",
       "Index: []"
      ]
     },
     "execution_count": 108,
     "metadata": {},
     "output_type": "execute_result"
    }
   ],
   "source": [
    "df2"
   ]
  },
  {
   "cell_type": "code",
   "execution_count": 105,
   "metadata": {},
   "outputs": [
    {
     "ename": "KeyError",
     "evalue": "'sm_mp'",
     "output_type": "error",
     "traceback": [
      "\u001b[0;31m---------------------------------------------------------------------------\u001b[0m",
      "\u001b[0;31mKeyError\u001b[0m                                  Traceback (most recent call last)",
      "\u001b[0;32m~/anaconda3/lib/python3.6/site-packages/pandas/core/indexes/base.py\u001b[0m in \u001b[0;36mget_loc\u001b[0;34m(self, key, method, tolerance)\u001b[0m\n\u001b[1;32m   3077\u001b[0m             \u001b[0;32mtry\u001b[0m\u001b[0;34m:\u001b[0m\u001b[0;34m\u001b[0m\u001b[0;34m\u001b[0m\u001b[0m\n\u001b[0;32m-> 3078\u001b[0;31m                 \u001b[0;32mreturn\u001b[0m \u001b[0mself\u001b[0m\u001b[0;34m.\u001b[0m\u001b[0m_engine\u001b[0m\u001b[0;34m.\u001b[0m\u001b[0mget_loc\u001b[0m\u001b[0;34m(\u001b[0m\u001b[0mkey\u001b[0m\u001b[0;34m)\u001b[0m\u001b[0;34m\u001b[0m\u001b[0;34m\u001b[0m\u001b[0m\n\u001b[0m\u001b[1;32m   3079\u001b[0m             \u001b[0;32mexcept\u001b[0m \u001b[0mKeyError\u001b[0m\u001b[0;34m:\u001b[0m\u001b[0;34m\u001b[0m\u001b[0;34m\u001b[0m\u001b[0m\n",
      "\u001b[0;32mpandas/_libs/index.pyx\u001b[0m in \u001b[0;36mpandas._libs.index.IndexEngine.get_loc\u001b[0;34m()\u001b[0m\n",
      "\u001b[0;32mpandas/_libs/index.pyx\u001b[0m in \u001b[0;36mpandas._libs.index.IndexEngine.get_loc\u001b[0;34m()\u001b[0m\n",
      "\u001b[0;32mpandas/_libs/hashtable_class_helper.pxi\u001b[0m in \u001b[0;36mpandas._libs.hashtable.PyObjectHashTable.get_item\u001b[0;34m()\u001b[0m\n",
      "\u001b[0;32mpandas/_libs/hashtable_class_helper.pxi\u001b[0m in \u001b[0;36mpandas._libs.hashtable.PyObjectHashTable.get_item\u001b[0;34m()\u001b[0m\n",
      "\u001b[0;31mKeyError\u001b[0m: 'sm_mp'",
      "\nDuring handling of the above exception, another exception occurred:\n",
      "\u001b[0;31mKeyError\u001b[0m                                  Traceback (most recent call last)",
      "\u001b[0;32m<ipython-input-105-8863b2540b0b>\u001b[0m in \u001b[0;36m<module>\u001b[0;34m\u001b[0m\n\u001b[0;32m----> 1\u001b[0;31m \u001b[0mplt\u001b[0m\u001b[0;34m.\u001b[0m\u001b[0mplot\u001b[0m\u001b[0;34m(\u001b[0m\u001b[0mdf2\u001b[0m\u001b[0;34m[\u001b[0m\u001b[0;34m'z'\u001b[0m\u001b[0;34m]\u001b[0m\u001b[0;34m,\u001b[0m \u001b[0mnp\u001b[0m\u001b[0;34m.\u001b[0m\u001b[0mlog10\u001b[0m\u001b[0;34m(\u001b[0m\u001b[0mdf2\u001b[0m\u001b[0;34m[\u001b[0m\u001b[0;34m'sm_mp'\u001b[0m\u001b[0;34m]\u001b[0m\u001b[0;34m)\u001b[0m\u001b[0;34m)\u001b[0m\u001b[0;34m\u001b[0m\u001b[0;34m\u001b[0m\u001b[0m\n\u001b[0m\u001b[1;32m      2\u001b[0m \u001b[0mplt\u001b[0m\u001b[0;34m.\u001b[0m\u001b[0mxscale\u001b[0m\u001b[0;34m(\u001b[0m\u001b[0;34m'log'\u001b[0m\u001b[0;34m)\u001b[0m\u001b[0;34m\u001b[0m\u001b[0;34m\u001b[0m\u001b[0m\n\u001b[1;32m      3\u001b[0m \u001b[0mplt\u001b[0m\u001b[0;34m.\u001b[0m\u001b[0mxlim\u001b[0m\u001b[0;34m(\u001b[0m\u001b[0;36m0\u001b[0m\u001b[0;34m,\u001b[0m\u001b[0;36m3\u001b[0m\u001b[0;34m)\u001b[0m\u001b[0;34m\u001b[0m\u001b[0;34m\u001b[0m\u001b[0m\n\u001b[1;32m      4\u001b[0m \u001b[0mplt\u001b[0m\u001b[0;34m.\u001b[0m\u001b[0mylim\u001b[0m\u001b[0;34m(\u001b[0m\u001b[0;36m9\u001b[0m\u001b[0;34m,\u001b[0m \u001b[0;36m12.5\u001b[0m\u001b[0;34m)\u001b[0m\u001b[0;34m\u001b[0m\u001b[0;34m\u001b[0m\u001b[0m\n\u001b[1;32m      5\u001b[0m \u001b[0mplt\u001b[0m\u001b[0;34m.\u001b[0m\u001b[0mshow\u001b[0m\u001b[0;34m(\u001b[0m\u001b[0;34m)\u001b[0m\u001b[0;34m\u001b[0m\u001b[0;34m\u001b[0m\u001b[0m\n",
      "\u001b[0;32m~/anaconda3/lib/python3.6/site-packages/pandas/core/frame.py\u001b[0m in \u001b[0;36m__getitem__\u001b[0;34m(self, key)\u001b[0m\n\u001b[1;32m   2686\u001b[0m             \u001b[0;32mreturn\u001b[0m \u001b[0mself\u001b[0m\u001b[0;34m.\u001b[0m\u001b[0m_getitem_multilevel\u001b[0m\u001b[0;34m(\u001b[0m\u001b[0mkey\u001b[0m\u001b[0;34m)\u001b[0m\u001b[0;34m\u001b[0m\u001b[0;34m\u001b[0m\u001b[0m\n\u001b[1;32m   2687\u001b[0m         \u001b[0;32melse\u001b[0m\u001b[0;34m:\u001b[0m\u001b[0;34m\u001b[0m\u001b[0;34m\u001b[0m\u001b[0m\n\u001b[0;32m-> 2688\u001b[0;31m             \u001b[0;32mreturn\u001b[0m \u001b[0mself\u001b[0m\u001b[0;34m.\u001b[0m\u001b[0m_getitem_column\u001b[0m\u001b[0;34m(\u001b[0m\u001b[0mkey\u001b[0m\u001b[0;34m)\u001b[0m\u001b[0;34m\u001b[0m\u001b[0;34m\u001b[0m\u001b[0m\n\u001b[0m\u001b[1;32m   2689\u001b[0m \u001b[0;34m\u001b[0m\u001b[0m\n\u001b[1;32m   2690\u001b[0m     \u001b[0;32mdef\u001b[0m \u001b[0m_getitem_column\u001b[0m\u001b[0;34m(\u001b[0m\u001b[0mself\u001b[0m\u001b[0;34m,\u001b[0m \u001b[0mkey\u001b[0m\u001b[0;34m)\u001b[0m\u001b[0;34m:\u001b[0m\u001b[0;34m\u001b[0m\u001b[0;34m\u001b[0m\u001b[0m\n",
      "\u001b[0;32m~/anaconda3/lib/python3.6/site-packages/pandas/core/frame.py\u001b[0m in \u001b[0;36m_getitem_column\u001b[0;34m(self, key)\u001b[0m\n\u001b[1;32m   2693\u001b[0m         \u001b[0;31m# get column\u001b[0m\u001b[0;34m\u001b[0m\u001b[0;34m\u001b[0m\u001b[0;34m\u001b[0m\u001b[0m\n\u001b[1;32m   2694\u001b[0m         \u001b[0;32mif\u001b[0m \u001b[0mself\u001b[0m\u001b[0;34m.\u001b[0m\u001b[0mcolumns\u001b[0m\u001b[0;34m.\u001b[0m\u001b[0mis_unique\u001b[0m\u001b[0;34m:\u001b[0m\u001b[0;34m\u001b[0m\u001b[0;34m\u001b[0m\u001b[0m\n\u001b[0;32m-> 2695\u001b[0;31m             \u001b[0;32mreturn\u001b[0m \u001b[0mself\u001b[0m\u001b[0;34m.\u001b[0m\u001b[0m_get_item_cache\u001b[0m\u001b[0;34m(\u001b[0m\u001b[0mkey\u001b[0m\u001b[0;34m)\u001b[0m\u001b[0;34m\u001b[0m\u001b[0;34m\u001b[0m\u001b[0m\n\u001b[0m\u001b[1;32m   2696\u001b[0m \u001b[0;34m\u001b[0m\u001b[0m\n\u001b[1;32m   2697\u001b[0m         \u001b[0;31m# duplicate columns & possible reduce dimensionality\u001b[0m\u001b[0;34m\u001b[0m\u001b[0;34m\u001b[0m\u001b[0;34m\u001b[0m\u001b[0m\n",
      "\u001b[0;32m~/anaconda3/lib/python3.6/site-packages/pandas/core/generic.py\u001b[0m in \u001b[0;36m_get_item_cache\u001b[0;34m(self, item)\u001b[0m\n\u001b[1;32m   2487\u001b[0m         \u001b[0mres\u001b[0m \u001b[0;34m=\u001b[0m \u001b[0mcache\u001b[0m\u001b[0;34m.\u001b[0m\u001b[0mget\u001b[0m\u001b[0;34m(\u001b[0m\u001b[0mitem\u001b[0m\u001b[0;34m)\u001b[0m\u001b[0;34m\u001b[0m\u001b[0;34m\u001b[0m\u001b[0m\n\u001b[1;32m   2488\u001b[0m         \u001b[0;32mif\u001b[0m \u001b[0mres\u001b[0m \u001b[0;32mis\u001b[0m \u001b[0;32mNone\u001b[0m\u001b[0;34m:\u001b[0m\u001b[0;34m\u001b[0m\u001b[0;34m\u001b[0m\u001b[0m\n\u001b[0;32m-> 2489\u001b[0;31m             \u001b[0mvalues\u001b[0m \u001b[0;34m=\u001b[0m \u001b[0mself\u001b[0m\u001b[0;34m.\u001b[0m\u001b[0m_data\u001b[0m\u001b[0;34m.\u001b[0m\u001b[0mget\u001b[0m\u001b[0;34m(\u001b[0m\u001b[0mitem\u001b[0m\u001b[0;34m)\u001b[0m\u001b[0;34m\u001b[0m\u001b[0;34m\u001b[0m\u001b[0m\n\u001b[0m\u001b[1;32m   2490\u001b[0m             \u001b[0mres\u001b[0m \u001b[0;34m=\u001b[0m \u001b[0mself\u001b[0m\u001b[0;34m.\u001b[0m\u001b[0m_box_item_values\u001b[0m\u001b[0;34m(\u001b[0m\u001b[0mitem\u001b[0m\u001b[0;34m,\u001b[0m \u001b[0mvalues\u001b[0m\u001b[0;34m)\u001b[0m\u001b[0;34m\u001b[0m\u001b[0;34m\u001b[0m\u001b[0m\n\u001b[1;32m   2491\u001b[0m             \u001b[0mcache\u001b[0m\u001b[0;34m[\u001b[0m\u001b[0mitem\u001b[0m\u001b[0;34m]\u001b[0m \u001b[0;34m=\u001b[0m \u001b[0mres\u001b[0m\u001b[0;34m\u001b[0m\u001b[0;34m\u001b[0m\u001b[0m\n",
      "\u001b[0;32m~/anaconda3/lib/python3.6/site-packages/pandas/core/internals.py\u001b[0m in \u001b[0;36mget\u001b[0;34m(self, item, fastpath)\u001b[0m\n\u001b[1;32m   4113\u001b[0m \u001b[0;34m\u001b[0m\u001b[0m\n\u001b[1;32m   4114\u001b[0m             \u001b[0;32mif\u001b[0m \u001b[0;32mnot\u001b[0m \u001b[0misna\u001b[0m\u001b[0;34m(\u001b[0m\u001b[0mitem\u001b[0m\u001b[0;34m)\u001b[0m\u001b[0;34m:\u001b[0m\u001b[0;34m\u001b[0m\u001b[0;34m\u001b[0m\u001b[0m\n\u001b[0;32m-> 4115\u001b[0;31m                 \u001b[0mloc\u001b[0m \u001b[0;34m=\u001b[0m \u001b[0mself\u001b[0m\u001b[0;34m.\u001b[0m\u001b[0mitems\u001b[0m\u001b[0;34m.\u001b[0m\u001b[0mget_loc\u001b[0m\u001b[0;34m(\u001b[0m\u001b[0mitem\u001b[0m\u001b[0;34m)\u001b[0m\u001b[0;34m\u001b[0m\u001b[0;34m\u001b[0m\u001b[0m\n\u001b[0m\u001b[1;32m   4116\u001b[0m             \u001b[0;32melse\u001b[0m\u001b[0;34m:\u001b[0m\u001b[0;34m\u001b[0m\u001b[0;34m\u001b[0m\u001b[0m\n\u001b[1;32m   4117\u001b[0m                 \u001b[0mindexer\u001b[0m \u001b[0;34m=\u001b[0m \u001b[0mnp\u001b[0m\u001b[0;34m.\u001b[0m\u001b[0marange\u001b[0m\u001b[0;34m(\u001b[0m\u001b[0mlen\u001b[0m\u001b[0;34m(\u001b[0m\u001b[0mself\u001b[0m\u001b[0;34m.\u001b[0m\u001b[0mitems\u001b[0m\u001b[0;34m)\u001b[0m\u001b[0;34m)\u001b[0m\u001b[0;34m[\u001b[0m\u001b[0misna\u001b[0m\u001b[0;34m(\u001b[0m\u001b[0mself\u001b[0m\u001b[0;34m.\u001b[0m\u001b[0mitems\u001b[0m\u001b[0;34m)\u001b[0m\u001b[0;34m]\u001b[0m\u001b[0;34m\u001b[0m\u001b[0;34m\u001b[0m\u001b[0m\n",
      "\u001b[0;32m~/anaconda3/lib/python3.6/site-packages/pandas/core/indexes/base.py\u001b[0m in \u001b[0;36mget_loc\u001b[0;34m(self, key, method, tolerance)\u001b[0m\n\u001b[1;32m   3078\u001b[0m                 \u001b[0;32mreturn\u001b[0m \u001b[0mself\u001b[0m\u001b[0;34m.\u001b[0m\u001b[0m_engine\u001b[0m\u001b[0;34m.\u001b[0m\u001b[0mget_loc\u001b[0m\u001b[0;34m(\u001b[0m\u001b[0mkey\u001b[0m\u001b[0;34m)\u001b[0m\u001b[0;34m\u001b[0m\u001b[0;34m\u001b[0m\u001b[0m\n\u001b[1;32m   3079\u001b[0m             \u001b[0;32mexcept\u001b[0m \u001b[0mKeyError\u001b[0m\u001b[0;34m:\u001b[0m\u001b[0;34m\u001b[0m\u001b[0;34m\u001b[0m\u001b[0m\n\u001b[0;32m-> 3080\u001b[0;31m                 \u001b[0;32mreturn\u001b[0m \u001b[0mself\u001b[0m\u001b[0;34m.\u001b[0m\u001b[0m_engine\u001b[0m\u001b[0;34m.\u001b[0m\u001b[0mget_loc\u001b[0m\u001b[0;34m(\u001b[0m\u001b[0mself\u001b[0m\u001b[0;34m.\u001b[0m\u001b[0m_maybe_cast_indexer\u001b[0m\u001b[0;34m(\u001b[0m\u001b[0mkey\u001b[0m\u001b[0;34m)\u001b[0m\u001b[0;34m)\u001b[0m\u001b[0;34m\u001b[0m\u001b[0;34m\u001b[0m\u001b[0m\n\u001b[0m\u001b[1;32m   3081\u001b[0m \u001b[0;34m\u001b[0m\u001b[0m\n\u001b[1;32m   3082\u001b[0m         \u001b[0mindexer\u001b[0m \u001b[0;34m=\u001b[0m \u001b[0mself\u001b[0m\u001b[0;34m.\u001b[0m\u001b[0mget_indexer\u001b[0m\u001b[0;34m(\u001b[0m\u001b[0;34m[\u001b[0m\u001b[0mkey\u001b[0m\u001b[0;34m]\u001b[0m\u001b[0;34m,\u001b[0m \u001b[0mmethod\u001b[0m\u001b[0;34m=\u001b[0m\u001b[0mmethod\u001b[0m\u001b[0;34m,\u001b[0m \u001b[0mtolerance\u001b[0m\u001b[0;34m=\u001b[0m\u001b[0mtolerance\u001b[0m\u001b[0;34m)\u001b[0m\u001b[0;34m\u001b[0m\u001b[0;34m\u001b[0m\u001b[0m\n",
      "\u001b[0;32mpandas/_libs/index.pyx\u001b[0m in \u001b[0;36mpandas._libs.index.IndexEngine.get_loc\u001b[0;34m()\u001b[0m\n",
      "\u001b[0;32mpandas/_libs/index.pyx\u001b[0m in \u001b[0;36mpandas._libs.index.IndexEngine.get_loc\u001b[0;34m()\u001b[0m\n",
      "\u001b[0;32mpandas/_libs/hashtable_class_helper.pxi\u001b[0m in \u001b[0;36mpandas._libs.hashtable.PyObjectHashTable.get_item\u001b[0;34m()\u001b[0m\n",
      "\u001b[0;32mpandas/_libs/hashtable_class_helper.pxi\u001b[0m in \u001b[0;36mpandas._libs.hashtable.PyObjectHashTable.get_item\u001b[0;34m()\u001b[0m\n",
      "\u001b[0;31mKeyError\u001b[0m: 'sm_mp'"
     ]
    }
   ],
   "source": [
    "plt.plot(df2['z'], np.log10(df2['sm_mp']))\n",
    "plt.xscale('log')\n",
    "plt.xlim(0,3)\n",
    "plt.ylim(9, 12.5)\n",
    "plt.show()"
   ]
  },
  {
   "cell_type": "code",
   "execution_count": 99,
   "metadata": {},
   "outputs": [],
   "source": [
    "z= df2['z'].values\n",
    "t = Cosmo.lookbackTime(1/df2.index.values - 1)\n",
    "dt = (t[:-1]-t[1:])*(10**9)\n",
    "SM = df2['sm_mp'].values\n",
    "SM_dt = (SM[1:]-SM[:-1])/dt\n",
    "z_med = Cosmo.lookbackTime((t[:-1]+t[1:])/2, inverse = True)\n",
    "SFR = df2['sfr_mp'].values*0.59 #inst mass recycling\n",
    "SFR_med = (SFR[:-1] + SFR[1:])/2\n",
    "Ratio = SFR_med/SM_dt"
   ]
  },
  {
   "cell_type": "code",
   "execution_count": 101,
   "metadata": {},
   "outputs": [
    {
     "name": "stderr",
     "output_type": "stream",
     "text": [
      "/home/pg1g15/anaconda3/lib/python3.6/site-packages/matplotlib/pyplot.py:1479: UserWarning: Attempted to set non-positive bottom ylim on a log-scaled axis.\n",
      "Invalid limit will be ignored.\n",
      "  ret = ax.set_ylim(*args, **kwargs)\n"
     ]
    },
    {
     "data": {
      "image/png": "[encoded data removed]",
      "text/plain": [
       "<Figure size 432x288 with 1 Axes>"
      ]
     },
     "metadata": {
      "needs_background": "light"
     },
     "output_type": "display_data"
    }
   ],
   "source": [
    "plt.plot(z_med, Ratio)\n",
    "plt.xscale('log')\n",
    "plt.yscale('log')\n",
    "plt.ylim(0,1)\n",
    "plt.xlim(0,3)\n",
    "plt.show()"
   ]
  },
  {
   "cell_type": "code",
   "execution_count": 113,
   "metadata": {},
   "outputs": [],
   "source": [
    "Acc11 = np.loadtxt(AbsPath+\"/Data/Observational/Nicola_SAM/Macc_11.dat\").T\n",
    "Acc11pt5 = np.loadtxt(AbsPath+\"/Data/Observational/Nicola_SAM/Macc_11.5.dat\").T\n",
    "Acc12 = np.loadtxt(AbsPath+\"/Data/Observational/Nicola_SAM/Macc_12.dat\").T\n",
    "Main11 = np.loadtxt(AbsPath+\"/Data/Observational/Nicola_SAM/Mmain_11.dat\").T\n",
    "Main11pt5 = np.loadtxt(AbsPath+\"/Data/Observational/Nicola_SAM/Mmain_11.5.dat\").T\n",
    "Main12 = np.loadtxt(AbsPath+\"/Data/Observational/Nicola_SAM/Mmain_12.dat\").T\n",
    "Ratio11 = np.loadtxt(AbsPath+\"/Data/Observational/Nicola_SAM/ratio_M11.dat\").T\n",
    "Ratio11pt5 = np.loadtxt(AbsPath+\"/Data/Observational/Nicola_SAM/ratio_M11.5.dat\").T\n",
    "Ratio12 = np.loadtxt(AbsPath+\"/Data/Observational/Nicola_SAM/ratio_M12.dat\").T"
   ]
  },
  {
   "cell_type": "code",
   "execution_count": 130,
   "metadata": {},
   "outputs": [
    {
     "data": {
      "text/plain": [
       "array([[0.15     , 0.45     , 0.75     , 1.05     , 1.35     , 1.65     ,\n",
       "        1.95     , 2.25     , 2.55     , 2.85     , 3.15     , 3.45     ,\n",
       "        3.75     , 4.05     , 4.35     , 4.65     , 4.95     , 5.25     ,\n",
       "        5.55     , 5.85     ],\n",
       "       [0.9838559, 0.8869066, 0.8131935, 0.7583365, 0.7139478, 0.7019304,\n",
       "        0.6265112, 0.5561152, 0.5017625, 0.4148065, 0.3690836, 0.3364767,\n",
       "        0.3140162, 0.2826168, 0.2389008, 0.2187312, 0.2146969, 0.1926727,\n",
       "        0.1775979, 0.1732941],\n",
       "       [0.2049314, 0.2918983, 0.3282022, 0.3735412, 0.3955397, 0.4373202,\n",
       "        0.4337257, 0.4390207, 0.4209841, 0.3900911, 0.3728649, 0.3543175,\n",
       "        0.3280931, 0.2909183, 0.2207582, 0.2163796, 0.2298841, 0.2036154,\n",
       "        0.191839 , 0.1960521]])"
      ]
     },
     "execution_count": 130,
     "metadata": {},
     "output_type": "execute_result"
    }
   ],
   "source": [
    "Main11"
   ]
  },
  {
   "cell_type": "code",
   "execution_count": 140,
   "metadata": {},
   "outputs": [
    {
     "data": {
      "text/plain": [
       "array([[1.5000000e-01, 4.5000000e-01, 7.5000000e-01, 1.0500000e+00,\n",
       "        1.3500000e+00, 1.6500000e+00, 1.9500000e+00, 2.2500000e+00,\n",
       "        2.5500000e+00, 2.8500000e+00, 3.1500000e+00, 3.4500000e+00,\n",
       "        3.7500000e+00, 4.0500000e+00, 4.3500000e+00, 4.6500000e+00,\n",
       "        4.9500000e+00, 5.2500000e+00, 5.5500000e+00, 5.8500000e+00],\n",
       "       [3.6656837e+09, 2.1469752e+09, 1.8181938e+09, 1.6330227e+09,\n",
       "        1.4775002e+09, 1.2715871e+09, 1.1965377e+09, 9.9003904e+08,\n",
       "        6.5131379e+08, 5.3807565e+08, 6.7829606e+08, 7.6564262e+08,\n",
       "        4.2587146e+08, 3.9228179e+08, 6.4145107e+08, 7.6441037e+08,\n",
       "        1.6665390e+08, 1.4997885e+08, 1.4997885e+08, 1.4997885e+08],\n",
       "       [7.9819638e+09, 2.7850094e+09, 2.5827686e+09, 1.9471547e+09,\n",
       "        1.6155759e+09, 1.4461809e+09, 1.5547336e+09, 1.4816458e+09,\n",
       "        1.1442939e+09, 7.1009171e+08, 6.1254054e+08, 6.5053850e+08,\n",
       "        2.9335504e+08, 1.8550810e+08, 1.5001942e+08, 7.5689592e+07,\n",
       "        2.0422698e+07, 0.0000000e+00, 0.0000000e+00, 0.0000000e+00]])"
      ]
     },
     "execution_count": 140,
     "metadata": {},
     "output_type": "execute_result"
    }
   ],
   "source": [
    "Acc11"
   ]
  },
  {
   "cell_type": "code",
   "execution_count": 143,
   "metadata": {},
   "outputs": [
    {
     "data": {
      "image/png": "[encoded data removed]",
      "text/plain": [
       "<Figure size 432x288 with 1 Axes>"
      ]
     },
     "metadata": {
      "needs_background": "light"
     },
     "output_type": "display_data"
    }
   ],
   "source": [
    "plt.fill_between(Main11[0], np.log10(Main11[1]-Main11[2])+11, np.log10(Main11[1]+Main11[2])+11, alpha = 0.5)\n",
    "plt.plot(Acc11[0], np.log10(Acc11[1]), label = \"Acc\")\n",
    "#plt.fill_between(Acc11[0], np.log10(Acc11[1]-Acc11[2]), np.log10(Acc11[1]+Acc11[2]), alpha = 0.5)\n",
    "plt.xscale('log')\n",
    "plt.legend(frameon = False)\n",
    "plt.show()"
   ]
  },
  {
   "cell_type": "code",
   "execution_count": 141,
   "metadata": {},
   "outputs": [
    {
     "data": {
      "image/png": "[encoded data removed]",
      "text/plain": [
       "<Figure size 432x288 with 1 Axes>"
      ]
     },
     "metadata": {
      "needs_background": "light"
     },
     "output_type": "display_data"
    },
    {
     "name": "stderr",
     "output_type": "stream",
     "text": [
      "No handles with labels found to put in legend.\n"
     ]
    },
    {
     "data": {
      "image/png": "[encoded data removed]",
      "text/plain": [
       "<Figure size 432x288 with 1 Axes>"
      ]
     },
     "metadata": {
      "needs_background": "light"
     },
     "output_type": "display_data"
    }
   ],
   "source": [
    "plt.plot(Main11[0], np.log10(Main11[1]) + 11, label = \"Cent\")\n",
    "plt.plot(Acc11[0], np.log10(Acc11[1]), label = \"Acc\")\n",
    "plt.xscale('log')\n",
    "plt.legend(frameon = False)\n",
    "plt.show()\n",
    "\n",
    "plt.plot(Ratio11[0], Ratio11[1])\n",
    "plt.xscale('log')\n",
    "plt.legend(frameon = False)\n",
    "plt.show()"
   ]
  },
  {
   "cell_type": "code",
   "execution_count": 151,
   "metadata": {},
   "outputs": [
    {
     "data": {
      "image/png": "[encoded data removed]",
      "text/plain": [
       "<Figure size 432x288 with 1 Axes>"
      ]
     },
     "metadata": {
      "needs_background": "light"
     },
     "output_type": "display_data"
    }
   ],
   "source": [
    "NM_SMHM = np.loadtxt(AbsPath+\"/Data/Observational/Nicola_SAM/mstar-mhalos.dat\").T\n",
    "plt.errorbar(NM_SMHM[0], NM_SMHM[1], yerr = NM_SMHM[2], label = \"Menci14\")\n",
    "plt.show()"
   ]
  },
  {
   "cell_type": "code",
   "execution_count": 146,
   "metadata": {},
   "outputs": [
    {
     "data": {
      "text/plain": [
       "array([[11.03      , 11.09      , 11.15      , 11.21      , 11.27      ,\n",
       "        11.33      , 11.39      , 11.45      , 11.51      , 11.57      ,\n",
       "        11.63      , 11.69      , 11.75      , 11.81      , 11.87      ,\n",
       "        11.93      , 11.99      , 12.05      , 12.11      , 12.17      ,\n",
       "        12.23      , 12.29      , 12.35      , 12.41      , 12.47      ,\n",
       "        12.53      , 12.59      , 12.65      , 12.71      , 12.77      ,\n",
       "        12.83      , 12.89      , 12.95      , 13.01      , 13.07      ,\n",
       "        13.13      , 13.19      , 13.25      , 13.31      , 13.37      ,\n",
       "        13.43      , 13.49      , 13.55      , 13.61      , 13.67      ,\n",
       "        13.73      , 13.79      , 13.85      , 13.91      , 13.97      ],\n",
       "       [ 9.325966  ,  9.324824  ,  9.418889  ,  9.365872  ,  9.605534  ,\n",
       "         9.51394   ,  9.544341  ,  9.601395  ,  9.603568  ,  9.404332  ,\n",
       "         9.664166  ,  9.738158  ,  9.650392  ,  9.953675  ,  9.846918  ,\n",
       "         9.742396  ,  9.764312  , 10.01807   ,  9.919208  ,  9.972525  ,\n",
       "         9.919348  ,  9.881422  , 10.37906   , 10.16125   , 10.29938   ,\n",
       "        10.53937   , 10.81301   , 10.77883   , 10.85684   , 10.93493   ,\n",
       "        10.81113   , 10.9444    , 10.97199   , 11.04953   , 10.96299   ,\n",
       "        11.11824   , 11.19058   , 11.08682   , 11.20331   , 11.299     ,\n",
       "        11.42975   , 11.44771   , 11.4004    , 11.51356   , 11.49523   ,\n",
       "        11.69813   , 11.7388    , 11.75269   , 11.85926   , 11.67207   ],\n",
       "       [ 0.4065354 ,  0.4601167 ,  0.4734983 ,  0.5080758 ,  0.5442724 ,\n",
       "         0.538546  ,  0.5666441 ,  0.5943252 ,  0.6268082 ,  0.556655  ,\n",
       "         0.6423887 ,  0.5906547 ,  0.6061713 ,  0.6445277 ,  0.6964124 ,\n",
       "         0.6939527 ,  0.6985828 ,  0.7064434 ,  0.7616417 ,  0.6564456 ,\n",
       "         0.7620009 ,  0.7487587 ,  0.6767018 ,  0.6579224 ,  0.6575392 ,\n",
       "         0.6113576 ,  0.4623632 ,  0.4755604 ,  0.5199609 ,  0.3055287 ,\n",
       "         0.4781637 ,  0.4537762 ,  0.4514315 ,  0.4478052 ,  0.5250149 ,\n",
       "         0.3502099 ,  0.374823  ,  0.4090241 ,  0.3584435 ,  0.233736  ,\n",
       "         0.2108972 ,  0.1535054 ,  0.4171166 ,  0.2772709 ,  0.2700008 ,\n",
       "         0.0801838 ,  0.1741313 ,  0.09387368,  0.08001985,  0.2861438 ]])"
      ]
     },
     "execution_count": 146,
     "metadata": {},
     "output_type": "execute_result"
    }
   ],
   "source": [
    "NM_SMHM"
   ]
  },
  {
   "cell_type": "code",
   "execution_count": null,
   "metadata": {},
   "outputs": [],
   "source": []
  }
 ],
 "metadata": {
  "kernelspec": {
   "display_name": "Python 3",
   "language": "python",
   "name": "python3"
  },
  "language_info": {
   "codemirror_mode": {
    "name": "ipython",
    "version": 3
   },
   "file_extension": ".py",
   "mimetype": "text/x-python",
   "name": "python",
   "nbconvert_exporter": "python",
   "pygments_lexer": "ipython3",
   "version": "3.6.7"
  }
 },
 "nbformat": 4,
 "nbformat_minor": 2
}
