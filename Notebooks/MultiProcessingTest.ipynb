{
 "cells": [
  {
   "cell_type": "code",
   "execution_count": 2,
   "metadata": {},
   "outputs": [],
   "source": [
    "import os\n",
    "import sys\n",
    "import importlib\n",
    "AbsPath = str(os.path.abspath(\"\"))+\"/..\"\n",
    "sys.path.append(AbsPath)\n",
    "import numpy as np \n",
    "from Functions import Functions as F"
   ]
  },
  {
   "cell_type": "code",
   "execution_count": 5,
   "metadata": {},
   "outputs": [],
   "source": [
    "#Abundance Matching Parameters\n",
    "Override =\\\n",
    "{\\\n",
    "'M10':12.0,\\\n",
    "'SHMnorm10':0.032,\\\n",
    "'beta10':1.5,\\\n",
    "'gamma10':0.56,\\\n",
    "'M11':0.6,\\\n",
    "'SHMnorm11':-0.014,\\\n",
    "'beta11':-2,\\\n",
    "'gamma11':0.08\\\n",
    "}\n",
    "\n",
    "\n",
    "AbnMtch =\\\n",
    "{\\\n",
    "'Behroozi13': False,\\\n",
    "'Behroozi18': False,\\\n",
    "'B18c':False,\\\n",
    "'B18t':False,\\\n",
    "'G18':False,\\\n",
    "'G18_notSE':False,\\\n",
    "'G19_SE':True,\\\n",
    "'G19_cMod':False,\\\n",
    "'Lorenzo18':False,\\\n",
    "'Moster': False,\\\n",
    "'Moster10': False,\\\n",
    "'Illustris': False,\\\n",
    "'z_Evo':True,\\\n",
    "'Scatter': 0.15,\\\n",
    "'Override_0': False,\\\n",
    "'Override_z': False,\\\n",
    "'Override': Override,\\\n",
    "'PFT': False,\\\n",
    "'M_PFT1': False,\\\n",
    "'M_PFT2': False,\\\n",
    "'M_PFT3': False,\\\n",
    "'N_PFT1': False,\\\n",
    "'N_PFT2': False,\\\n",
    "'N_PFT3': False,\\\n",
    "'b_PFT1': False,\\\n",
    "'b_PFT2': False,\\\n",
    "'b_PFT3': False,\\\n",
    "'g_PFT1': False,\\\n",
    "'g_PFT2': False,\\\n",
    "'g_PFT3': False,\\\n",
    "'g_PFT4': False\\\n",
    "}\n",
    "\n",
    "Paramaters = \\\n",
    "{\\\n",
    "'AbnMtch' : AbnMtch,\\\n",
    "'AltDynamicalTime': 1,\\\n",
    "'NormRnd': 0.5,\\\n",
    "'SFR_Model': 'CE',\\\n",
    "'PreProcessing': False,\\\n",
    "'AltDynamicalTimeB': False\\\n",
    "}"
   ]
  },
  {
   "cell_type": "code",
   "execution_count": 91,
   "metadata": {},
   "outputs": [
    {
     "data": {
      "text/plain": [
       "<module 'Functions.Functions' from '/data/pg1g15/STEEL/Notebooks/../Functions/Functions.py'>"
      ]
     },
     "execution_count": 91,
     "metadata": {},
     "output_type": "execute_result"
    }
   ],
   "source": [
    "importlib.reload(F)"
   ]
  },
  {
   "cell_type": "code",
   "execution_count": 92,
   "metadata": {},
   "outputs": [
    {
     "name": "stdout",
     "output_type": "stream",
     "text": [
      "[ 5.49673865  8.29987791 10.48181578 10.87777581]\n",
      "[ 5.63567495  8.44160478 10.33237611 11.28907577]\n",
      "[ 5.64988365  8.25080523 10.23253347 11.19265116]\n",
      "[ 5.74999816  8.31724455 10.82741583 11.20594816]\n",
      "[ 5.65361915  8.32258345 10.75168283 11.22266997]\n",
      "[ 5.34085312  8.32088393 10.8610058  11.09438757]\n",
      "[ 5.39047087  8.19657913 10.58309666 11.00593774]\n",
      "[ 5.65744903  8.41355237 10.59357923 11.44179465]\n",
      "[ 5.57104847  8.53126604 10.66498562 11.3948693 ]\n",
      "[ 5.70577329  8.4565234  10.47004556 11.16558201]\n"
     ]
    }
   ],
   "source": [
    "DM = [10, 11, 12, 13]\n",
    "for i in range(10):\n",
    "    M = F.DarkMatterToStellarMass(DM, 0, Paramaters, ScatterOn = True)\n",
    "    print(M)"
   ]
  },
  {
   "cell_type": "code",
   "execution_count": null,
   "metadata": {},
   "outputs": [],
   "source": []
  }
 ],
 "metadata": {
  "kernelspec": {
   "display_name": "Python 3",
   "language": "python",
   "name": "python3"
  },
  "language_info": {
   "codemirror_mode": {
    "name": "ipython",
    "version": 3
   },
   "file_extension": ".py",
   "mimetype": "text/x-python",
   "name": "python",
   "nbconvert_exporter": "python",
   "pygments_lexer": "ipython3",
   "version": "3.6.7"
  }
 },
 "nbformat": 4,
 "nbformat_minor": 2
}
