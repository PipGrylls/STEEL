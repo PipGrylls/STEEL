{
 "cells": [
  {
   "cell_type": "code",
   "execution_count": 2,
   "metadata": {},
   "outputs": [
    {
     "name": "stderr",
     "output_type": "stream",
     "text": [
      "/data/pg1g15/STEEL/Notebooks/Science/../../Scripts/CentralPostprocessing.py:14: UserWarning: matplotlib.pyplot as already been imported, this call will have no effect.\n",
      "  mpl.use('agg')\n",
      "/home/pg1g15/anaconda3/lib/python3.6/site-packages/matplotlib/__init__.py:886: MatplotlibDeprecationWarning: \n",
      "examples.directory is deprecated; in the future, examples will be found relative to the 'datapath' directory.\n",
      "  \"found relative to the 'datapath' directory.\".format(key))\n",
      "/home/pg1g15/anaconda3/lib/python3.6/site-packages/matplotlib/__init__.py:855: MatplotlibDeprecationWarning: \n",
      "examples.directory is deprecated; in the future, examples will be found relative to the 'datapath' directory.\n",
      "  \"found relative to the 'datapath' directory.\".format(key))\n",
      "/home/pg1g15/anaconda3/lib/python3.6/site-packages/matplotlib/__init__.py:846: MatplotlibDeprecationWarning: \n",
      "The text.latex.unicode rcparam was deprecated in Matplotlib 2.2 and will be removed in 3.1.\n",
      "  \"2.2\", name=key, obj_type=\"rcparam\", addendum=addendum)\n",
      "/home/pg1g15/anaconda3/lib/python3.6/site-packages/matplotlib/__init__.py:886: MatplotlibDeprecationWarning: \n",
      "examples.directory is deprecated; in the future, examples will be found relative to the 'datapath' directory.\n",
      "  \"found relative to the 'datapath' directory.\".format(key))\n",
      "/home/pg1g15/anaconda3/lib/python3.6/site-packages/matplotlib/__init__.py:855: MatplotlibDeprecationWarning: \n",
      "examples.directory is deprecated; in the future, examples will be found relative to the 'datapath' directory.\n",
      "  \"found relative to the 'datapath' directory.\".format(key))\n",
      "/home/pg1g15/anaconda3/lib/python3.6/site-packages/matplotlib/__init__.py:846: MatplotlibDeprecationWarning: \n",
      "The text.latex.unicode rcparam was deprecated in Matplotlib 2.2 and will be removed in 3.1.\n",
      "  \"2.2\", name=key, obj_type=\"rcparam\", addendum=addendum)\n"
     ]
    }
   ],
   "source": [
    "import os\n",
    "import sys\n",
    "AbsPath = str(os.path.abspath(\"\"))+\"/../..\"\n",
    "sys.path.append(AbsPath)\n",
    "import importlib\n",
    "import pickle\n",
    "import numpy as np\n",
    "import matplotlib as mpl\n",
    "import colossus.halo.mass_adv as massdefs\n",
    "from matplotlib.gridspec import GridSpec\n",
    "from itertools import cycle\n",
    "import matplotlib.pyplot as plt\n",
    "import matplotlib.ticker as tik\n",
    "from Functions import Functions as F\n",
    "from Scripts.CentralPostprocessing import PairFractionData\n",
    "from colossus.cosmology import cosmology\n",
    "cosmology.setCosmology(\"planck15\")\n",
    "Cosmo =cosmology.getCurrent()\n",
    "HMF_fun = F.Make_HMF_Interp() #N Mpc^-3 h^3 dex^-1, Args are (Mass, Redshift)\n",
    "h = Cosmo.h\n",
    "h_3 = h*h*h"
   ]
  },
  {
   "cell_type": "code",
   "execution_count": 63,
   "metadata": {},
   "outputs": [
    {
     "name": "stderr",
     "output_type": "stream",
     "text": [
      "/data/pg1g15/STEEL/Notebooks/Science/../../Scripts/Plots/SDSS_Plots.py:94: SettingWithCopyWarning: \n",
      "A value is trying to be set on a copy of a slice from a DataFrame\n",
      "\n",
      "See the caveats in the documentation: http://pandas.pydata.org/pandas-docs/stable/indexing.html#indexing-view-versus-copy\n",
      "  self.df_cent.loc[self.Photomotry] = self.df_cent[self.Photomotry] + 0.025\n"
     ]
    },
    {
     "name": "stdout",
     "output_type": "stream",
     "text": [
      "FRACKSKY= 0.1404020420493216\n"
     ]
    }
   ],
   "source": [
    "from Scripts.Plots import SDSS_Plots\n",
    "Add_SDSS = SDSS_Plots.SDSS_Plots(11.5,15,0.1)"
   ]
  },
  {
   "cell_type": "code",
   "execution_count": 3,
   "metadata": {},
   "outputs": [],
   "source": [
    "#Abundance Matching Parameters\n",
    "Override =\\\n",
    "{\\\n",
    "'M10':12.0,\\\n",
    "'SHMnorm10':0.032,\\\n",
    "'beta10':1.5,\\\n",
    "'gamma10':0.56,\\\n",
    "'M11':0.6,\\\n",
    "'SHMnorm11':-0.014,\\\n",
    "'beta11':-0.7,\\\n",
    "'gamma11':0.08\\\n",
    "}\n",
    "\n",
    "AbnMtch =\\\n",
    "{\\\n",
    "'Behroozi13': False,\\\n",
    "'Behroozi18': False,\\\n",
    "'B18c':False,\\\n",
    "'B18t':False,\\\n",
    "'G18':False,\\\n",
    "'G18_notSE':False,\\\n",
    "'G19_SE':True,\\\n",
    "'G19_cMod':False,\\\n",
    "'Lorenzo18':False,\\\n",
    "'Moster': False,\\\n",
    "'Moster10': False,\\\n",
    "'Illustris':False,\\\n",
    "'z_Evo':True,\\\n",
    "'Scatter': 0.15,\\\n",
    "'Override_0': False,\\\n",
    "'Override_z': False,\\\n",
    "'Override': Override,\\\n",
    "'PFT': False,\\\n",
    "'M_PFT1': False,\\\n",
    "'M_PFT2': False,\\\n",
    "'M_PFT3': False,\\\n",
    "'N_PFT1': False,\\\n",
    "'N_PFT2': False,\\\n",
    "'N_PFT3': False,\\\n",
    "'b_PFT1': False,\\\n",
    "'b_PFT2': False,\\\n",
    "'b_PFT3': False,\\\n",
    "'g_PFT1': False,\\\n",
    "'g_PFT2': False,\\\n",
    "'g_PFT4': False,\\\n",
    "'HMevo': False,\\\n",
    "'HMevo_param': None\\\n",
    "}\n",
    "\n",
    "Paramaters = \\\n",
    "{\\\n",
    "'AbnMtch' : AbnMtch,\\\n",
    "'AltDynamicalTime': 1,\\\n",
    "'NormRnd': 0.5,\\\n",
    "'SFR_Model': 'CE'\\\n",
    "}"
   ]
  },
  {
   "cell_type": "code",
   "execution_count": 4,
   "metadata": {},
   "outputs": [],
   "source": [
    "#set plot paramaters here\n",
    "plt.rcParams['ytick.minor.visible']=True\n",
    "plt.rcParams['xtick.minor.visible']=True\n",
    "plt.rcParams['axes.linewidth']=2\n",
    "plt.rcParams['xtick.major.size'] = 5\n",
    "plt.rcParams['ytick.major.size'] = 5\n",
    "plt.rcParams['xtick.minor.size'] = 3\n",
    "plt.rcParams['ytick.minor.size'] = 3\n",
    "plt.rcParams['xtick.major.width'] = 1\n",
    "plt.rcParams['ytick.major.width'] = 1\n",
    "plt.rcParams['xtick.minor.width'] = 1\n",
    "plt.rcParams['ytick.minor.width'] = 1\n",
    "mpl.rcParams['axes.titlepad'] = 20\n",
    "plt.rcParams['font.size']=15\n",
    "plt.rcParams['lines.linewidth']=2"
   ]
  },
  {
   "cell_type": "markdown",
   "metadata": {},
   "source": [
    "get the steel data"
   ]
  },
  {
   "cell_type": "code",
   "execution_count": 5,
   "metadata": {},
   "outputs": [],
   "source": [
    "def Fit_to_Str(Fit):\n",
    "    Str_Out = \"\"\n",
    "    for i in Fit:\n",
    "        Str_Out += str(i)+\"_\"\n",
    "    return Str_Out\n",
    "fit_name = Fit_to_Str(('1.0', True, True, True, 'CE', 'G19_SE'))\n",
    "central_pp_class = pickle.load(open(AbsPath+\"/Scripts/CentralPostprocessing/\"+fit_name+\".pkl\", 'rb'))"
   ]
  },
  {
   "cell_type": "markdown",
   "metadata": {},
   "source": [
    "make the hmf at the redshifts of interest"
   ]
  },
  {
   "cell_type": "code",
   "execution_count": 6,
   "metadata": {},
   "outputs": [],
   "source": [
    "#Get HMF in massrange 11-15.5\n",
    "hm_bin = 0.01\n",
    "hm_min, hm_max = 11.5, 15.5\n",
    "hm_range = np.arange(hm_min, hm_max, hm_bin) #h^-1\n",
    "#make HMF at 0.1, 0.5, 1, 2, 3\n",
    "z = [0.1, 0.2, 0.5, 1, 2, 3]\n",
    "\n",
    "hmf = HMF_fun(hm_range, z) #N Mpc^-3 h^3 dex^-1"
   ]
  },
  {
   "cell_type": "code",
   "execution_count": 81,
   "metadata": {},
   "outputs": [
    {
     "data": {
      "text/plain": [
       "array([-4.07984939])"
      ]
     },
     "execution_count": 81,
     "metadata": {},
     "output_type": "execute_result"
    }
   ],
   "source": [
    "np.log10(HMF_fun(14, 0.1))"
   ]
  },
  {
   "cell_type": "code",
   "execution_count": 62,
   "metadata": {},
   "outputs": [
    {
     "data": {
      "image/png": "[encoded data removed]",
      "text/plain": [
       "<Figure size 432x288 with 1 Axes>"
      ]
     },
     "metadata": {
      "needs_background": "light"
     },
     "output_type": "display_data"
    }
   ],
   "source": [
    "plt.plot(hm_range, np.log10(hmf[0]))\n",
    "plt.plot(hm_range, np.log10(hmf[3]))\n",
    "plt.ylim(-10, -1)\n",
    "plt.show()"
   ]
  },
  {
   "cell_type": "markdown",
   "metadata": {},
   "source": [
    "pick the volume"
   ]
  },
  {
   "cell_type": "code",
   "execution_count": 52,
   "metadata": {},
   "outputs": [],
   "source": [
    "#side and volume\n",
    "side = 500*h #mpc h^-1\n",
    "vol = side**3 #mpc^3 h^-3\n",
    "#multiply the HMF appropiately\n",
    "hmf_vol = hmf*vol*hm_bin #N"
   ]
  },
  {
   "cell_type": "markdown",
   "metadata": {},
   "source": [
    "Make HM and SM catlouges"
   ]
  },
  {
   "cell_type": "code",
   "execution_count": 53,
   "metadata": {},
   "outputs": [
    {
     "name": "stdout",
     "output_type": "stream",
     "text": [
      "Number of haloes: 484404 Number of haloes: 488124 Number of haloes: 489550 Number of haloes: 456740 Number of haloes: 304239 Number of haloes: 149038 "
     ]
    }
   ],
   "source": [
    "hm_range_flip = np.flip(hm_range)\n",
    "haloes_z = []\n",
    "galaxies_z = []\n",
    "\n",
    "for j, hmf_zstep in enumerate(hmf_vol):\n",
    "    total = 0\n",
    "    max_mass = hm_range_flip[0]+(hm_bin)\n",
    "    haloes = np.array([])\n",
    "    for i, number in enumerate(np.flip(hmf_zstep)):\n",
    "        total += number\n",
    "        if total >= 1:\n",
    "            min_mass = hm_range_flip[i]\n",
    "            #spawn number of haloes \n",
    "            haloes = np.concatenate((haloes, ((max_mass-min_mass)*np.random.random(size = int(total//1)) + min_mass)))\n",
    "            #any carryover (in theory should also slightly correct max mass but this is egregiously padantic)\n",
    "            total = total%1\n",
    "            max_mass = min_mass\n",
    "    galaxies = F.DarkMatterToStellarMass(haloes-np.log10(h), z[j], Paramaters, ScatterOn = True)\n",
    "    galaxies_z.append(galaxies)\n",
    "    haloes_z.append(haloes)\n",
    "    print(\"Number of haloes: \" + str(len(haloes_z[-1])), end =\" \")"
   ]
  },
  {
   "cell_type": "code",
   "execution_count": 54,
   "metadata": {},
   "outputs": [
    {
     "data": {
      "text/plain": [
       "array([0.26032139, 0.25855746, 0.25604564, 0.25216516, 0.24572279,\n",
       "       0.23592338, 0.22216061, 0.20326151, 0.17989684, 0.15363084,\n",
       "       0.12753584, 0.10430382, 0.08592436, 0.07236037, 0.06304067,\n",
       "       0.05679547, 0.05290436, 0.05040274, 0.04886127, 0.04790023,\n",
       "       0.04731552, 0.04686327, 0.04666035, 0.04659052, 0.04647002,\n",
       "       0.04619556, 0.04636624, 0.04622809, 0.04617859, 0.04614373,\n",
       "       0.04609981, 0.04593491, 0.04596051, 0.04603397, 0.04599596,\n",
       "       0.04566807, 0.04576237, 0.04560877, 0.04561664, 0.04545095,\n",
       "       0.04542098, 0.04508968, 0.04503399, 0.04529039, 0.04502883,\n",
       "       0.04450431, 0.04450618, 0.04426801, 0.04411781, 0.04382771,\n",
       "       0.04371167, 0.04281797, 0.04270568, 0.04323909, 0.04255595,\n",
       "       0.04128324, 0.04128324])"
      ]
     },
     "execution_count": 54,
     "metadata": {},
     "output_type": "execute_result"
    }
   ],
   "source": [
    "ava_sm_bins[0]"
   ]
  },
  {
   "cell_type": "code",
   "execution_count": 68,
   "metadata": {},
   "outputs": [],
   "source": []
  },
  {
   "cell_type": "code",
   "execution_count": 84,
   "metadata": {},
   "outputs": [
    {
     "name": "stdout",
     "output_type": "stream",
     "text": [
      "(array([    0,     0,     0,     0,    34,  2976, 29024, 67737, 71297,\n",
      "       59624, 48297, 38597, 30502, 24336, 19634, 15957, 13637, 11284,\n",
      "        9469,  7857,  6634,  5606,  4422,  3693,  3023,  2415,  1968,\n",
      "        1474,  1226,   912,   663,   565,   432,   323,   232,   158,\n",
      "         131,    85,    55,    57,    20,    14,    15,     9,     6,\n",
      "           2,     1,     1,     0,     0,     0,     0,     0,     0,\n",
      "           0,     0]), array([ 8.24191003,  8.50223142,  8.76078888,  9.01683452,  9.26899968,\n",
      "        9.51472247,  9.75064585,  9.97280646, 10.17606797, 10.3559648 ,\n",
      "       10.50959565, 10.63713149, 10.74143531, 10.82735967, 10.89972005,\n",
      "       10.96276071, 11.01955618, 11.07246054, 11.12286328, 11.17172455,\n",
      "       11.21962478, 11.2669403 , 11.31380356, 11.36046391, 11.40705443,\n",
      "       11.45352445, 11.49972001, 11.54608625, 11.59231434, 11.63849293,\n",
      "       11.68463666, 11.73073647, 11.77667138, 11.8226319 , 11.86866587,\n",
      "       11.91466182, 11.96032989, 12.00609226, 12.05170103, 12.09731767,\n",
      "       12.14276862, 12.1881896 , 12.23327928, 12.27831326, 12.32360366,\n",
      "       12.36863249, 12.41313679, 12.45764297, 12.50191098, 12.54602879,\n",
      "       12.58985651, 12.63356818, 12.67638615, 12.71909183, 12.76233091,\n",
      "       12.80488686, 12.8461701 ]))\n",
      "(array([    0,     0,     1,   114,  6668, 47706, 80901, 70741, 54284,\n",
      "       41420, 31044, 23265, 18180, 14133, 11643,  9565,  8226,  6993,\n",
      "        5904,  5173,  4301,  3536,  2988,  2484,  1904,  1502,  1176,\n",
      "         846,   605,   475,   335,   213,   146,   103,    73,    37,\n",
      "          23,    13,     5,     6,     3,     2,     3,     0,     0,\n",
      "           0,     0,     0,     0,     0,     0,     0,     0,     0,\n",
      "           0,     0]), array([ 8.24191003,  8.50223142,  8.76078888,  9.01683452,  9.26899968,\n",
      "        9.51472247,  9.75064585,  9.97280646, 10.17606797, 10.3559648 ,\n",
      "       10.50959565, 10.63713149, 10.74143531, 10.82735967, 10.89972005,\n",
      "       10.96276071, 11.01955618, 11.07246054, 11.12286328, 11.17172455,\n",
      "       11.21962478, 11.2669403 , 11.31380356, 11.36046391, 11.40705443,\n",
      "       11.45352445, 11.49972001, 11.54608625, 11.59231434, 11.63849293,\n",
      "       11.68463666, 11.73073647, 11.77667138, 11.8226319 , 11.86866587,\n",
      "       11.91466182, 11.96032989, 12.00609226, 12.05170103, 12.09731767,\n",
      "       12.14276862, 12.1881896 , 12.23327928, 12.27831326, 12.32360366,\n",
      "       12.36863249, 12.41313679, 12.45764297, 12.50191098, 12.54602879,\n",
      "       12.58985651, 12.63356818, 12.67638615, 12.71909183, 12.76233091,\n",
      "       12.80488686, 12.8461701 ]))\n"
     ]
    },
    {
     "data": {
      "image/png": "[encoded data removed]",
      "text/plain": [
       "<Figure size 432x288 with 1 Axes>"
      ]
     },
     "metadata": {
      "needs_background": "light"
     },
     "output_type": "display_data"
    }
   ],
   "source": [
    "ava_sm_bins = central_pp_class.AvaStellarMassBins\n",
    "SMF_Bins, Y_t, Y_t_e, Y_sat, Y_sat_e, Y_cen, Y_cen_e =  Add_SDSS.SMF_Data()\n",
    "plt.errorbar(SMF_Bins[1:], Y_cen[1:], yerr=Y_cen_e[:,1:], color = \"k\")\n",
    "Hist = np.histogram(galaxies_z[0], bins = ava_sm[0])\n",
    "print(Hist)\n",
    "plt.plot(Hist[1][:-1]-ava_sm_bins[0][:-1], np.log10(Hist[0]/(vol*ava_sm_bins[0][:-1]))+np.log10(h**3))\n",
    "Hist = np.histogram(galaxies_z[3], bins = ava_sm[0])\n",
    "print(Hist)\n",
    "plt.plot(Hist[1][:-1]-ava_sm_bins[0][:-1], np.log10(Hist[0]/(vol*ava_sm_bins[0][:-1]))+np.log10(h**3))\n",
    "plt.xlim(9, 12.5)\n",
    "plt.ylim(-6, -1.5)\n",
    "plt.show()"
   ]
  },
  {
   "cell_type": "code",
   "execution_count": null,
   "metadata": {},
   "outputs": [],
   "source": []
  },
  {
   "cell_type": "code",
   "execution_count": 12,
   "metadata": {},
   "outputs": [
    {
     "name": "stderr",
     "output_type": "stream",
     "text": [
      "/home/pg1g15/anaconda3/lib/python3.6/site-packages/numpy/core/fromnumeric.py:2920: RuntimeWarning: Mean of empty slice.\n",
      "  out=out, **kwargs)\n",
      "/home/pg1g15/anaconda3/lib/python3.6/site-packages/numpy/core/_methods.py:140: RuntimeWarning: Degrees of freedom <= 0 for slice\n",
      "  keepdims=keepdims)\n"
     ]
    },
    {
     "data": {
      "image/png": "[encoded data removed]",
      "text/plain": [
       "<Figure size 720x288 with 1 Axes>"
      ]
     },
     "metadata": {
      "needs_background": "light"
     },
     "output_type": "display_data"
    }
   ],
   "source": [
    "ava_hm = central_pp_class.AvaHaloMass\n",
    "ava_hm_bins = central_pp_class.AvaHaloMassBins\n",
    "ava_sm = central_pp_class.AvaStellarMass\n",
    "ava_sm_bins = central_pp_class.AvaStellarMassBins\n",
    "z_class = central_pp_class.z\n",
    "\n",
    "\n",
    "f, plot = plt.subplots(1, 1, figsize = (10, 4))\n",
    "\n",
    "colours = [\"C0\", \"C1\", \"C2\", \"C3\", \"C4\", \"C5\", \"C6\", \"C7\", \"C8\", \"C9\", \"k\"]\n",
    "colourcycler = cycle(colours)\n",
    "\n",
    "#arbitrelly picking masses to slice at\n",
    "hm_slices = [-40, -30, -20, -10]\n",
    "\n",
    "#loop over the slices\n",
    "for hm_slice in hm_slices:\n",
    "    colour = next(colourcycler)\n",
    "    #get the redshift steps from the catlouge\n",
    "    z_bins = np.digitize(z, bins = z_class) +1\n",
    "    hm_at_z = ava_hm[:,hm_slice][z_bins]\n",
    "\n",
    "\n",
    "    #get the halo masses to make the catlouge cut with\n",
    "    halo_masses = ava_hm[:,hm_slice][z_bins]\n",
    "    halo_masses_bin = ava_hm_bins[:,hm_slice][z_bins]\n",
    "\n",
    "    means, stds = [], []\n",
    "    for i, z_bin in enumerate(z_bins):\n",
    "        mask = np.ma.masked_inside(haloes_z[i], halo_masses[i], halo_masses[i]+(halo_masses_bin[i])).mask\n",
    "        mean, std = np.mean(galaxies_z[i][mask]), np.std(galaxies_z[i][mask])\n",
    "        #print(galaxies_z[i][mask])\n",
    "        means.append(mean)\n",
    "        stds.append(std)\n",
    "\n",
    "    plot.errorbar(z, means, yerr = stds, fmt = \"x\", color = colour)\n",
    "    plot.plot(z_class, ava_sm[:,hm_slice], color = colour, alpha = 50)\n",
    "\n",
    "\n",
    "plot.set_xlim(0.1, 3.1)\n",
    "plot.set_xscale(\"log\")\n",
    "plot.set_xticks([0.1,0.5,1,2,3])\n",
    "plot.set_xticklabels([\"0.1\",\"0.5\",\"1\",\"2\",\"3\"])\n",
    "plot.set_xlabel(\"z\")\n",
    "plot.set_ylabel(\"$\\mathrm{log_{10}}$ $\\mathrm{M_*}$ $\\mathrm{[M_\\odot]}$\")\n",
    "plt.show()"
   ]
  },
  {
   "cell_type": "code",
   "execution_count": null,
   "metadata": {},
   "outputs": [],
   "source": []
  },
  {
   "cell_type": "code",
   "execution_count": null,
   "metadata": {},
   "outputs": [],
   "source": []
  },
  {
   "cell_type": "code",
   "execution_count": null,
   "metadata": {},
   "outputs": [],
   "source": []
  }
 ],
 "metadata": {
  "kernelspec": {
   "display_name": "Python 3",
   "language": "python",
   "name": "python3"
  },
  "language_info": {
   "codemirror_mode": {
    "name": "ipython",
    "version": 3
   },
   "file_extension": ".py",
   "mimetype": "text/x-python",
   "name": "python",
   "nbconvert_exporter": "python",
   "pygments_lexer": "ipython3",
   "version": "3.6.7"
  }
 },
 "nbformat": 4,
 "nbformat_minor": 2
}
